{
 "cells": [
  {
   "cell_type": "code",
   "execution_count": 0,
   "metadata": {
    "application/vnd.databricks.v1+cell": {
     "cellMetadata": {
      "byteLimit": 2048000,
      "rowLimit": 10000
     },
     "inputWidgets": {},
     "nuid": "56ccb8ff-6db2-4080-b2c9-d2bfcc7ea650",
     "showTitle": false,
     "tableResultSettingsMap": {},
     "title": ""
    }
   },
   "outputs": [],
   "source": [
    "import pyspark\n",
    "import pyspark.sql.functions\n",
    "from pyspark.sql.functions import count, sum as _sum, asc, desc, col, countDistinct\n",
    "from pyspark.sql import SparkSession\n",
    "\n",
    "spark = SparkSession.builder.appName('Pyspark').getOrCreate()"
   ]
  },
  {
   "cell_type": "code",
   "execution_count": 0,
   "metadata": {
    "application/vnd.databricks.v1+cell": {
     "cellMetadata": {
      "byteLimit": 2048000,
      "rowLimit": 10000
     },
     "inputWidgets": {},
     "nuid": "1ff90e57-54fd-4cb4-bebb-3527912836ce",
     "showTitle": false,
     "tableResultSettingsMap": {},
     "title": ""
    }
   },
   "outputs": [],
   "source": [
    "filepath = 'dbfs:/FileStore/tables/'\n",
    "\n",
    "customer_dim = spark.read.csv(filepath + \"customer_dim.csv\", header = True, inferSchema = True)\n",
    "item_dim = spark.read.csv(filepath + \"item_dim.csv\", header = True, inferSchema = True)\n",
    "store_dim = spark.read.csv(filepath + \"store_dim.csv\", header = True, inferSchema = True)\n",
    "time_dim = spark.read.csv(filepath + \"time_dim.csv\", header = True, inferSchema = True)\n",
    "trans_dim = spark.read.csv(filepath + \"Trans_dim.csv\", header = True, inferSchema = True)\n",
    "fact_sales = spark.read.csv(filepath + \"fact_table-1.csv\", header = True, inferSchema = True)\n"
   ]
  },
  {
   "cell_type": "markdown",
   "metadata": {
    "application/vnd.databricks.v1+cell": {
     "cellMetadata": {},
     "inputWidgets": {},
     "nuid": "c62f2bb1-4a12-48f2-be34-dec3b303c62a",
     "showTitle": false,
     "tableResultSettingsMap": {},
     "title": ""
    }
   },
   "source": [
    "## Q4.1. Top 10 highest selling items"
   ]
  },
  {
   "cell_type": "code",
   "execution_count": 0,
   "metadata": {
    "application/vnd.databricks.v1+cell": {
     "cellMetadata": {
      "byteLimit": 2048000,
      "rowLimit": 10000
     },
     "inputWidgets": {},
     "nuid": "b76aefb1-ec42-4cbd-aa20-18c166e3a728",
     "showTitle": false,
     "tableResultSettingsMap": {},
     "title": ""
    }
   },
   "outputs": [
    {
     "output_type": "stream",
     "name": "stdout",
     "output_type": "stream",
     "text": [
      "+--------------------+------------------+\n|           item_name|total_sales_amount|\n+--------------------+------------------+\n|       Red Bull 12oz|           1305700|\n|K Cups Daily Chef...|           1245394|\n|K Cups Original D...|           1188843|\n|K Cups Dunkin Don...|           1109760|\n|Muscle Milk Prote...|           1050924|\n|K Cups Folgers Li...|           1042406|\n|     Honey Packets  |           1012995|\n|K Cups � Starbuck...|            995456|\n|K Cups �Organic B...|            957516|\n|K Cups - McCafe P...|            956886|\n+--------------------+------------------+\n\n"
     ]
    }
   ],
   "source": [
    "result = (fact_sales.alias(\"f\")\n",
    "    .join(item_dim.alias(\"i\"), col(\"f.item_key\") == col(\"i.item_key\"))\n",
    "    .groupBy(\"item_name\")\n",
    "    .agg(_sum(col(\"total_price\").cast(\"integer\")).alias(\"total_sales_amount\"))\n",
    "    .orderBy(desc(\"total_sales_amount\"))\n",
    "    .limit(10)\n",
    ")\n",
    "\n",
    "result.show()\n"
   ]
  },
  {
   "cell_type": "markdown",
   "metadata": {
    "application/vnd.databricks.v1+cell": {
     "cellMetadata": {},
     "inputWidgets": {},
     "nuid": "52c1762f-5ec8-42c3-8e38-ee8ca47b17ba",
     "showTitle": false,
     "tableResultSettingsMap": {},
     "title": ""
    }
   },
   "source": [
    "## Q4.2. Top 10 items with the highest number of quantities sold\n"
   ]
  },
  {
   "cell_type": "code",
   "execution_count": 0,
   "metadata": {
    "application/vnd.databricks.v1+cell": {
     "cellMetadata": {
      "byteLimit": 2048000,
      "rowLimit": 10000
     },
     "inputWidgets": {},
     "nuid": "5460f917-61be-42ea-8741-6e6c3c0465bd",
     "showTitle": false,
     "tableResultSettingsMap": {},
     "title": ""
    }
   },
   "outputs": [
    {
     "output_type": "stream",
     "name": "stdout",
     "output_type": "stream",
     "text": [
      "+--------------------+-------------------+\n|           item_name|total_quantity_sold|\n+--------------------+-------------------+\n|  Pepsi - 12 oz cans|              46837|\n|Muscle Milk Prote...|              45665|\n|Coke Classic 12 o...|              45501|\n|Diet Coke - 12 oz...|              45202|\n| Sprite - 12 oz cans|              45140|\n|Diet Pepsi - 12 o...|              23969|\n|Nat.Valley Peanut...|              23958|\n|Nabisco Classic M...|              23852|\n|       Red Bull 12oz|              23740|\n|Cascade Gel Packs...|              23648|\n+--------------------+-------------------+\n\n"
     ]
    }
   ],
   "source": [
    "result = (\n",
    "    fact_sales\n",
    "    .join(item_dim, fact_sales[\"item_key\"] == item_dim[\"item_key\"], \"inner\")\n",
    "    .groupBy(\"item_name\")\n",
    "    .agg(_sum(col(\"quantity\").cast(\"int\")).alias(\"total_quantity_sold\"))\n",
    "    .orderBy(desc(\"total_quantity_sold\"))\n",
    "    .limit(10)\n",
    ")\n",
    "\n",
    "result.show()"
   ]
  },
  {
   "cell_type": "markdown",
   "metadata": {
    "application/vnd.databricks.v1+cell": {
     "cellMetadata": {},
     "inputWidgets": {},
     "nuid": "5513ba22-c543-4b2a-8f65-35a2c467f6d5",
     "showTitle": false,
     "tableResultSettingsMap": {},
     "title": ""
    }
   },
   "source": [
    "## Q4.3. Top 5 manufacturing country by quantity sold and ordered by total sales"
   ]
  },
  {
   "cell_type": "code",
   "execution_count": 0,
   "metadata": {
    "application/vnd.databricks.v1+cell": {
     "cellMetadata": {
      "byteLimit": 2048000,
      "rowLimit": 10000
     },
     "inputWidgets": {},
     "nuid": "5e550896-fc96-4d12-a027-08650c809f7b",
     "showTitle": false,
     "tableResultSettingsMap": {},
     "title": ""
    }
   },
   "outputs": [
    {
     "output_type": "stream",
     "name": "stdout",
     "output_type": "stream",
     "text": [
      "+-----------+-------------------+------------------+\n|man_country|total_quantity_sold|total_sales_amount|\n+-----------+-------------------+------------------+\n| Bangladesh|             772031|          13332668|\n|      India|             730625|          13151006|\n|  Lithuania|             592105|          11739725|\n|     poland|             635611|          10966500|\n|    Germany|             699848|          10948917|\n+-----------+-------------------+------------------+\n\n"
     ]
    }
   ],
   "source": [
    "result = (\n",
    "    fact_sales\n",
    "    .join(item_dim, fact_sales[\"item_key\"] == item_dim[\"item_key\"], \"inner\")\n",
    "    .groupBy(\"man_country\")\n",
    "    .agg(\n",
    "        _sum(col(\"quantity\").cast(\"int\")).alias(\"total_quantity_sold\"),\n",
    "        _sum(col(\"total_price\").cast(\"int\")).alias(\"total_sales_amount\")\n",
    "    )\n",
    "    .orderBy(desc(\"total_sales_amount\"))\n",
    "    .limit(5)\n",
    ")\n",
    "\n",
    "result.show()\n"
   ]
  },
  {
   "cell_type": "markdown",
   "metadata": {
    "application/vnd.databricks.v1+cell": {
     "cellMetadata": {},
     "inputWidgets": {},
     "nuid": "ef54a09a-d0a0-4ddf-9e59-a61fa9bd5b56",
     "showTitle": false,
     "tableResultSettingsMap": {},
     "title": ""
    }
   },
   "source": [
    "## Q4.4.\tYear, quarter and month with highest sales"
   ]
  },
  {
   "cell_type": "code",
   "execution_count": 0,
   "metadata": {
    "application/vnd.databricks.v1+cell": {
     "cellMetadata": {
      "byteLimit": 2048000,
      "rowLimit": 10000
     },
     "inputWidgets": {},
     "nuid": "b3fd5b52-ca53-4d9a-920c-0a095ae81440",
     "showTitle": false,
     "tableResultSettingsMap": {},
     "title": ""
    }
   },
   "outputs": [
    {
     "output_type": "stream",
     "name": "stdout",
     "output_type": "stream",
     "text": [
      "+----+-------+-----+------------------+\n|year|quarter|month|total_sales_amount|\n+----+-------+-----+------------------+\n|2014|     Q1|    1|         496549.25|\n|2021|     Q1|    1|         883772.25|\n|2014|     Q1|    2|         1122547.0|\n|2020|     Q1|    2|         1128964.0|\n|2017|     Q1|    2|         1144129.5|\n|2018|     Q1|    2|         1148761.5|\n|2019|     Q1|    2|         1149508.5|\n|2015|     Q1|    2|        1157159.75|\n|2019|     Q2|    6|         1158766.0|\n|2016|     Q2|    6|        1193281.75|\n|2015|     Q2|    4|         1193564.0|\n|2018|     Q2|    4|         1197510.0|\n|2020|     Q4|   11|        1200248.75|\n|2019|     Q2|    4|         1201298.0|\n|2016|     Q1|    1|         1202031.5|\n|2019|     Q4|   12|         1206605.5|\n|2016|     Q3|    8|         1208266.0|\n|2020|     Q2|    4|         1211492.0|\n|2014|     Q4|   11|        1211569.75|\n|2016|     Q4|   10|         1211723.5|\n+----+-------+-----+------------------+\nonly showing top 20 rows\n\n"
     ]
    }
   ],
   "source": [
    "result = (\n",
    "    fact_sales\n",
    "    .join(time_dim, fact_sales[\"time_key\"] == time_dim[\"time_key\"], \"inner\")\n",
    "    .groupBy(\"year\", \"quarter\", \"month\")\n",
    "    .agg(\n",
    "        _sum(col(\"total_price\").cast(\"float\")).alias(\"total_sales_amount\")\n",
    "    )\n",
    "    .orderBy(\n",
    "        asc(\"total_sales_amount\"),\n",
    "        asc(\"year\"),\n",
    "        asc(\"quarter\"),\n",
    "        asc(\"month\")\n",
    "    )\n",
    ")\n",
    "result.show()\n"
   ]
  },
  {
   "cell_type": "markdown",
   "metadata": {
    "application/vnd.databricks.v1+cell": {
     "cellMetadata": {},
     "inputWidgets": {},
     "nuid": "e9714441-f9bd-40c3-9f40-3e4471b48972",
     "showTitle": false,
     "tableResultSettingsMap": {},
     "title": ""
    }
   },
   "source": [
    "## Q4.5. Number of different transaction types by customer "
   ]
  },
  {
   "cell_type": "code",
   "execution_count": 0,
   "metadata": {
    "application/vnd.databricks.v1+cell": {
     "cellMetadata": {
      "byteLimit": 2048000,
      "rowLimit": 10000
     },
     "inputWidgets": {},
     "nuid": "7c2fe34c-6886-46d1-a53f-3f05b7d88329",
     "showTitle": false,
     "tableResultSettingsMap": {},
     "title": ""
    }
   },
   "outputs": [
    {
     "output_type": "stream",
     "name": "stdout",
     "output_type": "stream",
     "text": [
      "+-------------+----------------+---------------------+\n|coustomer_key|            name|count_used_trans_type|\n+-------------+----------------+---------------------+\n|      C000001|           sumit|                    3|\n|      C000002|        tammanne|                    3|\n|      C000003|   kailash kumar|                    3|\n|      C000004| bhagwati prasad|                    3|\n|      C000005|            ajay|                    3|\n|      C000006|        silender|                    3|\n|      C000007|          deepak|                    3|\n|      C000008|        akhilesh|                    3|\n|      C000009|  dipendra kumar|                    3|\n|      C000010|           nitin|                    3|\n|      C000011|doodhnath pandit|                    3|\n|      C000012|     aslam allam|                    3|\n|      C000013|           rahul|                    2|\n|      C000014|  jitender kumar|                    3|\n|      C000015|           adnan|                    3|\n|      C000016|           vijay|                    3|\n|      C000017|          yogesh|                    3|\n|      C000018|           kabir|                    3|\n|      C000019|         sarvesh|                    3|\n|      C000020|   rakesh sarkar|                    3|\n+-------------+----------------+---------------------+\nonly showing top 20 rows\n\n"
     ]
    }
   ],
   "source": [
    "result = (\n",
    "    fact_sales\n",
    "    .join(trans_dim, fact_sales[\"payment_key\"] == trans_dim[\"payment_key\"], \"inner\")\n",
    "    .join(customer_dim, fact_sales[\"coustomer_key\"] == customer_dim[\"coustomer_key\"], \"inner\")\n",
    "    .groupBy(fact_sales[\"coustomer_key\"], customer_dim[\"name\"])\n",
    "    .agg(\n",
    "        countDistinct(trans_dim[\"trans_type\"]).alias(\"count_used_trans_type\")\n",
    "    )\n",
    "    .orderBy(\n",
    "        asc(fact_sales[\"coustomer_key\"])\n",
    "    )\n",
    "    .filter(col(\"count_used_trans_type\") > 1)\n",
    ")\n",
    "\n",
    "result.show()\n"
   ]
  }
 ],
 "metadata": {
  "application/vnd.databricks.v1+notebook": {
   "computePreferences": null,
   "dashboards": [],
   "environmentMetadata": {
    "base_environment": "",
    "client": "1"
   },
   "language": "python",
   "notebookMetadata": {
    "pythonIndentUnit": 4
   },
   "notebookName": "Winter2425_Data_ETL_Pipelines_Final_Project",
   "widgets": {}
  }
 },
 "nbformat": 4,
 "nbformat_minor": 0
}
