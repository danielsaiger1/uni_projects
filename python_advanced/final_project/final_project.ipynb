{
 "cells": [
  {
   "cell_type": "markdown",
   "metadata": {},
   "source": [
    "Attribute Information:\n",
    "\n",
    "The data set contains raw process sensor data (i.e. without feature extraction) which are structured as matrices (tab-delimited) with the rows representing the cycles and the columns the data points within a cycle. The sensors involved are:\n",
    "\n",
    "Sensor\t\tPhysical quantity\t\tUnit\t\tSampling rate\n",
    "PS1\t\tPressure\t\t\tbar\t\t100 Hz\n",
    "PS2\t\tPressure\t\t\tbar\t\t100 Hz\n",
    "PS3\t\tPressure\t\t\tbar\t\t100 Hz\n",
    "PS4\t\tPressure\t\t\tbar\t\t100 Hz\n",
    "PS5\t\tPressure\t\t\tbar\t\t100 Hz\n",
    "PS6\t\tPressure\t\t\tbar\t\t100 Hz\n",
    "EPS1\t\tMotor power\t\t\tW\t\t100 Hz\n",
    "FS1\t\tVolume flow\t\t\tl/min\t\t10 Hz\n",
    "FS2\t\tVolume flow\t\t\tl/min\t\t10 Hz\n",
    "TS1\t\tTemperature\t\t\tÂ°C\t\t1 Hz\n",
    "TS2\t\tTemperature\t\t\tÂ°C\t\t1 Hz\n",
    "TS3\t\tTemperature\t\t\tÂ°C\t\t1 Hz\n",
    "TS4\t\tTemperature\t\t\tÂ°C\t\t1 Hz\n",
    "VS1\t\tVibration\t\t\tmm/s\t\t1 Hz\n",
    "CE\t\tCooling efficiency (virtual)\t%\t\t1 Hz\n",
    "CP\t\tCooling power (virtual)\t\tkW\t\t1 Hz\n",
    "SE\t\tEfficiency factor\t\t%\t\t1 Hz\n",
    "\n",
    "\n",
    "\n",
    "Has Missing Values?\n",
    "\n",
    "No"
   ]
  },
  {
   "cell_type": "code",
   "execution_count": 104,
   "metadata": {},
   "outputs": [],
   "source": [
    "import pandas as pd\n",
    "import numpy as np\n",
    "from numpy import loadtxt\n",
    "import matplotlib.pyplot as plt\n",
    "\n",
    "#PS: Pressure, bar, 100 Hz --> 100 Messungen pro Skeunde\n",
    "#EPS: Motor power, W, 100 Hz\n",
    "#FS: Volume flow, l/min, 10 Hz --> 10 Messungen pro Sekunde\n",
    "#TS: Temperature, Celsius, 1 Hz --> 1 Messung pro Sekunde\n",
    "#VS: Vibration, mm/s, 1Hz\n",
    "#CE: Cooling efficiency (virtual), %, 1 Hz\n",
    "#CP: Cooling power (virtual), kW, 1 Hz\n",
    "#SE: Efficency factor, %, 1 Hz\n",
    "\n",
    "\n",
    "input_path = \"input_data/\"\n",
    "file_names = [\n",
    "    \"ce\", \"cp\", \"eps1\", \"se\", \"vs1\", \n",
    "    \"fs1\", \"fs2\", \n",
    "    \"ps1\", \"ps2\", \"ps3\", \"ps4\", \"ps5\", \"ps6\",\n",
    "    \"ts1\", \"ts2\", \"ts3\", \"ts4\", \"target\"\n",
    "]\n",
    "\n",
    "data = {}\n",
    "\n",
    "for file_name in file_names:\n",
    "    data[file_name] = loadtxt(f\"{input_path}{file_name}.txt\")"
   ]
  },
  {
   "cell_type": "code",
   "execution_count": 105,
   "metadata": {},
   "outputs": [
    {
     "name": "stdout",
     "output_type": "stream",
     "text": [
      "Shape of ce:(2205, 60)\n",
      "Shape of cp:(2205, 60)\n",
      "Shape of eps1:(2205, 6000)\n",
      "Shape of se:(2205, 60)\n",
      "Shape of vs1:(2205, 60)\n",
      "Shape of fs1:(2205, 600)\n",
      "Shape of fs2:(2205, 600)\n",
      "Shape of ps1:(2205, 6000)\n",
      "Shape of ps2:(2205, 6000)\n",
      "Shape of ps3:(2205, 6000)\n",
      "Shape of ps4:(2205, 6000)\n",
      "Shape of ps5:(2205, 6000)\n",
      "Shape of ps6:(2205, 6000)\n",
      "Shape of ts1:(2205, 60)\n",
      "Shape of ts2:(2205, 60)\n",
      "Shape of ts3:(2205, 60)\n",
      "Shape of ts4:(2205, 60)\n",
      "Shape of target:(2205, 5)\n"
     ]
    }
   ],
   "source": [
    "for file_name in file_names:\n",
    "    print(f\"Shape of {file_name}:{data[file_name].shape}\")"
   ]
  },
  {
   "cell_type": "code",
   "execution_count": 106,
   "metadata": {},
   "outputs": [],
   "source": [
    "try:\n",
    "    target_columns = ['Cooler_Condition', 'Valve_Condition', \n",
    "                      'Internal_Pump_Leakage', 'Hydraulic_Accumulator', \n",
    "                      'Stable_Flag']\n",
    "    df_target = pd.DataFrame(data['target'], columns=target_columns)\n",
    "    df_target = df_target['Valve_Condition']  # Nur 'Valve_Condition' verwenden\n",
    "    del data['target']  # 'target' aus den übrigen Daten entfernen\n",
    "except Exception as e:\n",
    "    print(f\"Fehler beim Verarbeiten von 'target': {e}\")\n",
    "\n",
    "#df_target.head()"
   ]
  },
  {
   "cell_type": "code",
   "execution_count": 107,
   "metadata": {},
   "outputs": [
    {
     "data": {
      "text/plain": [
       "count    2205.000000\n",
       "mean       90.693878\n",
       "std        10.681802\n",
       "min        73.000000\n",
       "25%        80.000000\n",
       "50%       100.000000\n",
       "75%       100.000000\n",
       "max       100.000000\n",
       "Name: Valve_Condition, dtype: float64"
      ]
     },
     "execution_count": 107,
     "metadata": {},
     "output_type": "execute_result"
    }
   ],
   "source": [
    "df_target.describe()"
   ]
  },
  {
   "cell_type": "code",
   "execution_count": null,
   "metadata": {},
   "outputs": [],
   "source": [
    "fig, axes = plt.subplots(6, 3, figsize=(15, 20))\n",
    "axes = axes.flatten()  \n",
    "\n",
    "\n",
    "for i, key in enumerate(data):\n",
    "    ax = axes[i]\n",
    "    ax.plot(data[key], color = 'blue', linewidth = 1)\n",
    "    ax.plot(np.mean(data[key], axis=1), color = 'red') \n",
    "    ax.set_title(key) \n",
    "\n",
    "plt.tight_layout()\n",
    "plt.show()"
   ]
  },
  {
   "cell_type": "code",
   "execution_count": null,
   "metadata": {},
   "outputs": [],
   "source": [
    "for key, array in data.items():\n",
    "    print(f\"{key}: Mean = {round((np.mean(array)),4)}, Std = {round((np.std(array)),4)}, Min = {np.min(array)}, Max = {np.max(array)}\")"
   ]
  },
  {
   "cell_type": "code",
   "execution_count": null,
   "metadata": {},
   "outputs": [],
   "source": [
    "import numpy as np\n",
    "import matplotlib.pyplot as plt\n",
    "\n",
    "for key in data: \n",
    "    # Erstelle ein 2D-Array (zum Beispiel ein einfaches Bild oder eine Matrix)\n",
    "    image = data[key]\n",
    "\n",
    "    # Berechne die 2D-Fourier-Transformation\n",
    "    f_transform = np.fft.fft2(image)\n",
    "\n",
    "    # Verschiebe den Nullfrequenzanteil in die Mitte des Spektrums\n",
    "    f_transform_shifted = np.fft.fftshift(f_transform)\n",
    "\n",
    "    # Berechne das Magnitudespektrum (Betrag)\n",
    "    magnitude_spectrum = np.abs(f_transform_shifted)\n",
    "\n",
    "    # Berechne das Phasenspektrum (Phase)\n",
    "    phase_spectrum = np.angle(f_transform_shifted)\n",
    "\n",
    "    # Summiere das Magnitudespektrum entlang der Spalten (horizontale Richtung)\n",
    "    magnitude_spectrum_sum_cols = np.sum(magnitude_spectrum, axis=0)\n",
    "\n",
    "    # Plot des Magnitudespektrums als Summe entlang der Spalten\n",
    "    plt.figure(figsize=(12, 6))\n",
    "    plt.subplot(1, 2, 1)\n",
    "    plt.plot(magnitude_spectrum_sum_cols)\n",
    "    plt.title(f\"{key}: Magnitude Spectrum (Summe entlang der Spalten)\")\n",
    "    plt.xlabel(\"Spalten-Index\")\n",
    "    plt.ylabel(\"Summierte Magnitude\")\n",
    "\n",
    "    # Plot des Phasenspektrums\n",
    "    plt.subplot(1, 2, 2)\n",
    "    plt.imshow(phase_spectrum, cmap='twilight', aspect='auto')\n",
    "    plt.title(f\"{key}: Phase Spectrum\")\n",
    "    plt.colorbar(label='Phase (radians)')\n",
    "    plt.tight_layout()\n",
    "    plt.show()\n"
   ]
  },
  {
   "cell_type": "code",
   "execution_count": 115,
   "metadata": {},
   "outputs": [
    {
     "data": {
      "text/plain": [
       "2205"
      ]
     },
     "execution_count": 115,
     "metadata": {},
     "output_type": "execute_result"
    }
   ],
   "source": [
    "len(data['ce'].mean(axis = 1))"
   ]
  },
  {
   "cell_type": "code",
   "execution_count": null,
   "metadata": {},
   "outputs": [],
   "source": []
  },
  {
   "cell_type": "code",
   "execution_count": 116,
   "metadata": {},
   "outputs": [],
   "source": [
    "import numpy as np\n",
    "\n",
    "# Funktion zur Feature-Extraktion\n",
    "def extract_features(data):\n",
    "    # Sicherstellen, dass die Eingabe ein 2D-Array ist\n",
    "    features = {}\n",
    "    # Mittelwert, Median, Standardabweichung, Minimum, Maximum und Spannweite spaltenweise\n",
    "    features['mean'] = np.mean(data, axis=0)  # Mittelwert über Spalten\n",
    "    features['median'] = np.median(data, axis=0)  # Median über Spalten\n",
    "    features['std'] = np.std(data, axis=0)  # Standardabweichung über Spalten\n",
    "    features['min'] = np.min(data, axis=0)  # Minimum über Spalten\n",
    "    features['max'] = np.max(data, axis=0)  # Maximum über Spalten\n",
    "    features['range'] = features['max'] - features['min']  # Spannweite über Spalten\n",
    "\n",
    "    # Differenzen entlang der Zeilen\n",
    "    diffs = np.diff(data, axis=0)  # Differenzen entlang der Zeilen\n",
    "    features['mean_diff'] = np.mean(diffs, axis=0)  # Mittelwert der Differenzen\n",
    "    features['std_diff'] = np.std(diffs, axis=0)  # Standardabweichung der Differenzen\n",
    "\n",
    "    return features\n"
   ]
  },
  {
   "cell_type": "code",
   "execution_count": 127,
   "metadata": {},
   "outputs": [],
   "source": [
    "means = []\n",
    "for key in data:\n",
    "    means.append(data[key].mean(axis = 1))"
   ]
  },
  {
   "cell_type": "code",
   "execution_count": 132,
   "metadata": {},
   "outputs": [
    {
     "data": {
      "text/html": [
       "<div>\n",
       "<style scoped>\n",
       "    .dataframe tbody tr th:only-of-type {\n",
       "        vertical-align: middle;\n",
       "    }\n",
       "\n",
       "    .dataframe tbody tr th {\n",
       "        vertical-align: top;\n",
       "    }\n",
       "\n",
       "    .dataframe thead th {\n",
       "        text-align: right;\n",
       "    }\n",
       "</style>\n",
       "<table border=\"1\" class=\"dataframe\">\n",
       "  <thead>\n",
       "    <tr style=\"text-align: right;\">\n",
       "      <th></th>\n",
       "      <th>test</th>\n",
       "    </tr>\n",
       "  </thead>\n",
       "  <tbody>\n",
       "    <tr>\n",
       "      <th>0</th>\n",
       "      <td>160.673492</td>\n",
       "    </tr>\n",
       "    <tr>\n",
       "      <th>1</th>\n",
       "      <td>160.603320</td>\n",
       "    </tr>\n",
       "    <tr>\n",
       "      <th>2</th>\n",
       "      <td>160.347720</td>\n",
       "    </tr>\n",
       "    <tr>\n",
       "      <th>3</th>\n",
       "      <td>160.188088</td>\n",
       "    </tr>\n",
       "    <tr>\n",
       "      <th>4</th>\n",
       "      <td>160.000472</td>\n",
       "    </tr>\n",
       "    <tr>\n",
       "      <th>...</th>\n",
       "      <td>...</td>\n",
       "    </tr>\n",
       "    <tr>\n",
       "      <th>2200</th>\n",
       "      <td>161.227572</td>\n",
       "    </tr>\n",
       "    <tr>\n",
       "      <th>2201</th>\n",
       "      <td>161.206070</td>\n",
       "    </tr>\n",
       "    <tr>\n",
       "      <th>2202</th>\n",
       "      <td>161.192120</td>\n",
       "    </tr>\n",
       "    <tr>\n",
       "      <th>2203</th>\n",
       "      <td>161.208917</td>\n",
       "    </tr>\n",
       "    <tr>\n",
       "      <th>2204</th>\n",
       "      <td>161.217128</td>\n",
       "    </tr>\n",
       "  </tbody>\n",
       "</table>\n",
       "<p>2205 rows × 1 columns</p>\n",
       "</div>"
      ],
      "text/plain": [
       "            test\n",
       "0     160.673492\n",
       "1     160.603320\n",
       "2     160.347720\n",
       "3     160.188088\n",
       "4     160.000472\n",
       "...          ...\n",
       "2200  161.227572\n",
       "2201  161.206070\n",
       "2202  161.192120\n",
       "2203  161.208917\n",
       "2204  161.217128\n",
       "\n",
       "[2205 rows x 1 columns]"
      ]
     },
     "execution_count": 132,
     "metadata": {},
     "output_type": "execute_result"
    }
   ],
   "source": [
    "ps1_mean = data['ps1'].mean(axis=1)\n",
    "df = pd.DataFrame(ps1_mean, columns=[\"test\"])\n",
    "df"
   ]
  },
  {
   "cell_type": "code",
   "execution_count": 136,
   "metadata": {},
   "outputs": [
    {
     "name": "stdout",
     "output_type": "stream",
     "text": [
      "        Spalte1   Spalte2      Spalte3    Spalte4   Spalte5   Spalte6  \\\n",
      "0     39.601350  1.862750  2538.929167  59.157183  0.576950  6.709815   \n",
      "1     25.786433  1.255550  2531.498900  59.335617  0.565850  6.715315   \n",
      "2     22.218233  1.113217  2519.928000  59.543150  0.576533  6.718522   \n",
      "3     20.459817  1.062150  2511.541633  59.794900  0.569267  6.720565   \n",
      "4     19.787017  1.070467  2503.449500  59.455267  0.577367  6.690308   \n",
      "...         ...       ...          ...        ...       ...       ...   \n",
      "2200  46.628517  2.160600  2543.911033  59.033100  0.550833  6.689930   \n",
      "2201  46.689817  2.151450  2543.411333  59.068000  0.547483  6.692182   \n",
      "2202  46.472300  2.143300  2542.729767  59.132350  0.545233  6.693277   \n",
      "2203  46.544967  2.148483  2544.046333  58.970800  0.537017  6.684128   \n",
      "2204  46.647933  2.157050  2543.818300  59.053900  0.546583  6.692302   \n",
      "\n",
      "        Spalte7     Spalte8     Spalte9  Spalte10   Spalte11  Spalte12  \\\n",
      "0     10.304592  160.673492  109.466914  1.991475   0.000000  9.842169   \n",
      "1     10.403098  160.603320  109.354890  1.976234   0.000000  9.635142   \n",
      "2     10.366250  160.347720  109.158845  1.972224   0.000000  9.530548   \n",
      "3     10.302678  160.188088  109.064807  1.946576   0.000000  9.438827   \n",
      "4     10.237750  160.000472  108.931434  1.922707   0.000000  9.358762   \n",
      "...         ...         ...         ...       ...        ...       ...   \n",
      "2200  10.184515  161.227572  109.779581  2.001438  10.202473  9.972037   \n",
      "2201  10.177767  161.206070  109.787481  1.998781  10.197919  9.966184   \n",
      "2202  10.176172  161.192120  109.756174  1.993436  10.196824  9.964329   \n",
      "2203  10.178353  161.208917  109.793884  2.007077  10.198588  9.968232   \n",
      "2204  10.183393  161.217128  109.792176  2.002690  10.203126  9.973638   \n",
      "\n",
      "      Spalte13   Spalte14   Spalte15   Spalte16   Spalte17  \n",
      "0     9.728098  35.621983  40.978767  38.471017  31.745250  \n",
      "1     9.529488  36.676967  41.532767  38.978967  34.493867  \n",
      "2     9.427949  37.880800  42.442450  39.631950  35.646150  \n",
      "3     9.337429  38.879050  43.403983  40.403383  36.579467  \n",
      "4     9.260636  39.803917  44.332750  41.310550  37.427900  \n",
      "...        ...        ...        ...        ...        ...  \n",
      "2200  9.850361  35.313783  40.874800  38.269267  30.404733  \n",
      "2201  9.844854  35.321600  40.868883  38.268250  30.416233  \n",
      "2202  9.842629  35.319183  40.875950  38.246367  30.426250  \n",
      "2203  9.846690  35.324767  40.876067  38.245733  30.414283  \n",
      "2204  9.851949  35.322233  40.859400  38.248917  30.390800  \n",
      "\n",
      "[2205 rows x 17 columns]\n",
      "(2205, 17)\n"
     ]
    }
   ],
   "source": [
    "# Transponiere die Daten, damit 17 Listen zu 17 Spalten werden\n",
    "transposed_data = list(map(list, zip(*means)))\n",
    "\n",
    "# Erstelle den DataFrame\n",
    "df = pd.DataFrame(transposed_data, columns=[f\"Spalte{i+1}\" for i in range(17)])\n",
    "\n",
    "# Ausgabe des DataFrames\n",
    "print(df)\n",
    "print(df.shape) "
   ]
  },
  {
   "cell_type": "code",
   "execution_count": 133,
   "metadata": {},
   "outputs": [
    {
     "ename": "ValueError",
     "evalue": "17 columns passed, passed data had 2205 columns",
     "output_type": "error",
     "traceback": [
      "\u001b[1;31m---------------------------------------------------------------------------\u001b[0m",
      "\u001b[1;31mAssertionError\u001b[0m                            Traceback (most recent call last)",
      "File \u001b[1;32mc:\\Users\\Daniel\\anaconda3\\envs\\py_adv\\Lib\\site-packages\\pandas\\core\\internals\\construction.py:939\u001b[0m, in \u001b[0;36m_finalize_columns_and_data\u001b[1;34m(content, columns, dtype)\u001b[0m\n\u001b[0;32m    938\u001b[0m \u001b[38;5;28;01mtry\u001b[39;00m:\n\u001b[1;32m--> 939\u001b[0m     columns \u001b[38;5;241m=\u001b[39m _validate_or_indexify_columns(contents, columns)\n\u001b[0;32m    940\u001b[0m \u001b[38;5;28;01mexcept\u001b[39;00m \u001b[38;5;167;01mAssertionError\u001b[39;00m \u001b[38;5;28;01mas\u001b[39;00m err:\n\u001b[0;32m    941\u001b[0m     \u001b[38;5;66;03m# GH#26429 do not raise user-facing AssertionError\u001b[39;00m\n",
      "File \u001b[1;32mc:\\Users\\Daniel\\anaconda3\\envs\\py_adv\\Lib\\site-packages\\pandas\\core\\internals\\construction.py:986\u001b[0m, in \u001b[0;36m_validate_or_indexify_columns\u001b[1;34m(content, columns)\u001b[0m\n\u001b[0;32m    984\u001b[0m \u001b[38;5;28;01mif\u001b[39;00m \u001b[38;5;129;01mnot\u001b[39;00m is_mi_list \u001b[38;5;129;01mand\u001b[39;00m \u001b[38;5;28mlen\u001b[39m(columns) \u001b[38;5;241m!=\u001b[39m \u001b[38;5;28mlen\u001b[39m(content):  \u001b[38;5;66;03m# pragma: no cover\u001b[39;00m\n\u001b[0;32m    985\u001b[0m     \u001b[38;5;66;03m# caller's responsibility to check for this...\u001b[39;00m\n\u001b[1;32m--> 986\u001b[0m     \u001b[38;5;28;01mraise\u001b[39;00m \u001b[38;5;167;01mAssertionError\u001b[39;00m(\n\u001b[0;32m    987\u001b[0m         \u001b[38;5;124mf\u001b[39m\u001b[38;5;124m\"\u001b[39m\u001b[38;5;132;01m{\u001b[39;00m\u001b[38;5;28mlen\u001b[39m(columns)\u001b[38;5;132;01m}\u001b[39;00m\u001b[38;5;124m columns passed, passed data had \u001b[39m\u001b[38;5;124m\"\u001b[39m\n\u001b[0;32m    988\u001b[0m         \u001b[38;5;124mf\u001b[39m\u001b[38;5;124m\"\u001b[39m\u001b[38;5;132;01m{\u001b[39;00m\u001b[38;5;28mlen\u001b[39m(content)\u001b[38;5;132;01m}\u001b[39;00m\u001b[38;5;124m columns\u001b[39m\u001b[38;5;124m\"\u001b[39m\n\u001b[0;32m    989\u001b[0m     )\n\u001b[0;32m    990\u001b[0m \u001b[38;5;28;01mif\u001b[39;00m is_mi_list:\n\u001b[0;32m    991\u001b[0m     \u001b[38;5;66;03m# check if nested list column, length of each sub-list should be equal\u001b[39;00m\n",
      "\u001b[1;31mAssertionError\u001b[0m: 17 columns passed, passed data had 2205 columns",
      "\nThe above exception was the direct cause of the following exception:\n",
      "\u001b[1;31mValueError\u001b[0m                                Traceback (most recent call last)",
      "Cell \u001b[1;32mIn[133], line 7\u001b[0m\n\u001b[0;32m      1\u001b[0m columns \u001b[38;5;241m=\u001b[39m [\n\u001b[0;32m      2\u001b[0m     \u001b[38;5;124m\"\u001b[39m\u001b[38;5;124mce\u001b[39m\u001b[38;5;124m\"\u001b[39m, \u001b[38;5;124m\"\u001b[39m\u001b[38;5;124mcp\u001b[39m\u001b[38;5;124m\"\u001b[39m, \u001b[38;5;124m\"\u001b[39m\u001b[38;5;124meps1\u001b[39m\u001b[38;5;124m\"\u001b[39m, \u001b[38;5;124m\"\u001b[39m\u001b[38;5;124mse\u001b[39m\u001b[38;5;124m\"\u001b[39m, \u001b[38;5;124m\"\u001b[39m\u001b[38;5;124mvs1\u001b[39m\u001b[38;5;124m\"\u001b[39m, \n\u001b[0;32m      3\u001b[0m     \u001b[38;5;124m\"\u001b[39m\u001b[38;5;124mfs1\u001b[39m\u001b[38;5;124m\"\u001b[39m, \u001b[38;5;124m\"\u001b[39m\u001b[38;5;124mfs2\u001b[39m\u001b[38;5;124m\"\u001b[39m, \n\u001b[0;32m      4\u001b[0m     \u001b[38;5;124m\"\u001b[39m\u001b[38;5;124mps1\u001b[39m\u001b[38;5;124m\"\u001b[39m, \u001b[38;5;124m\"\u001b[39m\u001b[38;5;124mps2\u001b[39m\u001b[38;5;124m\"\u001b[39m, \u001b[38;5;124m\"\u001b[39m\u001b[38;5;124mps3\u001b[39m\u001b[38;5;124m\"\u001b[39m, \u001b[38;5;124m\"\u001b[39m\u001b[38;5;124mps4\u001b[39m\u001b[38;5;124m\"\u001b[39m, \u001b[38;5;124m\"\u001b[39m\u001b[38;5;124mps5\u001b[39m\u001b[38;5;124m\"\u001b[39m, \u001b[38;5;124m\"\u001b[39m\u001b[38;5;124mps6\u001b[39m\u001b[38;5;124m\"\u001b[39m,\n\u001b[0;32m      5\u001b[0m     \u001b[38;5;124m\"\u001b[39m\u001b[38;5;124mts1\u001b[39m\u001b[38;5;124m\"\u001b[39m, \u001b[38;5;124m\"\u001b[39m\u001b[38;5;124mts2\u001b[39m\u001b[38;5;124m\"\u001b[39m, \u001b[38;5;124m\"\u001b[39m\u001b[38;5;124mts3\u001b[39m\u001b[38;5;124m\"\u001b[39m, \u001b[38;5;124m\"\u001b[39m\u001b[38;5;124mts4\u001b[39m\u001b[38;5;124m\"\u001b[39m\n\u001b[0;32m      6\u001b[0m ]\n\u001b[1;32m----> 7\u001b[0m df \u001b[38;5;241m=\u001b[39m pd\u001b[38;5;241m.\u001b[39mDataFrame(means, columns\u001b[38;5;241m=\u001b[39mcolumns)\n",
      "File \u001b[1;32mc:\\Users\\Daniel\\anaconda3\\envs\\py_adv\\Lib\\site-packages\\pandas\\core\\frame.py:851\u001b[0m, in \u001b[0;36mDataFrame.__init__\u001b[1;34m(self, data, index, columns, dtype, copy)\u001b[0m\n\u001b[0;32m    849\u001b[0m     \u001b[38;5;28;01mif\u001b[39;00m columns \u001b[38;5;129;01mis\u001b[39;00m \u001b[38;5;129;01mnot\u001b[39;00m \u001b[38;5;28;01mNone\u001b[39;00m:\n\u001b[0;32m    850\u001b[0m         columns \u001b[38;5;241m=\u001b[39m ensure_index(columns)\n\u001b[1;32m--> 851\u001b[0m     arrays, columns, index \u001b[38;5;241m=\u001b[39m nested_data_to_arrays(\n\u001b[0;32m    852\u001b[0m         \u001b[38;5;66;03m# error: Argument 3 to \"nested_data_to_arrays\" has incompatible\u001b[39;00m\n\u001b[0;32m    853\u001b[0m         \u001b[38;5;66;03m# type \"Optional[Collection[Any]]\"; expected \"Optional[Index]\"\u001b[39;00m\n\u001b[0;32m    854\u001b[0m         data,\n\u001b[0;32m    855\u001b[0m         columns,\n\u001b[0;32m    856\u001b[0m         index,  \u001b[38;5;66;03m# type: ignore[arg-type]\u001b[39;00m\n\u001b[0;32m    857\u001b[0m         dtype,\n\u001b[0;32m    858\u001b[0m     )\n\u001b[0;32m    859\u001b[0m     mgr \u001b[38;5;241m=\u001b[39m arrays_to_mgr(\n\u001b[0;32m    860\u001b[0m         arrays,\n\u001b[0;32m    861\u001b[0m         columns,\n\u001b[1;32m   (...)\u001b[0m\n\u001b[0;32m    864\u001b[0m         typ\u001b[38;5;241m=\u001b[39mmanager,\n\u001b[0;32m    865\u001b[0m     )\n\u001b[0;32m    866\u001b[0m \u001b[38;5;28;01melse\u001b[39;00m:\n",
      "File \u001b[1;32mc:\\Users\\Daniel\\anaconda3\\envs\\py_adv\\Lib\\site-packages\\pandas\\core\\internals\\construction.py:520\u001b[0m, in \u001b[0;36mnested_data_to_arrays\u001b[1;34m(data, columns, index, dtype)\u001b[0m\n\u001b[0;32m    517\u001b[0m \u001b[38;5;28;01mif\u001b[39;00m is_named_tuple(data[\u001b[38;5;241m0\u001b[39m]) \u001b[38;5;129;01mand\u001b[39;00m columns \u001b[38;5;129;01mis\u001b[39;00m \u001b[38;5;28;01mNone\u001b[39;00m:\n\u001b[0;32m    518\u001b[0m     columns \u001b[38;5;241m=\u001b[39m ensure_index(data[\u001b[38;5;241m0\u001b[39m]\u001b[38;5;241m.\u001b[39m_fields)\n\u001b[1;32m--> 520\u001b[0m arrays, columns \u001b[38;5;241m=\u001b[39m to_arrays(data, columns, dtype\u001b[38;5;241m=\u001b[39mdtype)\n\u001b[0;32m    521\u001b[0m columns \u001b[38;5;241m=\u001b[39m ensure_index(columns)\n\u001b[0;32m    523\u001b[0m \u001b[38;5;28;01mif\u001b[39;00m index \u001b[38;5;129;01mis\u001b[39;00m \u001b[38;5;28;01mNone\u001b[39;00m:\n",
      "File \u001b[1;32mc:\\Users\\Daniel\\anaconda3\\envs\\py_adv\\Lib\\site-packages\\pandas\\core\\internals\\construction.py:845\u001b[0m, in \u001b[0;36mto_arrays\u001b[1;34m(data, columns, dtype)\u001b[0m\n\u001b[0;32m    842\u001b[0m     data \u001b[38;5;241m=\u001b[39m [\u001b[38;5;28mtuple\u001b[39m(x) \u001b[38;5;28;01mfor\u001b[39;00m x \u001b[38;5;129;01min\u001b[39;00m data]\n\u001b[0;32m    843\u001b[0m     arr \u001b[38;5;241m=\u001b[39m _list_to_arrays(data)\n\u001b[1;32m--> 845\u001b[0m content, columns \u001b[38;5;241m=\u001b[39m _finalize_columns_and_data(arr, columns, dtype)\n\u001b[0;32m    846\u001b[0m \u001b[38;5;28;01mreturn\u001b[39;00m content, columns\n",
      "File \u001b[1;32mc:\\Users\\Daniel\\anaconda3\\envs\\py_adv\\Lib\\site-packages\\pandas\\core\\internals\\construction.py:942\u001b[0m, in \u001b[0;36m_finalize_columns_and_data\u001b[1;34m(content, columns, dtype)\u001b[0m\n\u001b[0;32m    939\u001b[0m     columns \u001b[38;5;241m=\u001b[39m _validate_or_indexify_columns(contents, columns)\n\u001b[0;32m    940\u001b[0m \u001b[38;5;28;01mexcept\u001b[39;00m \u001b[38;5;167;01mAssertionError\u001b[39;00m \u001b[38;5;28;01mas\u001b[39;00m err:\n\u001b[0;32m    941\u001b[0m     \u001b[38;5;66;03m# GH#26429 do not raise user-facing AssertionError\u001b[39;00m\n\u001b[1;32m--> 942\u001b[0m     \u001b[38;5;28;01mraise\u001b[39;00m \u001b[38;5;167;01mValueError\u001b[39;00m(err) \u001b[38;5;28;01mfrom\u001b[39;00m \u001b[38;5;21;01merr\u001b[39;00m\n\u001b[0;32m    944\u001b[0m \u001b[38;5;28;01mif\u001b[39;00m \u001b[38;5;28mlen\u001b[39m(contents) \u001b[38;5;129;01mand\u001b[39;00m contents[\u001b[38;5;241m0\u001b[39m]\u001b[38;5;241m.\u001b[39mdtype \u001b[38;5;241m==\u001b[39m np\u001b[38;5;241m.\u001b[39mobject_:\n\u001b[0;32m    945\u001b[0m     contents \u001b[38;5;241m=\u001b[39m convert_object_array(contents, dtype\u001b[38;5;241m=\u001b[39mdtype)\n",
      "\u001b[1;31mValueError\u001b[0m: 17 columns passed, passed data had 2205 columns"
     ]
    }
   ],
   "source": [
    "columns = [\n",
    "    \"ce\", \"cp\", \"eps1\", \"se\", \"vs1\", \n",
    "    \"fs1\", \"fs2\", \n",
    "    \"ps1\", \"ps2\", \"ps3\", \"ps4\", \"ps5\", \"ps6\",\n",
    "    \"ts1\", \"ts2\", \"ts3\", \"ts4\"\n",
    "]\n",
    "df = pd.DataFrame(means, columns=columns)"
   ]
  },
  {
   "cell_type": "code",
   "execution_count": null,
   "metadata": {},
   "outputs": [],
   "source": [
    "from sklearn.ensemble import AdaBoostClassifier\n",
    "from sklearn.tree import DecisionTreeClassifier\n",
    "from sklearn.model_selection import train_test_split\n",
    "from sklearn.metrics import accuracy_score, classification_report\n",
    "import pandas as pd\n",
    "\n",
    "# Extrahierte Features und Labels (ersetze dies mit deinem Datensatz)\n",
    "\n",
    "# Features und Zielvariable\n",
    "X = features_df\n",
    "y = df_target\n",
    "\n",
    "X.shape\n",
    "\n",
    "y.shape\n",
    "\n",
    "# Datenaufteilung\n",
    "X_train, X_test, y_train, y_test = train_test_split(X, y, test_size=0.2, random_state=42)\n",
    "\n",
    "\n",
    "# AdaBoost-Modell\n",
    "ada_model = AdaBoostClassifier(estimator=DecisionTreeClassifier(max_depth=1), n_estimators=50, random_state=42)\n",
    "\n",
    "# Training\n",
    "ada_model.fit(X_train, y_train)\n",
    "\n",
    "# Vorhersagen\n",
    "y_pred = ada_model.predict(X_test)\n",
    "\n",
    "# Modellbewertung\n",
    "accuracy = accuracy_score(y_test, y_pred)\n",
    "print(\"Accuracy:\", accuracy)\n",
    "print(\"\\nClassification Report:\")\n",
    "print(classification_report(y_test, y_pred))\n"
   ]
  }
 ],
 "metadata": {
  "kernelspec": {
   "display_name": "py_adv",
   "language": "python",
   "name": "python3"
  },
  "language_info": {
   "codemirror_mode": {
    "name": "ipython",
    "version": 3
   },
   "file_extension": ".py",
   "mimetype": "text/x-python",
   "name": "python",
   "nbconvert_exporter": "python",
   "pygments_lexer": "ipython3",
   "version": "3.12.7"
  }
 },
 "nbformat": 4,
 "nbformat_minor": 2
}
