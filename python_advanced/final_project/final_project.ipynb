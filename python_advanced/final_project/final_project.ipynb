{
 "cells": [
  {
   "cell_type": "code",
   "execution_count": null,
   "metadata": {},
   "outputs": [],
   "source": [
    "import pandas as pd\n",
    "import numpy as np\n",
    "from numpy import loadtxt\n",
    "\n",
    "#PS: Pressure, bar, 100 Hz\n",
    "#EPS: Motor power, W, 100 Hz\n",
    "#FS: Volume flow, l/min, 10 Hz\n",
    "#TS: Temperature, Celsius, 1 Hz\n",
    "#VS: Vibration, mm/s, 1Hz\n",
    "#CE: Cooling efficiency (virtual), %, 1 Hz\n",
    "#CP: Cooling power (virtual), kW, 1 Hz\n",
    "#SE: Efficency factor, %, 1 Hz\n",
    "\n",
    "\n",
    "input_path = \"input_data/\"\n",
    "file_names = [\n",
    "    \"ce\", \"cp\", \"eps1\", \"se\", \"vs1\", \n",
    "    \"fs1\", \"fs2\", \n",
    "    \"ps1\", \"ps2\", \"ps3\", \"ps4\", \"ps5\", \"ps6\",\n",
    "    \"ts1\", \"ts2\", \"ts3\", \"ts4\", \"target\"\n",
    "]\n",
    "\n",
    "data = {}\n",
    "\n",
    "for file_name in file_names:\n",
    "    data[file_name] = loadtxt(f\"{input_path}{file_name}.txt\")"
   ]
  },
  {
   "cell_type": "code",
   "execution_count": 12,
   "metadata": {},
   "outputs": [
    {
     "name": "stdout",
     "output_type": "stream",
     "text": [
      "Shape of ce:(2205, 60)\n",
      "Shape of cp:(2205, 60)\n",
      "Shape of eps1:(2205, 6000)\n",
      "Shape of se:(2205, 60)\n",
      "Shape of vs1:(2205, 60)\n",
      "Shape of fs1:(2205, 600)\n",
      "Shape of fs2:(2205, 600)\n",
      "Shape of ps1:(2205, 6000)\n",
      "Shape of ps2:(2205, 6000)\n",
      "Shape of ps3:(2205, 6000)\n",
      "Shape of ps4:(2205, 6000)\n",
      "Shape of ps5:(2205, 6000)\n",
      "Shape of ps6:(2205, 6000)\n",
      "Shape of ts1:(2205, 60)\n",
      "Shape of ts2:(2205, 60)\n",
      "Shape of ts3:(2205, 60)\n",
      "Shape of ts4:(2205, 60)\n",
      "Shape of target:(2205, 5)\n"
     ]
    }
   ],
   "source": [
    "for file_name in file_names:\n",
    "    print(f\"Shape of {file_name}:{data[file_name].shape}\")"
   ]
  }
 ],
 "metadata": {
  "kernelspec": {
   "display_name": "py_adv",
   "language": "python",
   "name": "python3"
  },
  "language_info": {
   "codemirror_mode": {
    "name": "ipython",
    "version": 3
   },
   "file_extension": ".py",
   "mimetype": "text/x-python",
   "name": "python",
   "nbconvert_exporter": "python",
   "pygments_lexer": "ipython3",
   "version": "3.12.7"
  }
 },
 "nbformat": 4,
 "nbformat_minor": 2
}
