{
 "cells": [
  {
   "cell_type": "markdown",
   "metadata": {},
   "source": [
    "Attribute Information:\n",
    "\n",
    "The data set contains raw process sensor data (i.e. without feature extraction) which are structured as matrices (tab-delimited) with the rows representing the cycles and the columns the data points within a cycle. The sensors involved are:\n",
    "\n",
    "Sensor\t\tPhysical quantity\t\tUnit\t\tSampling rate\n",
    "PS1\t\tPressure\t\t\tbar\t\t100 Hz\n",
    "PS2\t\tPressure\t\t\tbar\t\t100 Hz\n",
    "PS3\t\tPressure\t\t\tbar\t\t100 Hz\n",
    "PS4\t\tPressure\t\t\tbar\t\t100 Hz\n",
    "PS5\t\tPressure\t\t\tbar\t\t100 Hz\n",
    "PS6\t\tPressure\t\t\tbar\t\t100 Hz\n",
    "EPS1\t\tMotor power\t\t\tW\t\t100 Hz\n",
    "FS1\t\tVolume flow\t\t\tl/min\t\t10 Hz\n",
    "FS2\t\tVolume flow\t\t\tl/min\t\t10 Hz\n",
    "TS1\t\tTemperature\t\t\tÂ°C\t\t1 Hz\n",
    "TS2\t\tTemperature\t\t\tÂ°C\t\t1 Hz\n",
    "TS3\t\tTemperature\t\t\tÂ°C\t\t1 Hz\n",
    "TS4\t\tTemperature\t\t\tÂ°C\t\t1 Hz\n",
    "VS1\t\tVibration\t\t\tmm/s\t\t1 Hz\n",
    "CE\t\tCooling efficiency (virtual)\t%\t\t1 Hz\n",
    "CP\t\tCooling power (virtual)\t\tkW\t\t1 Hz\n",
    "SE\t\tEfficiency factor\t\t%\t\t1 Hz\n",
    "\n",
    "\n",
    "\n",
    "Has Missing Values?\n",
    "\n",
    "No"
   ]
  },
  {
   "cell_type": "code",
   "execution_count": 68,
   "metadata": {},
   "outputs": [],
   "source": [
    "import pandas as pd\n",
    "import numpy as np\n",
    "from numpy import loadtxt\n",
    "import matplotlib.pyplot as plt\n",
    "\n",
    "#PS: Pressure, bar, 100 Hz --> 100 Messungen pro Skeunde\n",
    "#EPS: Motor power, W, 100 Hz\n",
    "#FS: Volume flow, l/min, 10 Hz --> 10 Messungen pro Sekunde\n",
    "#TS: Temperature, Celsius, 1 Hz --> 1 Messung pro Sekunde\n",
    "#VS: Vibration, mm/s, 1Hz\n",
    "#CE: Cooling efficiency (virtual), %, 1 Hz\n",
    "#CP: Cooling power (virtual), kW, 1 Hz\n",
    "#SE: Efficency factor, %, 1 Hz\n",
    "\n",
    "\n",
    "input_path = \"input_data/\"\n",
    "file_names = [\n",
    "    \"ce\", \"cp\", \"eps1\", \"se\", \"vs1\", \n",
    "    \"fs1\", \"fs2\", \n",
    "    \"ps1\", \"ps2\", \"ps3\", \"ps4\", \"ps5\", \"ps6\",\n",
    "    \"ts1\", \"ts2\", \"ts3\", \"ts4\", \"target\"\n",
    "]\n",
    "\n",
    "data = {}\n",
    "\n",
    "for file_name in file_names:\n",
    "    data[file_name] = loadtxt(f\"{input_path}{file_name}.txt\")"
   ]
  },
  {
   "cell_type": "code",
   "execution_count": null,
   "metadata": {},
   "outputs": [],
   "source": [
    "for file_name in file_names:\n",
    "    print(f\"Shape of {file_name}:{data[file_name].shape}\")"
   ]
  },
  {
   "cell_type": "code",
   "execution_count": 69,
   "metadata": {},
   "outputs": [],
   "source": [
    "df_target = pd.DataFrame(data['target'], columns=['Cooler_Condition',\n",
    "                                         'Valve_Condition',\n",
    "                                         'Internal_Pump_Leakage',\n",
    "                                         'Hydraulic_Accumulator',\n",
    "                                         'Stable_Flag'])\n",
    "df_target = df_target['Valve_Condition']\n",
    "\n",
    "#df_target.head()"
   ]
  },
  {
   "cell_type": "code",
   "execution_count": null,
   "metadata": {},
   "outputs": [],
   "source": [
    "df_target.describe()"
   ]
  },
  {
   "cell_type": "code",
   "execution_count": 71,
   "metadata": {},
   "outputs": [],
   "source": [
    "del data['target']"
   ]
  },
  {
   "cell_type": "code",
   "execution_count": null,
   "metadata": {},
   "outputs": [],
   "source": [
    "fig, axes = plt.subplots(6, 3, figsize=(15, 20))\n",
    "axes = axes.flatten()  \n",
    "\n",
    "\n",
    "for i, key in enumerate(data):\n",
    "    ax = axes[i]\n",
    "    ax.plot(data[key], color = 'blue', linewidth = 1)\n",
    "    ax.plot(np.mean(data[key], axis=1), color = 'red') \n",
    "    ax.set_title(key) \n",
    "\n",
    "plt.tight_layout()\n",
    "plt.show()"
   ]
  },
  {
   "cell_type": "code",
   "execution_count": null,
   "metadata": {},
   "outputs": [],
   "source": [
    "for key, array in data.items():\n",
    "    print(f\"{key}: Mean = {round((np.mean(array)),4)}, Std = {round((np.std(array)),4)}, Min = {np.min(array)}, Max = {np.max(array)}\")"
   ]
  },
  {
   "cell_type": "code",
   "execution_count": null,
   "metadata": {},
   "outputs": [],
   "source": [
    "import numpy as np\n",
    "import matplotlib.pyplot as plt\n",
    "\n",
    "for key in data: \n",
    "    # Erstelle ein 2D-Array (zum Beispiel ein einfaches Bild oder eine Matrix)\n",
    "    image = data[key]\n",
    "\n",
    "    # Berechne die 2D-Fourier-Transformation\n",
    "    f_transform = np.fft.fft2(image)\n",
    "\n",
    "    # Verschiebe den Nullfrequenzanteil in die Mitte des Spektrums\n",
    "    f_transform_shifted = np.fft.fftshift(f_transform)\n",
    "\n",
    "    # Berechne das Magnitudespektrum (Betrag)\n",
    "    magnitude_spectrum = np.abs(f_transform_shifted)\n",
    "\n",
    "    # Berechne das Phasenspektrum (Phase)\n",
    "    phase_spectrum = np.angle(f_transform_shifted)\n",
    "\n",
    "    # Summiere das Magnitudespektrum entlang der Spalten (horizontale Richtung)\n",
    "    magnitude_spectrum_sum_cols = np.sum(magnitude_spectrum, axis=0)\n",
    "\n",
    "    # Plot des Magnitudespektrums als Summe entlang der Spalten\n",
    "    plt.figure(figsize=(12, 6))\n",
    "    plt.subplot(1, 2, 1)\n",
    "    plt.plot(magnitude_spectrum_sum_cols)\n",
    "    plt.title(f\"{key}: Magnitude Spectrum (Summe entlang der Spalten)\")\n",
    "    plt.xlabel(\"Spalten-Index\")\n",
    "    plt.ylabel(\"Summierte Magnitude\")\n",
    "\n",
    "    # Plot des Phasenspektrums\n",
    "    plt.subplot(1, 2, 2)\n",
    "    plt.imshow(phase_spectrum, cmap='twilight', aspect='auto')\n",
    "    plt.title(f\"{key}: Phase Spectrum\")\n",
    "    plt.colorbar(label='Phase (radians)')\n",
    "    plt.tight_layout()\n",
    "    plt.show()\n"
   ]
  },
  {
   "cell_type": "code",
   "execution_count": 72,
   "metadata": {},
   "outputs": [],
   "source": [
    "import glob\n",
    "import pandas as pd\n",
    "import numpy as np\n",
    "from scipy.stats import skew, kurtosis\n",
    "from scipy.signal import find_peaks\n",
    "\n",
    "import glob\n",
    "import pandas as pd\n",
    "import numpy as np\n",
    "\n",
    "# Funktion zur Feature-Extraktion\n",
    "def extract_features(data):\n",
    "    features = {}\n",
    "    features['mean'] = np.mean(data, axis=0)  # Mittelwert über Spalten\n",
    "    features['median'] = np.median(data, axis=0)  # Median über Spalten\n",
    "    features['std'] = np.std(data, axis=0)  # Standardabweichung über Spalten\n",
    "    features['min'] = np.min(data, axis=0)  # Minimum über Spalten\n",
    "    features['max'] = np.max(data, axis=0)  # Maximum über Spalten\n",
    "    features['range'] = np.max(data, axis=0) - np.min(data, axis=0)  # Spannweite\n",
    "    diffs = np.diff(data, axis=0)  # Differenz entlang der Zeilen\n",
    "    features['mean_diff'] = np.mean(diffs, axis=0)  # Mittelwert der Differenzen\n",
    "    features['std_diff'] = np.std(diffs, axis=0)  # Standardabweichung der Differenzen\n",
    "    return features\n",
    "\n",
    "for key in data:\n",
    "    features = extract_features(data[key])\n",
    "    all_features.append(features)\n",
    "\n",
    "# In DataFrame speichern\n",
    "features_df = pd.DataFrame(all_features)\n",
    "\n",
    "\n",
    "# Speichern\n",
    "#features_df.to_csv(\"extracted_features.csv\", index=False)\n"
   ]
  },
  {
   "cell_type": "code",
   "execution_count": null,
   "metadata": {},
   "outputs": [],
   "source": [
    "print(features_df.dtypes)"
   ]
  },
  {
   "cell_type": "code",
   "execution_count": null,
   "metadata": {},
   "outputs": [],
   "source": [
    "from sklearn.ensemble import AdaBoostClassifier\n",
    "from sklearn.tree import DecisionTreeClassifier\n",
    "from sklearn.model_selection import train_test_split\n",
    "from sklearn.metrics import accuracy_score, classification_report\n",
    "import pandas as pd\n",
    "\n",
    "# Extrahierte Features und Labels (ersetze dies mit deinem Datensatz)\n",
    "\n",
    "# Features und Zielvariable\n",
    "X = features_df\n",
    "y = df_target\n",
    "\n",
    "X.shape\n",
    "\n",
    "y.shape\n",
    "\n",
    "# Datenaufteilung\n",
    "X_train, X_test, y_train, y_test = train_test_split(X, y, test_size=0.2, random_state=42)\n",
    "\n",
    "\n",
    "# AdaBoost-Modell\n",
    "ada_model = AdaBoostClassifier(estimator=DecisionTreeClassifier(max_depth=1), n_estimators=50, random_state=42)\n",
    "\n",
    "# Training\n",
    "ada_model.fit(X_train, y_train)\n",
    "\n",
    "# Vorhersagen\n",
    "y_pred = ada_model.predict(X_test)\n",
    "\n",
    "# Modellbewertung\n",
    "accuracy = accuracy_score(y_test, y_pred)\n",
    "print(\"Accuracy:\", accuracy)\n",
    "print(\"\\nClassification Report:\")\n",
    "print(classification_report(y_test, y_pred))\n"
   ]
  }
 ],
 "metadata": {
  "kernelspec": {
   "display_name": "py_adv",
   "language": "python",
   "name": "python3"
  },
  "language_info": {
   "codemirror_mode": {
    "name": "ipython",
    "version": 3
   },
   "file_extension": ".py",
   "mimetype": "text/x-python",
   "name": "python",
   "nbconvert_exporter": "python",
   "pygments_lexer": "ipython3",
   "version": "3.12.7"
  }
 },
 "nbformat": 4,
 "nbformat_minor": 2
}
