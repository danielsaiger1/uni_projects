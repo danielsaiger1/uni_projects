{
 "cells": [
  {
   "cell_type": "markdown",
   "metadata": {},
   "source": [
    "Attribute Information:\n",
    "\n",
    "The data set contains raw process sensor data (i.e. without feature extraction) which are structured as matrices (tab-delimited) with the rows representing the cycles and the columns the data points within a cycle. The sensors involved are:\n",
    "\n",
    "Sensor\t\tPhysical quantity\t\tUnit\t\tSampling rate\n",
    "PS1\t\tPressure\t\t\tbar\t\t100 Hz\n",
    "PS2\t\tPressure\t\t\tbar\t\t100 Hz\n",
    "PS3\t\tPressure\t\t\tbar\t\t100 Hz\n",
    "PS4\t\tPressure\t\t\tbar\t\t100 Hz\n",
    "PS5\t\tPressure\t\t\tbar\t\t100 Hz\n",
    "PS6\t\tPressure\t\t\tbar\t\t100 Hz\n",
    "EPS1\t\tMotor power\t\t\tW\t\t100 Hz\n",
    "FS1\t\tVolume flow\t\t\tl/min\t\t10 Hz\n",
    "FS2\t\tVolume flow\t\t\tl/min\t\t10 Hz\n",
    "TS1\t\tTemperature\t\t\tÂ°C\t\t1 Hz\n",
    "TS2\t\tTemperature\t\t\tÂ°C\t\t1 Hz\n",
    "TS3\t\tTemperature\t\t\tÂ°C\t\t1 Hz\n",
    "TS4\t\tTemperature\t\t\tÂ°C\t\t1 Hz\n",
    "VS1\t\tVibration\t\t\tmm/s\t\t1 Hz\n",
    "CE\t\tCooling efficiency (virtual)\t%\t\t1 Hz\n",
    "CP\t\tCooling power (virtual)\t\tkW\t\t1 Hz\n",
    "SE\t\tEfficiency factor\t\t%\t\t1 Hz\n",
    "\n",
    "\n",
    "\n",
    "Has Missing Values?\n",
    "\n",
    "No"
   ]
  },
  {
   "cell_type": "code",
   "execution_count": null,
   "metadata": {},
   "outputs": [],
   "source": [
    "import pandas as pd\n",
    "import numpy as np\n",
    "import matplotlib.pyplot as plt\n",
    "from sklearn.ensemble import AdaBoostClassifier\n",
    "from sklearn.tree import DecisionTreeClassifier\n",
    "from sklearn.model_selection import train_test_split\n",
    "from sklearn.metrics import accuracy_score, classification_report\n",
    "\n",
    "#PS: Pressure, bar, 100 Hz --> 100 Messungen pro Sekunde\n",
    "#EPS: Motor power, W, 100 Hz \n",
    "#FS: Volume flow, l/min, 10 Hz --> 10 Messungen pro Sekunde\n",
    "#TS: Temperature, Celsius, 1 Hz --> 1 Messung pro Sekunde\n",
    "#VS: Vibration, mm/s, 1Hz\n",
    "#CE: Cooling efficiency (virtual), %, 1 Hz\n",
    "#CP: Cooling power (virtual), kW, 1 Hz\n",
    "#SE: Efficency factor, %, 1 Hz\n",
    "\n",
    "\n",
    "class DataProcessor:\n",
    "    def __init__(self, input_path, file_names):\n",
    "        self.input_path = input_path\n",
    "        self.file_names = file_names\n",
    "        \n",
    "    def read_files(self):\n",
    "        self.data = {}\n",
    "        print(\"Reading files...\")\n",
    "        for file in self.file_names:\n",
    "            with open(self.input_path + file + '.txt', 'r') as f:\n",
    "                self.data[file] = pd.read_csv(f, header=None, sep='\\t')\n",
    "        return self.data\n",
    "    \n",
    "    def print_shape(self):\n",
    "        print(\"Files read:\")\n",
    "        for file in self.data:\n",
    "            print(f\"{file}: {self.data[file].shape}\")\n",
    "            \n",
    "    def create_target_df(self):\n",
    "        target_columns = ['Cooler_Condition', 'Valve_Condition', \n",
    "                        'Internal_Pump_Leakage', 'Hydraulic_Accumulator', \n",
    "                        'Stable_Flag']\n",
    "        self.df_target = pd.DataFrame(self.data['target'], columns=target_columns)\n",
    "        self.valve_condition = self.df_target['Valve_Condition']\n",
    "        del self.data['target']\n",
    "        return self.valve_condition\n",
    "\n",
    "def process_data():\n",
    "    input_path = \"input_data/\"\n",
    "    file_names = [\n",
    "        \"ce\", \"cp\", \"eps1\", \"se\", \"vs1\", \n",
    "        \"fs1\", \"fs2\", \n",
    "        \"ps1\", \"ps2\", \"ps3\", \"ps4\", \"ps5\", \"ps6\",\n",
    "        \"ts1\", \"ts2\", \"ts3\", \"ts4\", \"target\"\n",
    "    ]\n",
    "    \n",
    "    processor = DataProcessor(input_path, file_names)\n",
    "    data = processor.read_files()\n",
    "    processor.print_shape()\n",
    "    #processor.create_target_df()\n",
    "    #df_target = processor.valve_condition\n",
    "    return data, df_target\n",
    "\n",
    "data, df_target = process_data()"
   ]
  },
  {
   "cell_type": "markdown",
   "metadata": {},
   "source": [
    "<h1> 1. Data Exploration </h1>"
   ]
  },
  {
   "cell_type": "markdown",
   "metadata": {},
   "source": [
    "<h2>CE sensor (1 Hz) </h2>"
   ]
  },
  {
   "cell_type": "code",
   "execution_count": null,
   "metadata": {},
   "outputs": [],
   "source": [
    "fig, ax = plt.subplots(figsize=(5, 3), dpi=100)\n",
    "\n",
    "for i in range(data['ce'].shape[0] - 1):\n",
    "    ax.plot(data['ce'].iloc[i], color='blue', linewidth=0.5)\n",
    "\n",
    "ax.plot(data['ce'].iloc[-1], color='red', linewidth=1, label='Last Series')\n",
    "\n",
    "ax.set_title('Cooling Efficency Data', fontsize=10)\n",
    "plt.xlabel(\"Time [s]\")\n",
    "plt.ylabel(\"Cooling Efficency [%]\")\n",
    "\n",
    "plt.tight_layout()\n",
    "plt.show()"
   ]
  },
  {
   "cell_type": "markdown",
   "metadata": {},
   "source": [
    "<h2>CP Sensor (1 Hz)</h2>"
   ]
  },
  {
   "cell_type": "code",
   "execution_count": null,
   "metadata": {},
   "outputs": [],
   "source": [
    "fig, ax = plt.subplots(figsize=(10, 4), dpi=100)\n",
    "\n",
    "for i in range(data['cp'].shape[0] - 1):\n",
    "    ax.plot(data['cp'].iloc[i], color='blue', linewidth=0.5)\n",
    "\n",
    "ax.plot(data['cp'].iloc[-1], color='red', linewidth=1, label='Last Series')\n",
    "\n",
    "ax.set_title('Cooling power (virtual) Data', fontsize=10)\n",
    "plt.xlabel(\"Time [s]\")\n",
    "plt.ylabel(\"Cooling Power [kW]\")\n",
    "\n",
    "plt.tight_layout()\n",
    "plt.show()"
   ]
  },
  {
   "cell_type": "markdown",
   "metadata": {},
   "source": [
    "<h2>VS Sensor (1 Hz)</h2>"
   ]
  },
  {
   "cell_type": "code",
   "execution_count": null,
   "metadata": {},
   "outputs": [],
   "source": [
    "fig, ax = plt.subplots(figsize=(10, 4), dpi=100)\n",
    "\n",
    "for i in range(data['vs1'].shape[0] - 1):\n",
    "    ax.plot(data['vs1'].iloc[i], color='blue', linewidth=0.5)\n",
    "\n",
    "ax.plot(data['vs1'].iloc[-1], color='red', linewidth=1, label='Last Series')\n",
    "\n",
    "ax.set_title('Vibration Data', fontsize=10)\n",
    "plt.xlabel(\"Time [s]\")\n",
    "plt.ylabel(\"Vibration [mm/s]\")\n",
    "\n",
    "plt.tight_layout()\n",
    "plt.show()"
   ]
  },
  {
   "cell_type": "markdown",
   "metadata": {},
   "source": [
    "<h2>SE Sensor (1 Hz)</h2>"
   ]
  },
  {
   "cell_type": "code",
   "execution_count": null,
   "metadata": {},
   "outputs": [],
   "source": [
    "fig, ax = plt.subplots(figsize=(10, 4), dpi=100)\n",
    "\n",
    "for i in range(data['se'].shape[0] - 1):\n",
    "    ax.plot(data['se'].iloc[i], color='blue', linewidth=0.5)\n",
    "\n",
    "ax.plot(data['se'].iloc[-1], color='red', linewidth=1, label='Last Series')\n",
    "\n",
    "ax.set_title('Efficency Factor Data', fontsize=10)\n",
    "plt.xlabel(\"Time [s]\")\n",
    "plt.ylabel(\"Efficency Factor [%]\")\n",
    "\n",
    "plt.tight_layout()\n",
    "plt.show()"
   ]
  },
  {
   "cell_type": "markdown",
   "metadata": {},
   "source": [
    "<h2>TS Sensors (1 Hz)</h2>"
   ]
  },
  {
   "cell_type": "code",
   "execution_count": null,
   "metadata": {},
   "outputs": [],
   "source": [
    "temp_sensors = ['ts1', 'ts2', 'ts3', 'ts4']\n",
    "\n",
    "fig, axes = plt.subplots(2, 2, figsize=(15, 8), dpi=100)\n",
    "axes = axes.flatten()\n",
    "\n",
    "for idx, s in enumerate(temp_sensors):\n",
    "    ax = axes[idx]\n",
    "    for i in range(data[s].shape[0] - 1):\n",
    "        ax.plot(data[s].iloc[i], color='blue', linewidth=0.5)\n",
    "    ax.plot(data[s].iloc[-1], color='red', linewidth=1)\n",
    "    \n",
    "    ax.set_title(f\"Temperature Data: {s}\")\n",
    "    ax.set_xlabel(\"Time [s]\")\n",
    "    ax.set_ylabel(\"Temperature [°C]\")\n",
    "\n",
    "plt.tight_layout()\n",
    "plt.show()"
   ]
  },
  {
   "cell_type": "markdown",
   "metadata": {},
   "source": [
    "<h2>FS Sensors (10 Hz)</h2>"
   ]
  },
  {
   "cell_type": "code",
   "execution_count": null,
   "metadata": {},
   "outputs": [],
   "source": [
    "vf_sensors = ['fs1', 'fs2']\n",
    "\n",
    "fig, axes = plt.subplots(1, 2, figsize=(15, 4), dpi=100)\n",
    "axes = axes.flatten()\n",
    "\n",
    "for idx, s in enumerate(vf_sensors):\n",
    "    ax = axes[idx]\n",
    "    for i in range(data[s].shape[0] - 1):\n",
    "        ax.plot(data[s].iloc[i], color='blue', linewidth=0.5)\n",
    "    ax.plot(data[s].iloc[-1], color='red', linewidth=1)\n",
    "    \n",
    "    ax.set_title(f\"Volume Flow Data: {s}\")\n",
    "    ax.set_xlabel(\"Time [x 100 ms]\")\n",
    "    ax.set_ylabel(\"Volume Flow [l/min]\")\n",
    "\n",
    "plt.tight_layout()\n",
    "plt.show()"
   ]
  },
  {
   "cell_type": "markdown",
   "metadata": {},
   "source": [
    "<h2>EPS Sensor (100 Hz)</h2>"
   ]
  },
  {
   "cell_type": "code",
   "execution_count": null,
   "metadata": {},
   "outputs": [],
   "source": [
    "fig, ax = plt.subplots(figsize=(10, 4), dpi=100)\n",
    "\n",
    "for i in range(data['eps1'].shape[0] - 1):\n",
    "    ax.plot(data['eps1'].iloc[i], color='blue', linewidth=0.5)\n",
    "\n",
    "ax.plot(data['eps1'].iloc[-1], color='red', linewidth=1, label='Last Series')\n",
    "\n",
    "ax.set_title('Motor power Data', fontsize=10)\n",
    "plt.xlabel(\"Time [x 10 ms]\")\n",
    "plt.ylabel(\"Motor power [W]\")\n",
    "\n",
    "plt.tight_layout()\n",
    "plt.show()"
   ]
  },
  {
   "cell_type": "markdown",
   "metadata": {},
   "source": [
    "<h2>PS Sensors (100 Hz)</h2>"
   ]
  },
  {
   "cell_type": "code",
   "execution_count": null,
   "metadata": {},
   "outputs": [],
   "source": [
    "ps_sensors = ['ps1', 'ps2', 'ps3', 'ps4', 'ps5', 'ps6']\n",
    "\n",
    "fig, axes = plt.subplots(3, 2, figsize=(15, 10), dpi=100)\n",
    "axes = axes.flatten()\n",
    "\n",
    "for idx, s in enumerate(ps_sensors):\n",
    "    ax = axes[idx]\n",
    "    for i in range(data[s].shape[0] - 1):\n",
    "        ax.plot(data[s].iloc[i], color='blue', linewidth=0.5)\n",
    "    ax.plot(data[s].iloc[-1], color='red', linewidth=1)\n",
    "    \n",
    "    ax.set_title(f\"Pressure Data: {s}\")\n",
    "    ax.set_xlabel(\"Time [x 10 ms]\")\n",
    "    ax.set_ylabel(\"Pressure [Bar]\")\n",
    "\n",
    "plt.tight_layout()\n",
    "plt.show()\n",
    "\n",
    "#PS: Pressure, bar, 100 Hz --> 100 Messungen pro Sekunde"
   ]
  },
  {
   "cell_type": "code",
   "execution_count": 2,
   "metadata": {},
   "outputs": [],
   "source": [
    "class DataPlotter:\n",
    "    def __init__(self, dataset: dict):\n",
    "        self.dataset = dataset\n",
    "    \n",
    "    def create_subplot(self):\n",
    "        fig, axs = plt.subplots(6, 3, figsize=(15, 20))\n",
    "        axes = axs.flatten()  \n",
    "        for i, key in enumerate(self.dataset):\n",
    "            ax = axes[i]\n",
    "            ax.plot(self.dataset[key], color='blue', linewidth=1)\n",
    "            ax.plot(np.mean(self.dataset[key], axis=1), color='red', linewidth=0.5)\n",
    "            #ax.plot(np.var(self.dataset[key], axis=1), color='green')\n",
    "            ax.set_title(key)\n",
    "        plt.tight_layout()\n",
    "        plt.show()\n",
    "    \n",
    "    def create_fft_plot(self):\n",
    "        for key in self.dataset: \n",
    "            # Erstelle ein 2D-Array (z. B. eine Matrix)\n",
    "            image = self.dataset[key]\n",
    "            # 2D-Fourier-Transformation\n",
    "            f_transform = np.fft.fft2(image)\n",
    "            # Verschiebe den Nullfrequenzanteil in die Mitte des Spektrums\n",
    "            f_transform_shifted = np.fft.fftshift(f_transform)\n",
    "            # Berechne das Magnitudespektrum (Betrag)\n",
    "            magnitude_spectrum = np.abs(f_transform_shifted)\n",
    "            # Berechne das Phasenspektrum (Phase)\n",
    "            phase_spectrum = np.angle(f_transform_shifted)\n",
    "            # Summiere das Magnitudespektrum entlang der Spalten (horizontale Richtung)\n",
    "            magnitude_spectrum_sum_cols = np.sum(magnitude_spectrum, axis=0)\n",
    "            \n",
    "            # Plots\n",
    "            plt.figure(figsize=(12, 6))\n",
    "            # Magnitudespektrum\n",
    "            plt.subplot(1, 2, 1)\n",
    "            plt.plot(magnitude_spectrum_sum_cols)\n",
    "            plt.title(f\"{key}: Magnitude Spectrum (Summe entlang der Spalten)\")\n",
    "            plt.xlabel(\"Spalten-Index\")\n",
    "            plt.ylabel(\"Summierte Magnitude\")\n",
    "            # Phasenspektrum\n",
    "            plt.subplot(1, 2, 2)\n",
    "            plt.imshow(phase_spectrum, cmap='twilight', aspect='auto')\n",
    "            plt.title(f\"{key}: Phase Spectrum\")\n",
    "            plt.colorbar(label='Phase (radians)')\n",
    "            plt.tight_layout()\n",
    "            plt.show()\n",
    "            \n",
    "plot = DataPlotter(data)"
   ]
  },
  {
   "cell_type": "code",
   "execution_count": null,
   "metadata": {},
   "outputs": [],
   "source": [
    "# Umwandlung in Pandas-DataFrame\n",
    "df = pd.DataFrame(data[\"eps1\"])\n",
    "df"
   ]
  },
  {
   "cell_type": "code",
   "execution_count": null,
   "metadata": {},
   "outputs": [],
   "source": [
    "data_set = data[\"eps1\"]\n",
    "rolling_means_rows = np.array([\n",
    "    pd.Series(row).rolling(window= 10).mean()\n",
    "    for row in data_set\n",
    "])\n",
    "\n",
    "\n",
    "fig, ax = plt.subplots(figsize=(15, 6))\n",
    "ax.plot(rolling_means_rows)\n",
    "ax.set_title(\"Rolling Mean entlang der Zeilen\")\n",
    "plt.show()"
   ]
  },
  {
   "cell_type": "markdown",
   "metadata": {},
   "source": [
    "Einzelne Signale plotten --> Ausreiser und Trends erkennen\n"
   ]
  },
  {
   "cell_type": "code",
   "execution_count": null,
   "metadata": {},
   "outputs": [],
   "source": [
    "plot.create_subplot()"
   ]
  },
  {
   "cell_type": "code",
   "execution_count": null,
   "metadata": {},
   "outputs": [],
   "source": [
    "plot.create_fft_plot()"
   ]
  },
  {
   "cell_type": "code",
   "execution_count": 8,
   "metadata": {},
   "outputs": [],
   "source": [
    "#einzelne Signale in Means abspeichern\n",
    "data_means = {}\n",
    "for key in data:\n",
    "    data_means[key] = np.mean(data[key], axis=1)"
   ]
  },
  {
   "cell_type": "code",
   "execution_count": null,
   "metadata": {},
   "outputs": [],
   "source": [
    "fig, axs = plt.subplots(6, 3, figsize=(15, 20))\n",
    "axes = axs.flatten()  \n",
    "for i, key in enumerate(data_means):\n",
    "    ax = axes[i]\n",
    "    ax.plot(data_means[key], color='blue', linewidth=1)\n",
    "    ax.set_title(key)\n",
    "plt.tight_layout()\n",
    "plt.show()"
   ]
  },
  {
   "cell_type": "code",
   "execution_count": 235,
   "metadata": {},
   "outputs": [],
   "source": [
    "data_means_df = pd.DataFrame(data_means)"
   ]
  },
  {
   "cell_type": "code",
   "execution_count": 236,
   "metadata": {},
   "outputs": [],
   "source": [
    "for column in data_means_df.columns:\n",
    "    data_means_df[column] = data_means_df[column].rolling(window=10, min_periods=1).mean()"
   ]
  },
  {
   "cell_type": "code",
   "execution_count": null,
   "metadata": {},
   "outputs": [],
   "source": [
    "for column in data_means_df.columns:\n",
    "    data_means_df[column].plot(kind='line', title='Values Plot', xlabel='Index', ylabel='Values')\n",
    "    plt.show()"
   ]
  },
  {
   "cell_type": "code",
   "execution_count": 98,
   "metadata": {},
   "outputs": [],
   "source": [
    "class ManualFeatureExtractor:\n",
    "    def __init__(self, dataset):\n",
    "        self.dataset = dataset\n",
    "        \n",
    "    def extract_features(self):\n",
    "        features = {}\n",
    "        for i, key in enumerate(self.dataset, start=1):\n",
    "            #features[f\"{key}_{i}_mean\"] = self.dataset[key].mean(axis=1)\n",
    "            #features[f\"{key}_{i}_median\"] = np.median(self.dataset[key], axis=1)\n",
    "            features[f\"{key}_{i}_std\"] = self.dataset[key].std(axis=1)\n",
    "            #features[f\"{key}_{i}_min\"] = self.dataset[key].min(axis=1)\n",
    "            #features[f\"{key}_{i}_max\"] = self.dataset[key].max(axis=1)\n",
    "            #features[f\"{key}_{i}_range\"] = self.dataset[key].max(axis=1) - self.dataset[key].min(axis=1)\n",
    "        self.df_features = pd.DataFrame(features)\n",
    "        return self.df_features\n",
    "\n",
    "extractor = ManualFeatureExtractor(data)\n",
    "df_features = extractor.extract_features()"
   ]
  },
  {
   "cell_type": "code",
   "execution_count": null,
   "metadata": {},
   "outputs": [],
   "source": [
    "print(df_features.shape, df_target.shape)"
   ]
  },
  {
   "cell_type": "code",
   "execution_count": null,
   "metadata": {},
   "outputs": [],
   "source": [
    "nan_count_per_row = data_means_df.isna().sum(axis=1)\n",
    "print(nan_count_per_row)"
   ]
  },
  {
   "cell_type": "code",
   "execution_count": null,
   "metadata": {},
   "outputs": [],
   "source": [
    "from sklearn.model_selection import train_test_split\n",
    "from sklearn.ensemble import AdaBoostClassifier\n",
    "from sklearn.tree import DecisionTreeClassifier\n",
    "from sklearn.metrics import accuracy_score, classification_report\n",
    "\n",
    "  \n",
    "states = [27, 6728, 49122]\n",
    "accs = []\n",
    "features = df_features\n",
    "target = df_target\n",
    "\n",
    "for RANDOM_STATE in states:\n",
    "    X_train, X_test, y_train, y_test = train_test_split(\n",
    "        features, target, test_size = 0.2, random_state = RANDOM_STATE, stratify = target\n",
    "    )\n",
    "    \n",
    "    model = AdaBoostClassifier(\n",
    "    estimator=DecisionTreeClassifier(max_depth=1),\n",
    "    n_estimators=50\n",
    "    )\n",
    "    \n",
    "    model.fit(X_train, y_train)\n",
    "    preds = model.predict(X_test)\n",
    "    accs.append(accuracy_score(y_test, preds))\n",
    "    print(f\"Random State: {RANDOM_STATE}\")\n",
    "    print(classification_report(y_test, preds, zero_division=0.0))\n",
    "\n",
    "accs_mean = round(np.mean(accs), 4)\n",
    "accs_std = round(np.std(accs), 4)\n",
    "\n",
    "print(f\"Mean Accuracy: {accs_mean}\")\n",
    "print(f\"Std Accuracy: {accs_std}\")"
   ]
  },
  {
   "cell_type": "code",
   "execution_count": null,
   "metadata": {},
   "outputs": [],
   "source": [
    "import numpy as np\n",
    "import pandas as pd\n",
    "import matplotlib.pyplot as plt\n",
    "from scipy.signal import savgol_filter\n",
    "\n",
    "# Beispiel: Lade dein 2D-Signal (2205 x 6000)\n",
    "# Ersetze dies mit deinem tatsächlichen Signal\n",
    "# signal = np.loadtxt('your_signal_file.csv')  # Falls als Datei vorliegt\n",
    "signal = np.random.rand(2205, 6000) * 100  # Dummy-Daten zum Testen\n",
    "\n",
    "# 1. Funktion: Ausreißer entfernen\n",
    "def remove_outliers(data, threshold=3):\n",
    "    \"\"\"\n",
    "    Entfernt Ausreißer anhand des Z-Scores.\n",
    "    data: 2D-Array (Zeilen: Kanäle, Spalten: Zeitpunkte)\n",
    "    threshold: Schwellenwert für Z-Score\n",
    "    \"\"\"\n",
    "    z_scores = (data - np.mean(data, keepdims=True)) / np.std(data, keepdims=True)\n",
    "    data_cleaned = np.where(np.abs(z_scores) > threshold, np.median(data, keepdims=True), data)\n",
    "    return data_cleaned\n",
    "\n",
    "# 2. Funktion: Gleitender Durchschnitt (Moving Average)\n",
    "def smooth_signal(data, window_size=11):\n",
    "    \"\"\"\n",
    "    Glättet das Signal mit einem gleitenden Durchschnitt.\n",
    "    data: 2D-Array (Zeilen: Kanäle, Spalten: Zeitpunkte)\n",
    "    window_size: Fenstergröße für den gleitenden Durchschnitt\n",
    "    \"\"\"\n",
    "    return pd.DataFrame(data).rolling(window=window_size,min_periods=1).mean().values\n",
    "\n",
    "\n",
    "# Pipeline zur Signalbereinigung\n",
    "def clean_signal(signal):\n",
    "    print(\"1. Entferne Ausreißer...\")\n",
    "    signal_cleaned = remove_outliers(signal)\n",
    "\n",
    "    print(\"2. Glätte das Signal mit Moving Average...\")\n",
    "    signal_smoothed = smooth_signal(signal_cleaned, window_size=10)\n",
    "\n",
    "    return signal_smoothed\n",
    "\n",
    "# Bereinigung anwenden\n",
    "\n",
    "data_cleaned\n",
    "cleaned_signal = clean_signal(data_means['eps1'])\n",
    "\n",
    "print(cleaned_signal)\n",
    "\n",
    "# # Visualisierung des Original- und bereinigten Signals\n",
    "# plt.figure(figsize=(20, 8))\n",
    "# plt.subplot(2, 1, 1)\n",
    "# plt.title(\"Originales Signal\")\n",
    "# plt.plot(signal, alpha=0.3)  # Transponieren für bessere Visualisierung'\n",
    "\n",
    "plt.subplot(2, 1, 2)\n",
    "plt.title(\"Bereinigtes Signal\")\n",
    "plt.plot(cleaned_signal, alpha=0.3)  # Transponieren für bessere Visualisierung\n",
    "plt.tight_layout()\n",
    "plt.show()\n"
   ]
  },
  {
   "cell_type": "markdown",
   "metadata": {},
   "source": [
    "Merker für nach Urlaub: Datensätze von Sensoren, die mehrere Aufzeichnungen haben, zusammenführen, um einen großen Datensatz zu erhalten. Daraus dann wieder Standardabweichungen berechnen und in das Modell geben"
   ]
  }
 ],
 "metadata": {
  "kernelspec": {
   "display_name": "py_adv",
   "language": "python",
   "name": "python3"
  },
  "language_info": {
   "codemirror_mode": {
    "name": "ipython",
    "version": 3
   },
   "file_extension": ".py",
   "mimetype": "text/x-python",
   "name": "python",
   "nbconvert_exporter": "python",
   "pygments_lexer": "ipython3",
   "version": "3.12.7"
  }
 },
 "nbformat": 4,
 "nbformat_minor": 2
}
