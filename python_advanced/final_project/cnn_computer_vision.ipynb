{
 "cells": [
  {
   "cell_type": "markdown",
   "metadata": {},
   "source": [
    "<h1> Classification with a Neural Network using Keras (Sequential API)</h1>"
   ]
  },
  {
   "cell_type": "markdown",
   "metadata": {},
   "source": [
    "<h2>1. Imports and load data</h2>"
   ]
  },
  {
   "cell_type": "code",
   "execution_count": 79,
   "metadata": {},
   "outputs": [],
   "source": [
    "import pandas as pd\n",
    "import numpy as np\n",
    "from sklearn.model_selection import train_test_split\n",
    "from sklearn.preprocessing import StandardScaler, LabelEncoder\n",
    "from sklearn.metrics import classification_report, accuracy_score\n",
    "from aeon.classification.deep_learning import TimeCNNClassifier\n",
    "from tensorflow.keras.callbacks import EarlyStopping"
   ]
  },
  {
   "cell_type": "code",
   "execution_count": 80,
   "metadata": {},
   "outputs": [
    {
     "name": "stdout",
     "output_type": "stream",
     "text": [
      "Reading files...\n",
      "Files read:\n",
      "ce: (2205, 60)\n",
      "cp: (2205, 60)\n",
      "eps1: (2205, 6000)\n",
      "se: (2205, 60)\n",
      "vs1: (2205, 60)\n",
      "fs1: (2205, 600)\n",
      "fs2: (2205, 600)\n",
      "ps1: (2205, 6000)\n",
      "ps2: (2205, 6000)\n",
      "ps3: (2205, 6000)\n",
      "ps4: (2205, 6000)\n",
      "ps5: (2205, 6000)\n",
      "ps6: (2205, 6000)\n",
      "ts1: (2205, 60)\n",
      "ts2: (2205, 60)\n",
      "ts3: (2205, 60)\n",
      "ts4: (2205, 60)\n",
      "target: (2205, 5)\n"
     ]
    }
   ],
   "source": [
    "class DataProcessor:\n",
    "    def __init__(self, input_path, file_names):\n",
    "        self.input_path = input_path\n",
    "        self.file_names = file_names\n",
    "        \n",
    "    def read_files(self):\n",
    "        self.data = {}\n",
    "        print(\"Reading files...\")\n",
    "        for file in self.file_names:\n",
    "            with open(self.input_path + file + '.txt', 'r') as f:\n",
    "                self.data[file] = pd.read_csv(f, header=None, sep='\\t')\n",
    "        return self.data\n",
    "    \n",
    "    def print_shape(self):\n",
    "        print(\"Files read:\")\n",
    "        for file in self.data:\n",
    "            print(f\"{file}: {self.data[file].shape}\")\n",
    "            \n",
    "    def create_target_df(self):\n",
    "        target_columns = ['Cooler_Condition', 'Valve_Condition', \n",
    "                        'Internal_Pump_Leakage', 'Hydraulic_Accumulator', \n",
    "                        'Stable_Flag']\n",
    "        self.data['target'].columns = target_columns\n",
    "        self.valve_condition = self.data['target']['Valve_Condition']\n",
    "        #del self.data['target']\n",
    "        return self.valve_condition\n",
    "\n",
    "def process_data():\n",
    "    input_path = \"input_data/\"\n",
    "    file_names = [\n",
    "        \"ce\", \"cp\", \"eps1\", \"se\", \"vs1\", \n",
    "        \"fs1\", \"fs2\", \n",
    "        \"ps1\", \"ps2\", \"ps3\", \"ps4\", \"ps5\", \"ps6\",\n",
    "        \"ts1\", \"ts2\", \"ts3\", \"ts4\", \"target\"\n",
    "    ]\n",
    "    \n",
    "    processor = DataProcessor(input_path, file_names)\n",
    "    data = processor.read_files()\n",
    "    processor.print_shape()\n",
    "    df_target = processor.create_target_df()\n",
    "    df_target = processor.valve_condition\n",
    "    return data, df_target\n",
    "\n",
    "data, df_target = process_data()"
   ]
  },
  {
   "cell_type": "markdown",
   "metadata": {},
   "source": [
    "<h2>2. Create input and target data </h2>"
   ]
  },
  {
   "cell_type": "markdown",
   "metadata": {},
   "source": [
    "We use the six sensors which we identified as relevant during data exploration: 'eps1', 'se', 'fs1', 'ps1', 'ps2', 'ps3' "
   ]
  },
  {
   "cell_type": "code",
   "execution_count": 81,
   "metadata": {},
   "outputs": [
    {
     "data": {
      "text/plain": [
       "array([[2.4116e+03, 2.4116e+03, 2.4116e+03, ..., 2.2500e+00, 2.2500e+00,\n",
       "        2.2110e+00],\n",
       "       [2.4096e+03, 2.4096e+03, 2.4096e+03, ..., 2.2110e+00, 2.1950e+00,\n",
       "        2.2190e+00],\n",
       "       [2.3978e+03, 2.3978e+03, 2.3978e+03, ..., 2.3050e+00, 2.3200e+00,\n",
       "        2.2660e+00],\n",
       "       ...,\n",
       "       [2.4136e+03, 2.4136e+03, 2.4136e+03, ..., 2.2190e+00, 2.2190e+00,\n",
       "        2.2500e+00],\n",
       "       [2.4136e+03, 2.4136e+03, 2.4136e+03, ..., 2.2500e+00, 2.2420e+00,\n",
       "        2.2810e+00],\n",
       "       [2.4158e+03, 2.4156e+03, 2.4156e+03, ..., 2.2730e+00, 2.2270e+00,\n",
       "        2.2500e+00]])"
      ]
     },
     "execution_count": 81,
     "metadata": {},
     "output_type": "execute_result"
    }
   ],
   "source": [
    "df_list = ['eps1', 'se', 'fs1', 'ps1', 'ps2', 'ps3']\n",
    "input_df = pd.concat([data[i] for i in df_list], axis = 1)\n",
    "features = input_df.to_numpy()\n",
    "features"
   ]
  },
  {
   "cell_type": "code",
   "execution_count": 82,
   "metadata": {},
   "outputs": [
    {
     "data": {
      "text/plain": [
       "(2205, 24660)"
      ]
     },
     "execution_count": 82,
     "metadata": {},
     "output_type": "execute_result"
    }
   ],
   "source": [
    "features.shape"
   ]
  },
  {
   "cell_type": "code",
   "execution_count": 83,
   "metadata": {},
   "outputs": [
    {
     "data": {
      "text/plain": [
       "array([3, 3, 3, ..., 3, 3, 3], dtype=int64)"
      ]
     },
     "execution_count": 83,
     "metadata": {},
     "output_type": "execute_result"
    }
   ],
   "source": [
    "# Standardise the target labels\n",
    "label_encoder = LabelEncoder()\n",
    "y_encoded = label_encoder.fit_transform(df_target)\n",
    "y_encoded\n"
   ]
  },
  {
   "cell_type": "markdown",
   "metadata": {},
   "source": [
    "<h2>3. Create the model, train it & make predictions </h2>"
   ]
  },
  {
   "cell_type": "code",
   "execution_count": 84,
   "metadata": {},
   "outputs": [],
   "source": [
    "import os\n",
    "from pathlib import Path\n",
    "import torch\n",
    "from torchaudio.transforms import Spectrogram\n",
    "from torchvision.utils import save_image\n",
    "\n",
    "# Daten aufteilen\n",
    "X_train, X_test, y_train, y_test = train_test_split(\n",
    "        features, y_encoded, test_size=0.2, stratify=y_encoded\n",
    "    )\n",
    "\n",
    "base_dir = Path(\"data\")\n",
    "os.makedirs(base_dir / \"train\", exist_ok=True)\n",
    "\n",
    "transform = Spectrogram(n_fft=32)\n",
    "\n",
    "for idx, (sample, label) in enumerate(zip(X_train, y_train)):\n",
    "    sample_dir = base_dir / \"train\" / Path(f\"class_{label}\")\n",
    "    os.makedirs(sample_dir, exist_ok=True)\n",
    "    \n",
    "    # Angenommen, sample ist 1D (24660 Merkmale)\n",
    "    waveform = torch.Tensor(sample)  # Sample direkt in ein Tensor umwandeln\n",
    "    spectrogram = transform(waveform)  # Spectrogramm erzeugen\n",
    "    save_image(spectrogram, sample_dir / f\"{idx}.png\")  # Speichern"
   ]
  },
  {
   "cell_type": "code",
   "execution_count": 85,
   "metadata": {},
   "outputs": [],
   "source": [
    "base_dir = Path(\"data\")\n",
    "os.makedirs(base_dir / \"test\", exist_ok=True)\n",
    "\n",
    "transform = Spectrogram(n_fft=32)\n",
    "\n",
    "for idx, (sample, label) in enumerate(zip(X_test, y_test)):\n",
    "    sample_dir = base_dir / \"test\" / Path(f\"class_{label}\")\n",
    "    os.makedirs(sample_dir, exist_ok=True)\n",
    "    \n",
    "    # Angenommen, sample ist 1D (24660 Merkmale)\n",
    "    waveform = torch.Tensor(sample)  # Sample direkt in ein Tensor umwandeln\n",
    "    spectrogram = transform(waveform)  # Spectrogramm erzeugen\n",
    "    save_image(spectrogram, sample_dir / f\"{idx}.png\")  # Speichern\n"
   ]
  },
  {
   "cell_type": "code",
   "execution_count": 86,
   "metadata": {},
   "outputs": [],
   "source": [
    "from torch.utils.data import Dataset, DataLoader\n",
    "from torchvision.io import decode_image\n",
    "from torchvision.transforms import Grayscale"
   ]
  },
  {
   "cell_type": "code",
   "execution_count": 87,
   "metadata": {},
   "outputs": [],
   "source": [
    "from torch.utils.data import Dataset\n",
    "from PIL import Image\n",
    "import torch\n",
    "from torchvision import transforms\n",
    "\n",
    "class SpectrogramDataset(Dataset):\n",
    "    def __init__(\n",
    "        self,\n",
    "        directory: Path,\n",
    "        channels: int = 8,\n",
    "        transform=None,\n",
    "        target_transform=None,\n",
    "    ):\n",
    "        self.data_dir = directory\n",
    "        self.channels = channels\n",
    "        self.transform = transform\n",
    "        self.target_transform = target_transform\n",
    "\n",
    "        # Iterate over all files in the given directory and define labels\n",
    "        self.labels = []\n",
    "        self.samples = []\n",
    "        subdirs = [f.path for f in os.scandir(self.data_dir) if f.is_dir()]\n",
    "\n",
    "        for class_dir in subdirs:\n",
    "            label = class_dir.split(\"_\")[-1]\n",
    "            samples = [f.path for f in os.scandir(class_dir) if f.is_file()]\n",
    "            measurement = []\n",
    "            for idx, sample in enumerate(samples):\n",
    "                idx += 1\n",
    "                measurement.append(sample)\n",
    "                if idx % self.channels == 0:\n",
    "                    self.labels.append(int(label))\n",
    "                    self.samples.append(measurement)\n",
    "                    measurement = []\n",
    "\n",
    "    def __len__(self):\n",
    "        return len(self.labels)\n",
    "\n",
    "    def __getitem__(self, idx):\n",
    "        sample_paths = self.samples[idx]  # List of paths to the spectrogram files\n",
    "        label = self.labels[idx]\n",
    "        \n",
    "        # Read and stack the images (spectrograms)\n",
    "        images = []\n",
    "        for path in sample_paths:\n",
    "            image = Image.open(path)  # Load the image (spectrogram)\n",
    "            image = image.convert(\"RGB\")  # Convert to RGB (if necessary)\n",
    "            images.append(image)\n",
    "\n",
    "        # Convert list of images to a single tensor (stack along a new axis)\n",
    "        sample = torch.stack([transforms.ToTensor()(img) for img in images])\n",
    "\n",
    "        if self.transform:\n",
    "            sample = self.transform(sample)\n",
    "\n",
    "        if self.target_transform:\n",
    "            label = self.target_transform(label)\n",
    "\n",
    "        return sample, label\n"
   ]
  },
  {
   "cell_type": "code",
   "execution_count": 88,
   "metadata": {},
   "outputs": [],
   "source": [
    "train_data = SpectrogramDataset(base_dir / \"train\")\n",
    "test_data = SpectrogramDataset(base_dir / \"test\")"
   ]
  },
  {
   "cell_type": "code",
   "execution_count": 89,
   "metadata": {},
   "outputs": [],
   "source": [
    "train_loader = DataLoader(train_data, batch_size=32, shuffle=True)\n",
    "test_loader = DataLoader(test_data, batch_size=32, shuffle=False)"
   ]
  },
  {
   "cell_type": "code",
   "execution_count": 91,
   "metadata": {},
   "outputs": [
    {
     "ename": "RuntimeError",
     "evalue": "Expected 4-dimensional input for 4-dimensional weight [32, 1, 3, 3], but got 5-dimensional input of size [32, 8, 3, 17, 1542] instead",
     "output_type": "error",
     "traceback": [
      "\u001b[1;31m---------------------------------------------------------------------------\u001b[0m",
      "\u001b[1;31mRuntimeError\u001b[0m                              Traceback (most recent call last)",
      "Cell \u001b[1;32mIn[91], line 54\u001b[0m\n\u001b[0;32m     51\u001b[0m labels \u001b[38;5;241m=\u001b[39m labels\u001b[38;5;241m.\u001b[39mto(device)\u001b[38;5;241m.\u001b[39mto(torch\u001b[38;5;241m.\u001b[39mfloat32)  \u001b[38;5;66;03m# Make sure labels are float32 for BCE\u001b[39;00m\n\u001b[0;32m     53\u001b[0m optimizer\u001b[38;5;241m.\u001b[39mzero_grad()\n\u001b[1;32m---> 54\u001b[0m outputs \u001b[38;5;241m=\u001b[39m \u001b[43mmodel\u001b[49m\u001b[43m(\u001b[49m\u001b[43mimages\u001b[49m\u001b[43m)\u001b[49m  \u001b[38;5;66;03m# Pass images through the model\u001b[39;00m\n\u001b[0;32m     55\u001b[0m loss \u001b[38;5;241m=\u001b[39m criterion(outputs\u001b[38;5;241m.\u001b[39msqueeze(\u001b[38;5;241m-\u001b[39m\u001b[38;5;241m1\u001b[39m), labels)  \u001b[38;5;66;03m# Compute loss\u001b[39;00m\n\u001b[0;32m     56\u001b[0m loss\u001b[38;5;241m.\u001b[39mbackward()\n",
      "File \u001b[1;32mc:\\Users\\Daniel\\anaconda3\\envs\\tf_env\\lib\\site-packages\\torch\\nn\\modules\\module.py:727\u001b[0m, in \u001b[0;36m_call_impl\u001b[1;34m(self, *input, **kwargs)\u001b[0m\n\u001b[0;32m    699\u001b[0m \u001b[38;5;28;01mdef\u001b[39;00m\u001b[38;5;250m \u001b[39m\u001b[38;5;21mregister_full_backward_hook\u001b[39m(\n\u001b[0;32m    700\u001b[0m     \u001b[38;5;28mself\u001b[39m, hook: Callable[[\u001b[38;5;124m'\u001b[39m\u001b[38;5;124mModule\u001b[39m\u001b[38;5;124m'\u001b[39m, _grad_t, _grad_t], Union[\u001b[38;5;28;01mNone\u001b[39;00m, Tensor]]\n\u001b[0;32m    701\u001b[0m ) \u001b[38;5;241m-\u001b[39m\u001b[38;5;241m>\u001b[39m RemovableHandle:\n\u001b[0;32m    702\u001b[0m \u001b[38;5;250m    \u001b[39m\u001b[38;5;124mr\u001b[39m\u001b[38;5;124;03m\"\"\"Registers a backward hook on the module.\u001b[39;00m\n\u001b[0;32m    703\u001b[0m \n\u001b[0;32m    704\u001b[0m \u001b[38;5;124;03m    The hook will be called every time the gradients with respect to module\u001b[39;00m\n\u001b[0;32m    705\u001b[0m \u001b[38;5;124;03m    inputs are computed. The hook should have the following signature::\u001b[39;00m\n\u001b[0;32m    706\u001b[0m \n\u001b[0;32m    707\u001b[0m \u001b[38;5;124;03m        hook(module, grad_input, grad_output) -> tuple(Tensor) or None\u001b[39;00m\n\u001b[0;32m    708\u001b[0m \n\u001b[0;32m    709\u001b[0m \u001b[38;5;124;03m    The :attr:`grad_input` and :attr:`grad_output` are tuples that contain the gradients\u001b[39;00m\n\u001b[0;32m    710\u001b[0m \u001b[38;5;124;03m    with respect to the inputs and outputs respectively. The hook should\u001b[39;00m\n\u001b[0;32m    711\u001b[0m \u001b[38;5;124;03m    not modify its arguments, but it can optionally return a new gradient with\u001b[39;00m\n\u001b[0;32m    712\u001b[0m \u001b[38;5;124;03m    respect to the input that will be used in place of :attr:`grad_input` in\u001b[39;00m\n\u001b[0;32m    713\u001b[0m \u001b[38;5;124;03m    subsequent computations. :attr:`grad_input` will only correspond to the inputs given\u001b[39;00m\n\u001b[0;32m    714\u001b[0m \u001b[38;5;124;03m    as positional arguments and all kwarg arguments are ignored. Entries\u001b[39;00m\n\u001b[0;32m    715\u001b[0m \u001b[38;5;124;03m    in :attr:`grad_input` and :attr:`grad_output` will be ``None`` for all non-Tensor\u001b[39;00m\n\u001b[0;32m    716\u001b[0m \u001b[38;5;124;03m    arguments.\u001b[39;00m\n\u001b[0;32m    717\u001b[0m \n\u001b[0;32m    718\u001b[0m \u001b[38;5;124;03m    .. warning ::\u001b[39;00m\n\u001b[0;32m    719\u001b[0m \u001b[38;5;124;03m        Modifying inputs or outputs inplace is not allowed when using backward hooks and\u001b[39;00m\n\u001b[0;32m    720\u001b[0m \u001b[38;5;124;03m        will raise an error.\u001b[39;00m\n\u001b[0;32m    721\u001b[0m \n\u001b[0;32m    722\u001b[0m \u001b[38;5;124;03m    Returns:\u001b[39;00m\n\u001b[0;32m    723\u001b[0m \u001b[38;5;124;03m        :class:`torch.utils.hooks.RemovableHandle`:\u001b[39;00m\n\u001b[0;32m    724\u001b[0m \u001b[38;5;124;03m            a handle that can be used to remove the added hook by calling\u001b[39;00m\n\u001b[0;32m    725\u001b[0m \u001b[38;5;124;03m            ``handle.remove()``\u001b[39;00m\n\u001b[0;32m    726\u001b[0m \n\u001b[1;32m--> 727\u001b[0m \u001b[38;5;124;03m    \"\"\"\u001b[39;00m\n\u001b[0;32m    728\u001b[0m     \u001b[38;5;28;01mif\u001b[39;00m \u001b[38;5;28mself\u001b[39m\u001b[38;5;241m.\u001b[39m_is_full_backward_hook \u001b[38;5;129;01mis\u001b[39;00m \u001b[38;5;28;01mFalse\u001b[39;00m:\n\u001b[0;32m    729\u001b[0m         \u001b[38;5;28;01mraise\u001b[39;00m \u001b[38;5;167;01mRuntimeError\u001b[39;00m(\u001b[38;5;124m\"\u001b[39m\u001b[38;5;124mCannot use both regular backward hooks and full backward hooks on a \u001b[39m\u001b[38;5;124m\"\u001b[39m\n\u001b[0;32m    730\u001b[0m                            \u001b[38;5;124m\"\u001b[39m\u001b[38;5;124msingle Module. Please use only one of them.\u001b[39m\u001b[38;5;124m\"\u001b[39m)\n",
      "Cell \u001b[1;32mIn[91], line 28\u001b[0m, in \u001b[0;36mConvModel.forward\u001b[1;34m(self, x)\u001b[0m\n\u001b[0;32m     27\u001b[0m \u001b[38;5;28;01mdef\u001b[39;00m\u001b[38;5;250m \u001b[39m\u001b[38;5;21mforward\u001b[39m(\u001b[38;5;28mself\u001b[39m, x):\n\u001b[1;32m---> 28\u001b[0m     x \u001b[38;5;241m=\u001b[39m \u001b[38;5;28;43mself\u001b[39;49m\u001b[38;5;241;43m.\u001b[39;49m\u001b[43mconv\u001b[49m\u001b[43m(\u001b[49m\u001b[43mx\u001b[49m\u001b[43m)\u001b[49m\n\u001b[0;32m     29\u001b[0m     x \u001b[38;5;241m=\u001b[39m \u001b[38;5;28mself\u001b[39m\u001b[38;5;241m.\u001b[39mflatten(x)\n\u001b[0;32m     30\u001b[0m     x \u001b[38;5;241m=\u001b[39m \u001b[38;5;28mself\u001b[39m\u001b[38;5;241m.\u001b[39mfc(x)\n",
      "File \u001b[1;32mc:\\Users\\Daniel\\anaconda3\\envs\\tf_env\\lib\\site-packages\\torch\\nn\\modules\\module.py:727\u001b[0m, in \u001b[0;36m_call_impl\u001b[1;34m(self, *input, **kwargs)\u001b[0m\n\u001b[0;32m    699\u001b[0m \u001b[38;5;28;01mdef\u001b[39;00m\u001b[38;5;250m \u001b[39m\u001b[38;5;21mregister_full_backward_hook\u001b[39m(\n\u001b[0;32m    700\u001b[0m     \u001b[38;5;28mself\u001b[39m, hook: Callable[[\u001b[38;5;124m'\u001b[39m\u001b[38;5;124mModule\u001b[39m\u001b[38;5;124m'\u001b[39m, _grad_t, _grad_t], Union[\u001b[38;5;28;01mNone\u001b[39;00m, Tensor]]\n\u001b[0;32m    701\u001b[0m ) \u001b[38;5;241m-\u001b[39m\u001b[38;5;241m>\u001b[39m RemovableHandle:\n\u001b[0;32m    702\u001b[0m \u001b[38;5;250m    \u001b[39m\u001b[38;5;124mr\u001b[39m\u001b[38;5;124;03m\"\"\"Registers a backward hook on the module.\u001b[39;00m\n\u001b[0;32m    703\u001b[0m \n\u001b[0;32m    704\u001b[0m \u001b[38;5;124;03m    The hook will be called every time the gradients with respect to module\u001b[39;00m\n\u001b[0;32m    705\u001b[0m \u001b[38;5;124;03m    inputs are computed. The hook should have the following signature::\u001b[39;00m\n\u001b[0;32m    706\u001b[0m \n\u001b[0;32m    707\u001b[0m \u001b[38;5;124;03m        hook(module, grad_input, grad_output) -> tuple(Tensor) or None\u001b[39;00m\n\u001b[0;32m    708\u001b[0m \n\u001b[0;32m    709\u001b[0m \u001b[38;5;124;03m    The :attr:`grad_input` and :attr:`grad_output` are tuples that contain the gradients\u001b[39;00m\n\u001b[0;32m    710\u001b[0m \u001b[38;5;124;03m    with respect to the inputs and outputs respectively. The hook should\u001b[39;00m\n\u001b[0;32m    711\u001b[0m \u001b[38;5;124;03m    not modify its arguments, but it can optionally return a new gradient with\u001b[39;00m\n\u001b[0;32m    712\u001b[0m \u001b[38;5;124;03m    respect to the input that will be used in place of :attr:`grad_input` in\u001b[39;00m\n\u001b[0;32m    713\u001b[0m \u001b[38;5;124;03m    subsequent computations. :attr:`grad_input` will only correspond to the inputs given\u001b[39;00m\n\u001b[0;32m    714\u001b[0m \u001b[38;5;124;03m    as positional arguments and all kwarg arguments are ignored. Entries\u001b[39;00m\n\u001b[0;32m    715\u001b[0m \u001b[38;5;124;03m    in :attr:`grad_input` and :attr:`grad_output` will be ``None`` for all non-Tensor\u001b[39;00m\n\u001b[0;32m    716\u001b[0m \u001b[38;5;124;03m    arguments.\u001b[39;00m\n\u001b[0;32m    717\u001b[0m \n\u001b[0;32m    718\u001b[0m \u001b[38;5;124;03m    .. warning ::\u001b[39;00m\n\u001b[0;32m    719\u001b[0m \u001b[38;5;124;03m        Modifying inputs or outputs inplace is not allowed when using backward hooks and\u001b[39;00m\n\u001b[0;32m    720\u001b[0m \u001b[38;5;124;03m        will raise an error.\u001b[39;00m\n\u001b[0;32m    721\u001b[0m \n\u001b[0;32m    722\u001b[0m \u001b[38;5;124;03m    Returns:\u001b[39;00m\n\u001b[0;32m    723\u001b[0m \u001b[38;5;124;03m        :class:`torch.utils.hooks.RemovableHandle`:\u001b[39;00m\n\u001b[0;32m    724\u001b[0m \u001b[38;5;124;03m            a handle that can be used to remove the added hook by calling\u001b[39;00m\n\u001b[0;32m    725\u001b[0m \u001b[38;5;124;03m            ``handle.remove()``\u001b[39;00m\n\u001b[0;32m    726\u001b[0m \n\u001b[1;32m--> 727\u001b[0m \u001b[38;5;124;03m    \"\"\"\u001b[39;00m\n\u001b[0;32m    728\u001b[0m     \u001b[38;5;28;01mif\u001b[39;00m \u001b[38;5;28mself\u001b[39m\u001b[38;5;241m.\u001b[39m_is_full_backward_hook \u001b[38;5;129;01mis\u001b[39;00m \u001b[38;5;28;01mFalse\u001b[39;00m:\n\u001b[0;32m    729\u001b[0m         \u001b[38;5;28;01mraise\u001b[39;00m \u001b[38;5;167;01mRuntimeError\u001b[39;00m(\u001b[38;5;124m\"\u001b[39m\u001b[38;5;124mCannot use both regular backward hooks and full backward hooks on a \u001b[39m\u001b[38;5;124m\"\u001b[39m\n\u001b[0;32m    730\u001b[0m                            \u001b[38;5;124m\"\u001b[39m\u001b[38;5;124msingle Module. Please use only one of them.\u001b[39m\u001b[38;5;124m\"\u001b[39m)\n",
      "File \u001b[1;32mc:\\Users\\Daniel\\anaconda3\\envs\\tf_env\\lib\\site-packages\\torch\\nn\\modules\\container.py:117\u001b[0m, in \u001b[0;36mforward\u001b[1;34m(self, input)\u001b[0m\n\u001b[0;32m    111\u001b[0m     \u001b[38;5;28;01mreturn\u001b[39;00m \u001b[38;5;28miter\u001b[39m(\u001b[38;5;28mself\u001b[39m\u001b[38;5;241m.\u001b[39m_modules\u001b[38;5;241m.\u001b[39mvalues())\n\u001b[0;32m    113\u001b[0m \u001b[38;5;66;03m# NB: We can't really type check this function as the type of input\u001b[39;00m\n\u001b[0;32m    114\u001b[0m \u001b[38;5;66;03m# may change dynamically (as is tested in\u001b[39;00m\n\u001b[0;32m    115\u001b[0m \u001b[38;5;66;03m# TestScript.test_sequential_intermediary_types).  Cannot annotate\u001b[39;00m\n\u001b[0;32m    116\u001b[0m \u001b[38;5;66;03m# with Any as TorchScript expects a more precise type\u001b[39;00m\n\u001b[1;32m--> 117\u001b[0m \u001b[38;5;28;01mdef\u001b[39;00m\u001b[38;5;250m \u001b[39m\u001b[38;5;21mforward\u001b[39m(\u001b[38;5;28mself\u001b[39m, \u001b[38;5;28minput\u001b[39m):\n\u001b[0;32m    118\u001b[0m     \u001b[38;5;28;01mfor\u001b[39;00m module \u001b[38;5;129;01min\u001b[39;00m \u001b[38;5;28mself\u001b[39m:\n\u001b[0;32m    119\u001b[0m         \u001b[38;5;28minput\u001b[39m \u001b[38;5;241m=\u001b[39m module(\u001b[38;5;28minput\u001b[39m)\n",
      "File \u001b[1;32mc:\\Users\\Daniel\\anaconda3\\envs\\tf_env\\lib\\site-packages\\torch\\nn\\modules\\module.py:727\u001b[0m, in \u001b[0;36m_call_impl\u001b[1;34m(self, *input, **kwargs)\u001b[0m\n\u001b[0;32m    699\u001b[0m \u001b[38;5;28;01mdef\u001b[39;00m\u001b[38;5;250m \u001b[39m\u001b[38;5;21mregister_full_backward_hook\u001b[39m(\n\u001b[0;32m    700\u001b[0m     \u001b[38;5;28mself\u001b[39m, hook: Callable[[\u001b[38;5;124m'\u001b[39m\u001b[38;5;124mModule\u001b[39m\u001b[38;5;124m'\u001b[39m, _grad_t, _grad_t], Union[\u001b[38;5;28;01mNone\u001b[39;00m, Tensor]]\n\u001b[0;32m    701\u001b[0m ) \u001b[38;5;241m-\u001b[39m\u001b[38;5;241m>\u001b[39m RemovableHandle:\n\u001b[0;32m    702\u001b[0m \u001b[38;5;250m    \u001b[39m\u001b[38;5;124mr\u001b[39m\u001b[38;5;124;03m\"\"\"Registers a backward hook on the module.\u001b[39;00m\n\u001b[0;32m    703\u001b[0m \n\u001b[0;32m    704\u001b[0m \u001b[38;5;124;03m    The hook will be called every time the gradients with respect to module\u001b[39;00m\n\u001b[0;32m    705\u001b[0m \u001b[38;5;124;03m    inputs are computed. The hook should have the following signature::\u001b[39;00m\n\u001b[0;32m    706\u001b[0m \n\u001b[0;32m    707\u001b[0m \u001b[38;5;124;03m        hook(module, grad_input, grad_output) -> tuple(Tensor) or None\u001b[39;00m\n\u001b[0;32m    708\u001b[0m \n\u001b[0;32m    709\u001b[0m \u001b[38;5;124;03m    The :attr:`grad_input` and :attr:`grad_output` are tuples that contain the gradients\u001b[39;00m\n\u001b[0;32m    710\u001b[0m \u001b[38;5;124;03m    with respect to the inputs and outputs respectively. The hook should\u001b[39;00m\n\u001b[0;32m    711\u001b[0m \u001b[38;5;124;03m    not modify its arguments, but it can optionally return a new gradient with\u001b[39;00m\n\u001b[0;32m    712\u001b[0m \u001b[38;5;124;03m    respect to the input that will be used in place of :attr:`grad_input` in\u001b[39;00m\n\u001b[0;32m    713\u001b[0m \u001b[38;5;124;03m    subsequent computations. :attr:`grad_input` will only correspond to the inputs given\u001b[39;00m\n\u001b[0;32m    714\u001b[0m \u001b[38;5;124;03m    as positional arguments and all kwarg arguments are ignored. Entries\u001b[39;00m\n\u001b[0;32m    715\u001b[0m \u001b[38;5;124;03m    in :attr:`grad_input` and :attr:`grad_output` will be ``None`` for all non-Tensor\u001b[39;00m\n\u001b[0;32m    716\u001b[0m \u001b[38;5;124;03m    arguments.\u001b[39;00m\n\u001b[0;32m    717\u001b[0m \n\u001b[0;32m    718\u001b[0m \u001b[38;5;124;03m    .. warning ::\u001b[39;00m\n\u001b[0;32m    719\u001b[0m \u001b[38;5;124;03m        Modifying inputs or outputs inplace is not allowed when using backward hooks and\u001b[39;00m\n\u001b[0;32m    720\u001b[0m \u001b[38;5;124;03m        will raise an error.\u001b[39;00m\n\u001b[0;32m    721\u001b[0m \n\u001b[0;32m    722\u001b[0m \u001b[38;5;124;03m    Returns:\u001b[39;00m\n\u001b[0;32m    723\u001b[0m \u001b[38;5;124;03m        :class:`torch.utils.hooks.RemovableHandle`:\u001b[39;00m\n\u001b[0;32m    724\u001b[0m \u001b[38;5;124;03m            a handle that can be used to remove the added hook by calling\u001b[39;00m\n\u001b[0;32m    725\u001b[0m \u001b[38;5;124;03m            ``handle.remove()``\u001b[39;00m\n\u001b[0;32m    726\u001b[0m \n\u001b[1;32m--> 727\u001b[0m \u001b[38;5;124;03m    \"\"\"\u001b[39;00m\n\u001b[0;32m    728\u001b[0m     \u001b[38;5;28;01mif\u001b[39;00m \u001b[38;5;28mself\u001b[39m\u001b[38;5;241m.\u001b[39m_is_full_backward_hook \u001b[38;5;129;01mis\u001b[39;00m \u001b[38;5;28;01mFalse\u001b[39;00m:\n\u001b[0;32m    729\u001b[0m         \u001b[38;5;28;01mraise\u001b[39;00m \u001b[38;5;167;01mRuntimeError\u001b[39;00m(\u001b[38;5;124m\"\u001b[39m\u001b[38;5;124mCannot use both regular backward hooks and full backward hooks on a \u001b[39m\u001b[38;5;124m\"\u001b[39m\n\u001b[0;32m    730\u001b[0m                            \u001b[38;5;124m\"\u001b[39m\u001b[38;5;124msingle Module. Please use only one of them.\u001b[39m\u001b[38;5;124m\"\u001b[39m)\n",
      "File \u001b[1;32mc:\\Users\\Daniel\\anaconda3\\envs\\tf_env\\lib\\site-packages\\torch\\nn\\modules\\conv.py:423\u001b[0m, in \u001b[0;36mforward\u001b[1;34m(self, input)\u001b[0m\n\u001b[0;32m    401\u001b[0m \u001b[38;5;28;01mclass\u001b[39;00m\u001b[38;5;250m \u001b[39m\u001b[38;5;21;01mConv3d\u001b[39;00m(_ConvNd):\n\u001b[0;32m    402\u001b[0m     \u001b[38;5;18m__doc__\u001b[39m \u001b[38;5;241m=\u001b[39m \u001b[38;5;124mr\u001b[39m\u001b[38;5;124m\"\"\"\u001b[39m\u001b[38;5;124mApplies a 3D convolution over an input signal composed of several input\u001b[39m\n\u001b[0;32m    403\u001b[0m \u001b[38;5;124m    planes.\u001b[39m\n\u001b[0;32m    404\u001b[0m \n\u001b[0;32m    405\u001b[0m \u001b[38;5;124m    In the simplest case, the output value of the layer with input size :math:`(N, C_\u001b[39m\u001b[38;5;132;01m{in}\u001b[39;00m\u001b[38;5;124m, D, H, W)`\u001b[39m\n\u001b[0;32m    406\u001b[0m \u001b[38;5;124m    and output :math:`(N, C_\u001b[39m\u001b[38;5;132;01m{out}\u001b[39;00m\u001b[38;5;124m, D_\u001b[39m\u001b[38;5;132;01m{out}\u001b[39;00m\u001b[38;5;124m, H_\u001b[39m\u001b[38;5;132;01m{out}\u001b[39;00m\u001b[38;5;124m, W_\u001b[39m\u001b[38;5;132;01m{out}\u001b[39;00m\u001b[38;5;124m)` can be precisely described as:\u001b[39m\n\u001b[0;32m    407\u001b[0m \n\u001b[0;32m    408\u001b[0m \u001b[38;5;124m    .. math::\u001b[39m\n\u001b[0;32m    409\u001b[0m \u001b[38;5;124m        out(N_i, C_\u001b[39m\u001b[38;5;132;01m{out_j}\u001b[39;00m\u001b[38;5;124m) = bias(C_\u001b[39m\u001b[38;5;132;01m{out_j}\u001b[39;00m\u001b[38;5;124m) +\u001b[39m\n\u001b[0;32m    410\u001b[0m \u001b[38;5;124m                                \u001b[39m\u001b[38;5;124m\\\u001b[39m\u001b[38;5;124msum_\u001b[39m\u001b[38;5;124m{\u001b[39m\u001b[38;5;124mk = 0}^\u001b[39m\u001b[38;5;124m{\u001b[39m\u001b[38;5;124mC_\u001b[39m\u001b[38;5;132;01m{in}\u001b[39;00m\u001b[38;5;124m - 1} weight(C_\u001b[39m\u001b[38;5;132;01m{out_j}\u001b[39;00m\u001b[38;5;124m, k) \u001b[39m\u001b[38;5;124m\\\u001b[39m\u001b[38;5;124mstar input(N_i, k)\u001b[39m\n\u001b[0;32m    411\u001b[0m \n\u001b[0;32m    412\u001b[0m \u001b[38;5;124m    where :math:`\u001b[39m\u001b[38;5;124m\\\u001b[39m\u001b[38;5;124mstar` is the valid 3D `cross-correlation`_ operator\u001b[39m\n\u001b[0;32m    413\u001b[0m \u001b[38;5;124m    \u001b[39m\u001b[38;5;124m\"\"\"\u001b[39m \u001b[38;5;241m+\u001b[39m \u001b[38;5;124mr\u001b[39m\u001b[38;5;124m\"\"\"\u001b[39m\n\u001b[0;32m    414\u001b[0m \n\u001b[0;32m    415\u001b[0m \u001b[38;5;124m    This module supports :ref:`TensorFloat32<tf32_on_ampere>`.\u001b[39m\n\u001b[0;32m    416\u001b[0m \n\u001b[0;32m    417\u001b[0m \u001b[38;5;124m    * :attr:`stride` controls the stride for the cross-correlation.\u001b[39m\n\u001b[0;32m    418\u001b[0m \n\u001b[0;32m    419\u001b[0m \u001b[38;5;124m    * :attr:`padding` controls the amount of implicit padding on both\u001b[39m\n\u001b[0;32m    420\u001b[0m \u001b[38;5;124m      sides for :attr:`padding` number of points for each dimension.\u001b[39m\n\u001b[0;32m    421\u001b[0m \n\u001b[0;32m    422\u001b[0m \u001b[38;5;124m    * :attr:`dilation` controls the spacing between the kernel points; also known as the à trous algorithm.\u001b[39m\n\u001b[1;32m--> 423\u001b[0m \u001b[38;5;124m      It is harder to describe, but this `link`_ has a nice visualization of what :attr:`dilation` does.\u001b[39m\n\u001b[0;32m    424\u001b[0m \n\u001b[0;32m    425\u001b[0m \u001b[38;5;124m    \u001b[39m\u001b[38;5;132;01m{groups_note}\u001b[39;00m\n\u001b[0;32m    426\u001b[0m \n\u001b[0;32m    427\u001b[0m \u001b[38;5;124m    The parameters :attr:`kernel_size`, :attr:`stride`, :attr:`padding`, :attr:`dilation` can either be:\u001b[39m\n\u001b[0;32m    428\u001b[0m \n\u001b[0;32m    429\u001b[0m \u001b[38;5;124m        - a single ``int`` -- in which case the same value is used for the depth, height and width dimension\u001b[39m\n\u001b[0;32m    430\u001b[0m \u001b[38;5;124m        - a ``tuple`` of three ints -- in which case, the first `int` is used for the depth dimension,\u001b[39m\n\u001b[0;32m    431\u001b[0m \u001b[38;5;124m          the second `int` for the height dimension and the third `int` for the width dimension\u001b[39m\n\u001b[0;32m    432\u001b[0m \n\u001b[0;32m    433\u001b[0m \u001b[38;5;124m    Note:\u001b[39m\n\u001b[0;32m    434\u001b[0m \u001b[38;5;124m        \u001b[39m\u001b[38;5;132;01m{depthwise_separable_note}\u001b[39;00m\n\u001b[0;32m    435\u001b[0m \n\u001b[0;32m    436\u001b[0m \u001b[38;5;124m    Note:\u001b[39m\n\u001b[0;32m    437\u001b[0m \u001b[38;5;124m        \u001b[39m\u001b[38;5;132;01m{cudnn_reproducibility_note}\u001b[39;00m\n\u001b[0;32m    438\u001b[0m \n\u001b[0;32m    439\u001b[0m \u001b[38;5;124m    Args:\u001b[39m\n\u001b[0;32m    440\u001b[0m \u001b[38;5;124m        in_channels (int): Number of channels in the input image\u001b[39m\n\u001b[0;32m    441\u001b[0m \u001b[38;5;124m        out_channels (int): Number of channels produced by the convolution\u001b[39m\n\u001b[0;32m    442\u001b[0m \u001b[38;5;124m        kernel_size (int or tuple): Size of the convolving kernel\u001b[39m\n\u001b[0;32m    443\u001b[0m \u001b[38;5;124m        stride (int or tuple, optional): Stride of the convolution. Default: 1\u001b[39m\n\u001b[0;32m    444\u001b[0m \u001b[38;5;124m        padding (int or tuple, optional): Zero-padding added to all three sides of the input. Default: 0\u001b[39m\n\u001b[0;32m    445\u001b[0m \u001b[38;5;124m        padding_mode (string, optional): ``\u001b[39m\u001b[38;5;124m'\u001b[39m\u001b[38;5;124mzeros\u001b[39m\u001b[38;5;124m'\u001b[39m\u001b[38;5;124m``, ``\u001b[39m\u001b[38;5;124m'\u001b[39m\u001b[38;5;124mreflect\u001b[39m\u001b[38;5;124m'\u001b[39m\u001b[38;5;124m``, ``\u001b[39m\u001b[38;5;124m'\u001b[39m\u001b[38;5;124mreplicate\u001b[39m\u001b[38;5;124m'\u001b[39m\u001b[38;5;124m`` or ``\u001b[39m\u001b[38;5;124m'\u001b[39m\u001b[38;5;124mcircular\u001b[39m\u001b[38;5;124m'\u001b[39m\u001b[38;5;124m``. Default: ``\u001b[39m\u001b[38;5;124m'\u001b[39m\u001b[38;5;124mzeros\u001b[39m\u001b[38;5;124m'\u001b[39m\u001b[38;5;124m``\u001b[39m\n\u001b[0;32m    446\u001b[0m \u001b[38;5;124m        dilation (int or tuple, optional): Spacing between kernel elements. Default: 1\u001b[39m\n\u001b[0;32m    447\u001b[0m \u001b[38;5;124m        groups (int, optional): Number of blocked connections from input channels to output channels. Default: 1\u001b[39m\n\u001b[0;32m    448\u001b[0m \u001b[38;5;124m        bias (bool, optional): If ``True``, adds a learnable bias to the output. Default: ``True``\u001b[39m\n\u001b[0;32m    449\u001b[0m \u001b[38;5;124m    \u001b[39m\u001b[38;5;124m\"\"\"\u001b[39m\u001b[38;5;241m.\u001b[39mformat(\u001b[38;5;241m*\u001b[39m\u001b[38;5;241m*\u001b[39mreproducibility_notes, \u001b[38;5;241m*\u001b[39m\u001b[38;5;241m*\u001b[39mconvolution_notes) \u001b[38;5;241m+\u001b[39m \u001b[38;5;124mr\u001b[39m\u001b[38;5;124m\"\"\"\u001b[39m\n\u001b[0;32m    450\u001b[0m \n\u001b[0;32m    451\u001b[0m \u001b[38;5;124m    Shape:\u001b[39m\n\u001b[0;32m    452\u001b[0m \u001b[38;5;124m        - Input: :math:`(N, C_\u001b[39m\u001b[38;5;132;01m{in}\u001b[39;00m\u001b[38;5;124m, D_\u001b[39m\u001b[38;5;132;01m{in}\u001b[39;00m\u001b[38;5;124m, H_\u001b[39m\u001b[38;5;132;01m{in}\u001b[39;00m\u001b[38;5;124m, W_\u001b[39m\u001b[38;5;132;01m{in}\u001b[39;00m\u001b[38;5;124m)`\u001b[39m\n\u001b[0;32m    453\u001b[0m \u001b[38;5;124m        - Output: :math:`(N, C_\u001b[39m\u001b[38;5;132;01m{out}\u001b[39;00m\u001b[38;5;124m, D_\u001b[39m\u001b[38;5;132;01m{out}\u001b[39;00m\u001b[38;5;124m, H_\u001b[39m\u001b[38;5;132;01m{out}\u001b[39;00m\u001b[38;5;124m, W_\u001b[39m\u001b[38;5;132;01m{out}\u001b[39;00m\u001b[38;5;124m)` where\u001b[39m\n\u001b[0;32m    454\u001b[0m \n\u001b[0;32m    455\u001b[0m \u001b[38;5;124m          .. math::\u001b[39m\n\u001b[0;32m    456\u001b[0m \u001b[38;5;124m              D_\u001b[39m\u001b[38;5;132;01m{out}\u001b[39;00m\u001b[38;5;124m = \u001b[39m\u001b[38;5;124m\\\u001b[39m\u001b[38;5;124mleft\u001b[39m\u001b[38;5;124m\\\u001b[39m\u001b[38;5;124mlfloor\u001b[39m\u001b[38;5;124m\\\u001b[39m\u001b[38;5;124mfrac\u001b[39m\u001b[38;5;124m{\u001b[39m\u001b[38;5;124mD_\u001b[39m\u001b[38;5;132;01m{in}\u001b[39;00m\u001b[38;5;124m + 2 \u001b[39m\u001b[38;5;124m\\\u001b[39m\u001b[38;5;124mtimes \u001b[39m\u001b[38;5;124m\\\u001b[39m\u001b[38;5;124mtext\u001b[39m\u001b[38;5;132;01m{padding}\u001b[39;00m\u001b[38;5;124m[0] - \u001b[39m\u001b[38;5;124m\\\u001b[39m\u001b[38;5;124mtext\u001b[39m\u001b[38;5;132;01m{dilation}\u001b[39;00m\u001b[38;5;124m[0]\u001b[39m\n\u001b[0;32m    457\u001b[0m \u001b[38;5;124m                    \u001b[39m\u001b[38;5;124m\\\u001b[39m\u001b[38;5;124mtimes (\u001b[39m\u001b[38;5;124m\\\u001b[39m\u001b[38;5;124mtext\u001b[39m\u001b[38;5;124m{\u001b[39m\u001b[38;5;124mkernel\u001b[39m\u001b[38;5;124m\\\u001b[39m\u001b[38;5;124m_size}[0] - 1) - 1}\u001b[39m\u001b[38;5;124m{\u001b[39m\u001b[38;5;124m\\\u001b[39m\u001b[38;5;124mtext\u001b[39m\u001b[38;5;132;01m{stride}\u001b[39;00m\u001b[38;5;124m[0]} + 1\u001b[39m\u001b[38;5;124m\\\u001b[39m\u001b[38;5;124mright\u001b[39m\u001b[38;5;124m\\\u001b[39m\u001b[38;5;124mrfloor\u001b[39m\n\u001b[0;32m    458\u001b[0m \n\u001b[0;32m    459\u001b[0m \u001b[38;5;124m          .. math::\u001b[39m\n\u001b[0;32m    460\u001b[0m \u001b[38;5;124m              H_\u001b[39m\u001b[38;5;132;01m{out}\u001b[39;00m\u001b[38;5;124m = \u001b[39m\u001b[38;5;124m\\\u001b[39m\u001b[38;5;124mleft\u001b[39m\u001b[38;5;124m\\\u001b[39m\u001b[38;5;124mlfloor\u001b[39m\u001b[38;5;124m\\\u001b[39m\u001b[38;5;124mfrac\u001b[39m\u001b[38;5;124m{\u001b[39m\u001b[38;5;124mH_\u001b[39m\u001b[38;5;132;01m{in}\u001b[39;00m\u001b[38;5;124m + 2 \u001b[39m\u001b[38;5;124m\\\u001b[39m\u001b[38;5;124mtimes \u001b[39m\u001b[38;5;124m\\\u001b[39m\u001b[38;5;124mtext\u001b[39m\u001b[38;5;132;01m{padding}\u001b[39;00m\u001b[38;5;124m[1] - \u001b[39m\u001b[38;5;124m\\\u001b[39m\u001b[38;5;124mtext\u001b[39m\u001b[38;5;132;01m{dilation}\u001b[39;00m\u001b[38;5;124m[1]\u001b[39m\n\u001b[0;32m    461\u001b[0m \u001b[38;5;124m                    \u001b[39m\u001b[38;5;124m\\\u001b[39m\u001b[38;5;124mtimes (\u001b[39m\u001b[38;5;124m\\\u001b[39m\u001b[38;5;124mtext\u001b[39m\u001b[38;5;124m{\u001b[39m\u001b[38;5;124mkernel\u001b[39m\u001b[38;5;124m\\\u001b[39m\u001b[38;5;124m_size}[1] - 1) - 1}\u001b[39m\u001b[38;5;124m{\u001b[39m\u001b[38;5;124m\\\u001b[39m\u001b[38;5;124mtext\u001b[39m\u001b[38;5;132;01m{stride}\u001b[39;00m\u001b[38;5;124m[1]} + 1\u001b[39m\u001b[38;5;124m\\\u001b[39m\u001b[38;5;124mright\u001b[39m\u001b[38;5;124m\\\u001b[39m\u001b[38;5;124mrfloor\u001b[39m\n\u001b[0;32m    462\u001b[0m \n\u001b[0;32m    463\u001b[0m \u001b[38;5;124m          .. math::\u001b[39m\n\u001b[0;32m    464\u001b[0m \u001b[38;5;124m              W_\u001b[39m\u001b[38;5;132;01m{out}\u001b[39;00m\u001b[38;5;124m = \u001b[39m\u001b[38;5;124m\\\u001b[39m\u001b[38;5;124mleft\u001b[39m\u001b[38;5;124m\\\u001b[39m\u001b[38;5;124mlfloor\u001b[39m\u001b[38;5;124m\\\u001b[39m\u001b[38;5;124mfrac\u001b[39m\u001b[38;5;124m{\u001b[39m\u001b[38;5;124mW_\u001b[39m\u001b[38;5;132;01m{in}\u001b[39;00m\u001b[38;5;124m + 2 \u001b[39m\u001b[38;5;124m\\\u001b[39m\u001b[38;5;124mtimes \u001b[39m\u001b[38;5;124m\\\u001b[39m\u001b[38;5;124mtext\u001b[39m\u001b[38;5;132;01m{padding}\u001b[39;00m\u001b[38;5;124m[2] - \u001b[39m\u001b[38;5;124m\\\u001b[39m\u001b[38;5;124mtext\u001b[39m\u001b[38;5;132;01m{dilation}\u001b[39;00m\u001b[38;5;124m[2]\u001b[39m\n\u001b[0;32m    465\u001b[0m \u001b[38;5;124m                    \u001b[39m\u001b[38;5;124m\\\u001b[39m\u001b[38;5;124mtimes (\u001b[39m\u001b[38;5;124m\\\u001b[39m\u001b[38;5;124mtext\u001b[39m\u001b[38;5;124m{\u001b[39m\u001b[38;5;124mkernel\u001b[39m\u001b[38;5;124m\\\u001b[39m\u001b[38;5;124m_size}[2] - 1) - 1}\u001b[39m\u001b[38;5;124m{\u001b[39m\u001b[38;5;124m\\\u001b[39m\u001b[38;5;124mtext\u001b[39m\u001b[38;5;132;01m{stride}\u001b[39;00m\u001b[38;5;124m[2]} + 1\u001b[39m\u001b[38;5;124m\\\u001b[39m\u001b[38;5;124mright\u001b[39m\u001b[38;5;124m\\\u001b[39m\u001b[38;5;124mrfloor\u001b[39m\n\u001b[0;32m    466\u001b[0m \n\u001b[0;32m    467\u001b[0m \u001b[38;5;124m    Attributes:\u001b[39m\n\u001b[0;32m    468\u001b[0m \u001b[38;5;124m        weight (Tensor): the learnable weights of the module of shape\u001b[39m\n\u001b[0;32m    469\u001b[0m \u001b[38;5;124m                         :math:`(\u001b[39m\u001b[38;5;124m\\\u001b[39m\u001b[38;5;124mtext\u001b[39m\u001b[38;5;124m{\u001b[39m\u001b[38;5;124mout\u001b[39m\u001b[38;5;124m\\\u001b[39m\u001b[38;5;124m_channels}, \u001b[39m\u001b[38;5;124m\\\u001b[39m\u001b[38;5;124mfrac\u001b[39m\u001b[38;5;124m{\u001b[39m\u001b[38;5;124m\\\u001b[39m\u001b[38;5;124mtext\u001b[39m\u001b[38;5;124m{\u001b[39m\u001b[38;5;124min\u001b[39m\u001b[38;5;124m\\\u001b[39m\u001b[38;5;124m_channels}}\u001b[39m\u001b[38;5;124m{\u001b[39m\u001b[38;5;124m\\\u001b[39m\u001b[38;5;124mtext\u001b[39m\u001b[38;5;132;01m{groups}\u001b[39;00m\u001b[38;5;124m},`\u001b[39m\n\u001b[0;32m    470\u001b[0m \u001b[38;5;124m                         :math:`\u001b[39m\u001b[38;5;124m\\\u001b[39m\u001b[38;5;124mtext\u001b[39m\u001b[38;5;124m{\u001b[39m\u001b[38;5;124mkernel\u001b[39m\u001b[38;5;124m\\\u001b[39m\u001b[38;5;124m_size[0]}, \u001b[39m\u001b[38;5;124m\\\u001b[39m\u001b[38;5;124mtext\u001b[39m\u001b[38;5;124m{\u001b[39m\u001b[38;5;124mkernel\u001b[39m\u001b[38;5;124m\\\u001b[39m\u001b[38;5;124m_size[1]}, \u001b[39m\u001b[38;5;124m\\\u001b[39m\u001b[38;5;124mtext\u001b[39m\u001b[38;5;124m{\u001b[39m\u001b[38;5;124mkernel\u001b[39m\u001b[38;5;124m\\\u001b[39m\u001b[38;5;124m_size[2]})`.\u001b[39m\n\u001b[0;32m    471\u001b[0m \u001b[38;5;124m                         The values of these weights are sampled from\u001b[39m\n\u001b[0;32m    472\u001b[0m \u001b[38;5;124m                         :math:`\u001b[39m\u001b[38;5;124m\\\u001b[39m\u001b[38;5;124mmathcal\u001b[39m\u001b[38;5;132;01m{U}\u001b[39;00m\u001b[38;5;124m(-\u001b[39m\u001b[38;5;124m\\\u001b[39m\u001b[38;5;124msqrt\u001b[39m\u001b[38;5;132;01m{k}\u001b[39;00m\u001b[38;5;124m, \u001b[39m\u001b[38;5;124m\\\u001b[39m\u001b[38;5;124msqrt\u001b[39m\u001b[38;5;132;01m{k}\u001b[39;00m\u001b[38;5;124m)` where\u001b[39m\n\u001b[0;32m    473\u001b[0m \u001b[38;5;124m                         :math:`k = \u001b[39m\u001b[38;5;124m\\\u001b[39m\u001b[38;5;124mfrac\u001b[39m\u001b[38;5;132;01m{groups}\u001b[39;00m\u001b[38;5;124m{\u001b[39m\u001b[38;5;124mC_\u001b[39m\u001b[38;5;124m\\\u001b[39m\u001b[38;5;124mtext\u001b[39m\u001b[38;5;132;01m{in}\u001b[39;00m\u001b[38;5;124m * \u001b[39m\u001b[38;5;124m\\\u001b[39m\u001b[38;5;124mprod_\u001b[39m\u001b[38;5;124m{\u001b[39m\u001b[38;5;124mi=0}^\u001b[39m\u001b[38;5;132;01m{2}\u001b[39;00m\u001b[38;5;124m\\\u001b[39m\u001b[38;5;124mtext\u001b[39m\u001b[38;5;124m{\u001b[39m\u001b[38;5;124mkernel\u001b[39m\u001b[38;5;124m\\\u001b[39m\u001b[38;5;124m_size}[i]}`\u001b[39m\n\u001b[0;32m    474\u001b[0m \u001b[38;5;124m        bias (Tensor):   the learnable bias of the module of shape (out_channels). If :attr:`bias` is ``True``,\u001b[39m\n\u001b[0;32m    475\u001b[0m \u001b[38;5;124m                         then the values of these weights are\u001b[39m\n\u001b[0;32m    476\u001b[0m \u001b[38;5;124m                         sampled from :math:`\u001b[39m\u001b[38;5;124m\\\u001b[39m\u001b[38;5;124mmathcal\u001b[39m\u001b[38;5;132;01m{U}\u001b[39;00m\u001b[38;5;124m(-\u001b[39m\u001b[38;5;124m\\\u001b[39m\u001b[38;5;124msqrt\u001b[39m\u001b[38;5;132;01m{k}\u001b[39;00m\u001b[38;5;124m, \u001b[39m\u001b[38;5;124m\\\u001b[39m\u001b[38;5;124msqrt\u001b[39m\u001b[38;5;132;01m{k}\u001b[39;00m\u001b[38;5;124m)` where\u001b[39m\n\u001b[0;32m    477\u001b[0m \u001b[38;5;124m                         :math:`k = \u001b[39m\u001b[38;5;124m\\\u001b[39m\u001b[38;5;124mfrac\u001b[39m\u001b[38;5;132;01m{groups}\u001b[39;00m\u001b[38;5;124m{\u001b[39m\u001b[38;5;124mC_\u001b[39m\u001b[38;5;124m\\\u001b[39m\u001b[38;5;124mtext\u001b[39m\u001b[38;5;132;01m{in}\u001b[39;00m\u001b[38;5;124m * \u001b[39m\u001b[38;5;124m\\\u001b[39m\u001b[38;5;124mprod_\u001b[39m\u001b[38;5;124m{\u001b[39m\u001b[38;5;124mi=0}^\u001b[39m\u001b[38;5;132;01m{2}\u001b[39;00m\u001b[38;5;124m\\\u001b[39m\u001b[38;5;124mtext\u001b[39m\u001b[38;5;124m{\u001b[39m\u001b[38;5;124mkernel\u001b[39m\u001b[38;5;124m\\\u001b[39m\u001b[38;5;124m_size}[i]}`\u001b[39m\n\u001b[0;32m    478\u001b[0m \n\u001b[0;32m    479\u001b[0m \u001b[38;5;124m    Examples::\u001b[39m\n\u001b[0;32m    480\u001b[0m \n\u001b[0;32m    481\u001b[0m \u001b[38;5;124m        >>> # With square kernels and equal stride\u001b[39m\n\u001b[0;32m    482\u001b[0m \u001b[38;5;124m        >>> m = nn.Conv3d(16, 33, 3, stride=2)\u001b[39m\n\u001b[0;32m    483\u001b[0m \u001b[38;5;124m        >>> # non-square kernels and unequal stride and with padding\u001b[39m\n\u001b[0;32m    484\u001b[0m \u001b[38;5;124m        >>> m = nn.Conv3d(16, 33, (3, 5, 2), stride=(2, 1, 1), padding=(4, 2, 0))\u001b[39m\n\u001b[0;32m    485\u001b[0m \u001b[38;5;124m        >>> input = torch.randn(20, 16, 10, 50, 100)\u001b[39m\n\u001b[0;32m    486\u001b[0m \u001b[38;5;124m        >>> output = m(input)\u001b[39m\n\u001b[0;32m    487\u001b[0m \n\u001b[0;32m    488\u001b[0m \u001b[38;5;124m    .. _cross-correlation:\u001b[39m\n\u001b[0;32m    489\u001b[0m \u001b[38;5;124m        https://en.wikipedia.org/wiki/Cross-correlation\u001b[39m\n\u001b[0;32m    490\u001b[0m \n\u001b[0;32m    491\u001b[0m \u001b[38;5;124m    .. _link:\u001b[39m\n\u001b[0;32m    492\u001b[0m \u001b[38;5;124m        https://github.com/vdumoulin/conv_arithmetic/blob/master/README.md\u001b[39m\n\u001b[0;32m    493\u001b[0m \u001b[38;5;124m    \u001b[39m\u001b[38;5;124m\"\"\"\u001b[39m\n\u001b[0;32m    495\u001b[0m     \u001b[38;5;28;01mdef\u001b[39;00m\u001b[38;5;250m \u001b[39m\u001b[38;5;21m__init__\u001b[39m(\n\u001b[0;32m    496\u001b[0m         \u001b[38;5;28mself\u001b[39m,\n\u001b[0;32m    497\u001b[0m         in_channels: \u001b[38;5;28mint\u001b[39m,\n\u001b[1;32m   (...)\u001b[0m\n\u001b[0;32m    505\u001b[0m         padding_mode: \u001b[38;5;28mstr\u001b[39m \u001b[38;5;241m=\u001b[39m \u001b[38;5;124m'\u001b[39m\u001b[38;5;124mzeros\u001b[39m\u001b[38;5;124m'\u001b[39m\n\u001b[0;32m    506\u001b[0m     ):\n\u001b[0;32m    507\u001b[0m         kernel_size_ \u001b[38;5;241m=\u001b[39m _triple(kernel_size)\n",
      "File \u001b[1;32mc:\\Users\\Daniel\\anaconda3\\envs\\tf_env\\lib\\site-packages\\torch\\nn\\modules\\conv.py:419\u001b[0m, in \u001b[0;36m_conv_forward\u001b[1;34m(self, input, weight)\u001b[0m\n\u001b[0;32m    401\u001b[0m \u001b[38;5;28;01mclass\u001b[39;00m\u001b[38;5;250m \u001b[39m\u001b[38;5;21;01mConv3d\u001b[39;00m(_ConvNd):\n\u001b[0;32m    402\u001b[0m     \u001b[38;5;18m__doc__\u001b[39m \u001b[38;5;241m=\u001b[39m \u001b[38;5;124mr\u001b[39m\u001b[38;5;124m\"\"\"\u001b[39m\u001b[38;5;124mApplies a 3D convolution over an input signal composed of several input\u001b[39m\n\u001b[0;32m    403\u001b[0m \u001b[38;5;124m    planes.\u001b[39m\n\u001b[0;32m    404\u001b[0m \n\u001b[0;32m    405\u001b[0m \u001b[38;5;124m    In the simplest case, the output value of the layer with input size :math:`(N, C_\u001b[39m\u001b[38;5;132;01m{in}\u001b[39;00m\u001b[38;5;124m, D, H, W)`\u001b[39m\n\u001b[0;32m    406\u001b[0m \u001b[38;5;124m    and output :math:`(N, C_\u001b[39m\u001b[38;5;132;01m{out}\u001b[39;00m\u001b[38;5;124m, D_\u001b[39m\u001b[38;5;132;01m{out}\u001b[39;00m\u001b[38;5;124m, H_\u001b[39m\u001b[38;5;132;01m{out}\u001b[39;00m\u001b[38;5;124m, W_\u001b[39m\u001b[38;5;132;01m{out}\u001b[39;00m\u001b[38;5;124m)` can be precisely described as:\u001b[39m\n\u001b[0;32m    407\u001b[0m \n\u001b[0;32m    408\u001b[0m \u001b[38;5;124m    .. math::\u001b[39m\n\u001b[0;32m    409\u001b[0m \u001b[38;5;124m        out(N_i, C_\u001b[39m\u001b[38;5;132;01m{out_j}\u001b[39;00m\u001b[38;5;124m) = bias(C_\u001b[39m\u001b[38;5;132;01m{out_j}\u001b[39;00m\u001b[38;5;124m) +\u001b[39m\n\u001b[0;32m    410\u001b[0m \u001b[38;5;124m                                \u001b[39m\u001b[38;5;124m\\\u001b[39m\u001b[38;5;124msum_\u001b[39m\u001b[38;5;124m{\u001b[39m\u001b[38;5;124mk = 0}^\u001b[39m\u001b[38;5;124m{\u001b[39m\u001b[38;5;124mC_\u001b[39m\u001b[38;5;132;01m{in}\u001b[39;00m\u001b[38;5;124m - 1} weight(C_\u001b[39m\u001b[38;5;132;01m{out_j}\u001b[39;00m\u001b[38;5;124m, k) \u001b[39m\u001b[38;5;124m\\\u001b[39m\u001b[38;5;124mstar input(N_i, k)\u001b[39m\n\u001b[0;32m    411\u001b[0m \n\u001b[0;32m    412\u001b[0m \u001b[38;5;124m    where :math:`\u001b[39m\u001b[38;5;124m\\\u001b[39m\u001b[38;5;124mstar` is the valid 3D `cross-correlation`_ operator\u001b[39m\n\u001b[0;32m    413\u001b[0m \u001b[38;5;124m    \u001b[39m\u001b[38;5;124m\"\"\"\u001b[39m \u001b[38;5;241m+\u001b[39m \u001b[38;5;124mr\u001b[39m\u001b[38;5;124m\"\"\"\u001b[39m\n\u001b[0;32m    414\u001b[0m \n\u001b[0;32m    415\u001b[0m \u001b[38;5;124m    This module supports :ref:`TensorFloat32<tf32_on_ampere>`.\u001b[39m\n\u001b[0;32m    416\u001b[0m \n\u001b[0;32m    417\u001b[0m \u001b[38;5;124m    * :attr:`stride` controls the stride for the cross-correlation.\u001b[39m\n\u001b[0;32m    418\u001b[0m \n\u001b[1;32m--> 419\u001b[0m \u001b[38;5;124m    * :attr:`padding` controls the amount of implicit padding on both\u001b[39m\n\u001b[0;32m    420\u001b[0m \u001b[38;5;124m      sides for :attr:`padding` number of points for each dimension.\u001b[39m\n\u001b[0;32m    421\u001b[0m \n\u001b[0;32m    422\u001b[0m \u001b[38;5;124m    * :attr:`dilation` controls the spacing between the kernel points; also known as the à trous algorithm.\u001b[39m\n\u001b[0;32m    423\u001b[0m \u001b[38;5;124m      It is harder to describe, but this `link`_ has a nice visualization of what :attr:`dilation` does.\u001b[39m\n\u001b[0;32m    424\u001b[0m \n\u001b[0;32m    425\u001b[0m \u001b[38;5;124m    \u001b[39m\u001b[38;5;132;01m{groups_note}\u001b[39;00m\n\u001b[0;32m    426\u001b[0m \n\u001b[0;32m    427\u001b[0m \u001b[38;5;124m    The parameters :attr:`kernel_size`, :attr:`stride`, :attr:`padding`, :attr:`dilation` can either be:\u001b[39m\n\u001b[0;32m    428\u001b[0m \n\u001b[0;32m    429\u001b[0m \u001b[38;5;124m        - a single ``int`` -- in which case the same value is used for the depth, height and width dimension\u001b[39m\n\u001b[0;32m    430\u001b[0m \u001b[38;5;124m        - a ``tuple`` of three ints -- in which case, the first `int` is used for the depth dimension,\u001b[39m\n\u001b[0;32m    431\u001b[0m \u001b[38;5;124m          the second `int` for the height dimension and the third `int` for the width dimension\u001b[39m\n\u001b[0;32m    432\u001b[0m \n\u001b[0;32m    433\u001b[0m \u001b[38;5;124m    Note:\u001b[39m\n\u001b[0;32m    434\u001b[0m \u001b[38;5;124m        \u001b[39m\u001b[38;5;132;01m{depthwise_separable_note}\u001b[39;00m\n\u001b[0;32m    435\u001b[0m \n\u001b[0;32m    436\u001b[0m \u001b[38;5;124m    Note:\u001b[39m\n\u001b[0;32m    437\u001b[0m \u001b[38;5;124m        \u001b[39m\u001b[38;5;132;01m{cudnn_reproducibility_note}\u001b[39;00m\n\u001b[0;32m    438\u001b[0m \n\u001b[0;32m    439\u001b[0m \u001b[38;5;124m    Args:\u001b[39m\n\u001b[0;32m    440\u001b[0m \u001b[38;5;124m        in_channels (int): Number of channels in the input image\u001b[39m\n\u001b[0;32m    441\u001b[0m \u001b[38;5;124m        out_channels (int): Number of channels produced by the convolution\u001b[39m\n\u001b[0;32m    442\u001b[0m \u001b[38;5;124m        kernel_size (int or tuple): Size of the convolving kernel\u001b[39m\n\u001b[0;32m    443\u001b[0m \u001b[38;5;124m        stride (int or tuple, optional): Stride of the convolution. Default: 1\u001b[39m\n\u001b[0;32m    444\u001b[0m \u001b[38;5;124m        padding (int or tuple, optional): Zero-padding added to all three sides of the input. Default: 0\u001b[39m\n\u001b[0;32m    445\u001b[0m \u001b[38;5;124m        padding_mode (string, optional): ``\u001b[39m\u001b[38;5;124m'\u001b[39m\u001b[38;5;124mzeros\u001b[39m\u001b[38;5;124m'\u001b[39m\u001b[38;5;124m``, ``\u001b[39m\u001b[38;5;124m'\u001b[39m\u001b[38;5;124mreflect\u001b[39m\u001b[38;5;124m'\u001b[39m\u001b[38;5;124m``, ``\u001b[39m\u001b[38;5;124m'\u001b[39m\u001b[38;5;124mreplicate\u001b[39m\u001b[38;5;124m'\u001b[39m\u001b[38;5;124m`` or ``\u001b[39m\u001b[38;5;124m'\u001b[39m\u001b[38;5;124mcircular\u001b[39m\u001b[38;5;124m'\u001b[39m\u001b[38;5;124m``. Default: ``\u001b[39m\u001b[38;5;124m'\u001b[39m\u001b[38;5;124mzeros\u001b[39m\u001b[38;5;124m'\u001b[39m\u001b[38;5;124m``\u001b[39m\n\u001b[0;32m    446\u001b[0m \u001b[38;5;124m        dilation (int or tuple, optional): Spacing between kernel elements. Default: 1\u001b[39m\n\u001b[0;32m    447\u001b[0m \u001b[38;5;124m        groups (int, optional): Number of blocked connections from input channels to output channels. Default: 1\u001b[39m\n\u001b[0;32m    448\u001b[0m \u001b[38;5;124m        bias (bool, optional): If ``True``, adds a learnable bias to the output. Default: ``True``\u001b[39m\n\u001b[0;32m    449\u001b[0m \u001b[38;5;124m    \u001b[39m\u001b[38;5;124m\"\"\"\u001b[39m\u001b[38;5;241m.\u001b[39mformat(\u001b[38;5;241m*\u001b[39m\u001b[38;5;241m*\u001b[39mreproducibility_notes, \u001b[38;5;241m*\u001b[39m\u001b[38;5;241m*\u001b[39mconvolution_notes) \u001b[38;5;241m+\u001b[39m \u001b[38;5;124mr\u001b[39m\u001b[38;5;124m\"\"\"\u001b[39m\n\u001b[0;32m    450\u001b[0m \n\u001b[0;32m    451\u001b[0m \u001b[38;5;124m    Shape:\u001b[39m\n\u001b[0;32m    452\u001b[0m \u001b[38;5;124m        - Input: :math:`(N, C_\u001b[39m\u001b[38;5;132;01m{in}\u001b[39;00m\u001b[38;5;124m, D_\u001b[39m\u001b[38;5;132;01m{in}\u001b[39;00m\u001b[38;5;124m, H_\u001b[39m\u001b[38;5;132;01m{in}\u001b[39;00m\u001b[38;5;124m, W_\u001b[39m\u001b[38;5;132;01m{in}\u001b[39;00m\u001b[38;5;124m)`\u001b[39m\n\u001b[0;32m    453\u001b[0m \u001b[38;5;124m        - Output: :math:`(N, C_\u001b[39m\u001b[38;5;132;01m{out}\u001b[39;00m\u001b[38;5;124m, D_\u001b[39m\u001b[38;5;132;01m{out}\u001b[39;00m\u001b[38;5;124m, H_\u001b[39m\u001b[38;5;132;01m{out}\u001b[39;00m\u001b[38;5;124m, W_\u001b[39m\u001b[38;5;132;01m{out}\u001b[39;00m\u001b[38;5;124m)` where\u001b[39m\n\u001b[0;32m    454\u001b[0m \n\u001b[0;32m    455\u001b[0m \u001b[38;5;124m          .. math::\u001b[39m\n\u001b[0;32m    456\u001b[0m \u001b[38;5;124m              D_\u001b[39m\u001b[38;5;132;01m{out}\u001b[39;00m\u001b[38;5;124m = \u001b[39m\u001b[38;5;124m\\\u001b[39m\u001b[38;5;124mleft\u001b[39m\u001b[38;5;124m\\\u001b[39m\u001b[38;5;124mlfloor\u001b[39m\u001b[38;5;124m\\\u001b[39m\u001b[38;5;124mfrac\u001b[39m\u001b[38;5;124m{\u001b[39m\u001b[38;5;124mD_\u001b[39m\u001b[38;5;132;01m{in}\u001b[39;00m\u001b[38;5;124m + 2 \u001b[39m\u001b[38;5;124m\\\u001b[39m\u001b[38;5;124mtimes \u001b[39m\u001b[38;5;124m\\\u001b[39m\u001b[38;5;124mtext\u001b[39m\u001b[38;5;132;01m{padding}\u001b[39;00m\u001b[38;5;124m[0] - \u001b[39m\u001b[38;5;124m\\\u001b[39m\u001b[38;5;124mtext\u001b[39m\u001b[38;5;132;01m{dilation}\u001b[39;00m\u001b[38;5;124m[0]\u001b[39m\n\u001b[0;32m    457\u001b[0m \u001b[38;5;124m                    \u001b[39m\u001b[38;5;124m\\\u001b[39m\u001b[38;5;124mtimes (\u001b[39m\u001b[38;5;124m\\\u001b[39m\u001b[38;5;124mtext\u001b[39m\u001b[38;5;124m{\u001b[39m\u001b[38;5;124mkernel\u001b[39m\u001b[38;5;124m\\\u001b[39m\u001b[38;5;124m_size}[0] - 1) - 1}\u001b[39m\u001b[38;5;124m{\u001b[39m\u001b[38;5;124m\\\u001b[39m\u001b[38;5;124mtext\u001b[39m\u001b[38;5;132;01m{stride}\u001b[39;00m\u001b[38;5;124m[0]} + 1\u001b[39m\u001b[38;5;124m\\\u001b[39m\u001b[38;5;124mright\u001b[39m\u001b[38;5;124m\\\u001b[39m\u001b[38;5;124mrfloor\u001b[39m\n\u001b[0;32m    458\u001b[0m \n\u001b[0;32m    459\u001b[0m \u001b[38;5;124m          .. math::\u001b[39m\n\u001b[0;32m    460\u001b[0m \u001b[38;5;124m              H_\u001b[39m\u001b[38;5;132;01m{out}\u001b[39;00m\u001b[38;5;124m = \u001b[39m\u001b[38;5;124m\\\u001b[39m\u001b[38;5;124mleft\u001b[39m\u001b[38;5;124m\\\u001b[39m\u001b[38;5;124mlfloor\u001b[39m\u001b[38;5;124m\\\u001b[39m\u001b[38;5;124mfrac\u001b[39m\u001b[38;5;124m{\u001b[39m\u001b[38;5;124mH_\u001b[39m\u001b[38;5;132;01m{in}\u001b[39;00m\u001b[38;5;124m + 2 \u001b[39m\u001b[38;5;124m\\\u001b[39m\u001b[38;5;124mtimes \u001b[39m\u001b[38;5;124m\\\u001b[39m\u001b[38;5;124mtext\u001b[39m\u001b[38;5;132;01m{padding}\u001b[39;00m\u001b[38;5;124m[1] - \u001b[39m\u001b[38;5;124m\\\u001b[39m\u001b[38;5;124mtext\u001b[39m\u001b[38;5;132;01m{dilation}\u001b[39;00m\u001b[38;5;124m[1]\u001b[39m\n\u001b[0;32m    461\u001b[0m \u001b[38;5;124m                    \u001b[39m\u001b[38;5;124m\\\u001b[39m\u001b[38;5;124mtimes (\u001b[39m\u001b[38;5;124m\\\u001b[39m\u001b[38;5;124mtext\u001b[39m\u001b[38;5;124m{\u001b[39m\u001b[38;5;124mkernel\u001b[39m\u001b[38;5;124m\\\u001b[39m\u001b[38;5;124m_size}[1] - 1) - 1}\u001b[39m\u001b[38;5;124m{\u001b[39m\u001b[38;5;124m\\\u001b[39m\u001b[38;5;124mtext\u001b[39m\u001b[38;5;132;01m{stride}\u001b[39;00m\u001b[38;5;124m[1]} + 1\u001b[39m\u001b[38;5;124m\\\u001b[39m\u001b[38;5;124mright\u001b[39m\u001b[38;5;124m\\\u001b[39m\u001b[38;5;124mrfloor\u001b[39m\n\u001b[0;32m    462\u001b[0m \n\u001b[0;32m    463\u001b[0m \u001b[38;5;124m          .. math::\u001b[39m\n\u001b[0;32m    464\u001b[0m \u001b[38;5;124m              W_\u001b[39m\u001b[38;5;132;01m{out}\u001b[39;00m\u001b[38;5;124m = \u001b[39m\u001b[38;5;124m\\\u001b[39m\u001b[38;5;124mleft\u001b[39m\u001b[38;5;124m\\\u001b[39m\u001b[38;5;124mlfloor\u001b[39m\u001b[38;5;124m\\\u001b[39m\u001b[38;5;124mfrac\u001b[39m\u001b[38;5;124m{\u001b[39m\u001b[38;5;124mW_\u001b[39m\u001b[38;5;132;01m{in}\u001b[39;00m\u001b[38;5;124m + 2 \u001b[39m\u001b[38;5;124m\\\u001b[39m\u001b[38;5;124mtimes \u001b[39m\u001b[38;5;124m\\\u001b[39m\u001b[38;5;124mtext\u001b[39m\u001b[38;5;132;01m{padding}\u001b[39;00m\u001b[38;5;124m[2] - \u001b[39m\u001b[38;5;124m\\\u001b[39m\u001b[38;5;124mtext\u001b[39m\u001b[38;5;132;01m{dilation}\u001b[39;00m\u001b[38;5;124m[2]\u001b[39m\n\u001b[0;32m    465\u001b[0m \u001b[38;5;124m                    \u001b[39m\u001b[38;5;124m\\\u001b[39m\u001b[38;5;124mtimes (\u001b[39m\u001b[38;5;124m\\\u001b[39m\u001b[38;5;124mtext\u001b[39m\u001b[38;5;124m{\u001b[39m\u001b[38;5;124mkernel\u001b[39m\u001b[38;5;124m\\\u001b[39m\u001b[38;5;124m_size}[2] - 1) - 1}\u001b[39m\u001b[38;5;124m{\u001b[39m\u001b[38;5;124m\\\u001b[39m\u001b[38;5;124mtext\u001b[39m\u001b[38;5;132;01m{stride}\u001b[39;00m\u001b[38;5;124m[2]} + 1\u001b[39m\u001b[38;5;124m\\\u001b[39m\u001b[38;5;124mright\u001b[39m\u001b[38;5;124m\\\u001b[39m\u001b[38;5;124mrfloor\u001b[39m\n\u001b[0;32m    466\u001b[0m \n\u001b[0;32m    467\u001b[0m \u001b[38;5;124m    Attributes:\u001b[39m\n\u001b[0;32m    468\u001b[0m \u001b[38;5;124m        weight (Tensor): the learnable weights of the module of shape\u001b[39m\n\u001b[0;32m    469\u001b[0m \u001b[38;5;124m                         :math:`(\u001b[39m\u001b[38;5;124m\\\u001b[39m\u001b[38;5;124mtext\u001b[39m\u001b[38;5;124m{\u001b[39m\u001b[38;5;124mout\u001b[39m\u001b[38;5;124m\\\u001b[39m\u001b[38;5;124m_channels}, \u001b[39m\u001b[38;5;124m\\\u001b[39m\u001b[38;5;124mfrac\u001b[39m\u001b[38;5;124m{\u001b[39m\u001b[38;5;124m\\\u001b[39m\u001b[38;5;124mtext\u001b[39m\u001b[38;5;124m{\u001b[39m\u001b[38;5;124min\u001b[39m\u001b[38;5;124m\\\u001b[39m\u001b[38;5;124m_channels}}\u001b[39m\u001b[38;5;124m{\u001b[39m\u001b[38;5;124m\\\u001b[39m\u001b[38;5;124mtext\u001b[39m\u001b[38;5;132;01m{groups}\u001b[39;00m\u001b[38;5;124m},`\u001b[39m\n\u001b[0;32m    470\u001b[0m \u001b[38;5;124m                         :math:`\u001b[39m\u001b[38;5;124m\\\u001b[39m\u001b[38;5;124mtext\u001b[39m\u001b[38;5;124m{\u001b[39m\u001b[38;5;124mkernel\u001b[39m\u001b[38;5;124m\\\u001b[39m\u001b[38;5;124m_size[0]}, \u001b[39m\u001b[38;5;124m\\\u001b[39m\u001b[38;5;124mtext\u001b[39m\u001b[38;5;124m{\u001b[39m\u001b[38;5;124mkernel\u001b[39m\u001b[38;5;124m\\\u001b[39m\u001b[38;5;124m_size[1]}, \u001b[39m\u001b[38;5;124m\\\u001b[39m\u001b[38;5;124mtext\u001b[39m\u001b[38;5;124m{\u001b[39m\u001b[38;5;124mkernel\u001b[39m\u001b[38;5;124m\\\u001b[39m\u001b[38;5;124m_size[2]})`.\u001b[39m\n\u001b[0;32m    471\u001b[0m \u001b[38;5;124m                         The values of these weights are sampled from\u001b[39m\n\u001b[0;32m    472\u001b[0m \u001b[38;5;124m                         :math:`\u001b[39m\u001b[38;5;124m\\\u001b[39m\u001b[38;5;124mmathcal\u001b[39m\u001b[38;5;132;01m{U}\u001b[39;00m\u001b[38;5;124m(-\u001b[39m\u001b[38;5;124m\\\u001b[39m\u001b[38;5;124msqrt\u001b[39m\u001b[38;5;132;01m{k}\u001b[39;00m\u001b[38;5;124m, \u001b[39m\u001b[38;5;124m\\\u001b[39m\u001b[38;5;124msqrt\u001b[39m\u001b[38;5;132;01m{k}\u001b[39;00m\u001b[38;5;124m)` where\u001b[39m\n\u001b[0;32m    473\u001b[0m \u001b[38;5;124m                         :math:`k = \u001b[39m\u001b[38;5;124m\\\u001b[39m\u001b[38;5;124mfrac\u001b[39m\u001b[38;5;132;01m{groups}\u001b[39;00m\u001b[38;5;124m{\u001b[39m\u001b[38;5;124mC_\u001b[39m\u001b[38;5;124m\\\u001b[39m\u001b[38;5;124mtext\u001b[39m\u001b[38;5;132;01m{in}\u001b[39;00m\u001b[38;5;124m * \u001b[39m\u001b[38;5;124m\\\u001b[39m\u001b[38;5;124mprod_\u001b[39m\u001b[38;5;124m{\u001b[39m\u001b[38;5;124mi=0}^\u001b[39m\u001b[38;5;132;01m{2}\u001b[39;00m\u001b[38;5;124m\\\u001b[39m\u001b[38;5;124mtext\u001b[39m\u001b[38;5;124m{\u001b[39m\u001b[38;5;124mkernel\u001b[39m\u001b[38;5;124m\\\u001b[39m\u001b[38;5;124m_size}[i]}`\u001b[39m\n\u001b[0;32m    474\u001b[0m \u001b[38;5;124m        bias (Tensor):   the learnable bias of the module of shape (out_channels). If :attr:`bias` is ``True``,\u001b[39m\n\u001b[0;32m    475\u001b[0m \u001b[38;5;124m                         then the values of these weights are\u001b[39m\n\u001b[0;32m    476\u001b[0m \u001b[38;5;124m                         sampled from :math:`\u001b[39m\u001b[38;5;124m\\\u001b[39m\u001b[38;5;124mmathcal\u001b[39m\u001b[38;5;132;01m{U}\u001b[39;00m\u001b[38;5;124m(-\u001b[39m\u001b[38;5;124m\\\u001b[39m\u001b[38;5;124msqrt\u001b[39m\u001b[38;5;132;01m{k}\u001b[39;00m\u001b[38;5;124m, \u001b[39m\u001b[38;5;124m\\\u001b[39m\u001b[38;5;124msqrt\u001b[39m\u001b[38;5;132;01m{k}\u001b[39;00m\u001b[38;5;124m)` where\u001b[39m\n\u001b[0;32m    477\u001b[0m \u001b[38;5;124m                         :math:`k = \u001b[39m\u001b[38;5;124m\\\u001b[39m\u001b[38;5;124mfrac\u001b[39m\u001b[38;5;132;01m{groups}\u001b[39;00m\u001b[38;5;124m{\u001b[39m\u001b[38;5;124mC_\u001b[39m\u001b[38;5;124m\\\u001b[39m\u001b[38;5;124mtext\u001b[39m\u001b[38;5;132;01m{in}\u001b[39;00m\u001b[38;5;124m * \u001b[39m\u001b[38;5;124m\\\u001b[39m\u001b[38;5;124mprod_\u001b[39m\u001b[38;5;124m{\u001b[39m\u001b[38;5;124mi=0}^\u001b[39m\u001b[38;5;132;01m{2}\u001b[39;00m\u001b[38;5;124m\\\u001b[39m\u001b[38;5;124mtext\u001b[39m\u001b[38;5;124m{\u001b[39m\u001b[38;5;124mkernel\u001b[39m\u001b[38;5;124m\\\u001b[39m\u001b[38;5;124m_size}[i]}`\u001b[39m\n\u001b[0;32m    478\u001b[0m \n\u001b[0;32m    479\u001b[0m \u001b[38;5;124m    Examples::\u001b[39m\n\u001b[0;32m    480\u001b[0m \n\u001b[0;32m    481\u001b[0m \u001b[38;5;124m        >>> # With square kernels and equal stride\u001b[39m\n\u001b[0;32m    482\u001b[0m \u001b[38;5;124m        >>> m = nn.Conv3d(16, 33, 3, stride=2)\u001b[39m\n\u001b[0;32m    483\u001b[0m \u001b[38;5;124m        >>> # non-square kernels and unequal stride and with padding\u001b[39m\n\u001b[0;32m    484\u001b[0m \u001b[38;5;124m        >>> m = nn.Conv3d(16, 33, (3, 5, 2), stride=(2, 1, 1), padding=(4, 2, 0))\u001b[39m\n\u001b[0;32m    485\u001b[0m \u001b[38;5;124m        >>> input = torch.randn(20, 16, 10, 50, 100)\u001b[39m\n\u001b[0;32m    486\u001b[0m \u001b[38;5;124m        >>> output = m(input)\u001b[39m\n\u001b[0;32m    487\u001b[0m \n\u001b[0;32m    488\u001b[0m \u001b[38;5;124m    .. _cross-correlation:\u001b[39m\n\u001b[0;32m    489\u001b[0m \u001b[38;5;124m        https://en.wikipedia.org/wiki/Cross-correlation\u001b[39m\n\u001b[0;32m    490\u001b[0m \n\u001b[0;32m    491\u001b[0m \u001b[38;5;124m    .. _link:\u001b[39m\n\u001b[0;32m    492\u001b[0m \u001b[38;5;124m        https://github.com/vdumoulin/conv_arithmetic/blob/master/README.md\u001b[39m\n\u001b[0;32m    493\u001b[0m \u001b[38;5;124m    \u001b[39m\u001b[38;5;124m\"\"\"\u001b[39m\n\u001b[0;32m    495\u001b[0m     \u001b[38;5;28;01mdef\u001b[39;00m\u001b[38;5;250m \u001b[39m\u001b[38;5;21m__init__\u001b[39m(\n\u001b[0;32m    496\u001b[0m         \u001b[38;5;28mself\u001b[39m,\n\u001b[0;32m    497\u001b[0m         in_channels: \u001b[38;5;28mint\u001b[39m,\n\u001b[1;32m   (...)\u001b[0m\n\u001b[0;32m    505\u001b[0m         padding_mode: \u001b[38;5;28mstr\u001b[39m \u001b[38;5;241m=\u001b[39m \u001b[38;5;124m'\u001b[39m\u001b[38;5;124mzeros\u001b[39m\u001b[38;5;124m'\u001b[39m\n\u001b[0;32m    506\u001b[0m     ):\n\u001b[0;32m    507\u001b[0m         kernel_size_ \u001b[38;5;241m=\u001b[39m _triple(kernel_size)\n",
      "\u001b[1;31mRuntimeError\u001b[0m: Expected 4-dimensional input for 4-dimensional weight [32, 1, 3, 3], but got 5-dimensional input of size [32, 8, 3, 17, 1542] instead"
     ]
    }
   ],
   "source": [
    "import torch\n",
    "from torch import nn\n",
    "from torch.utils.data import DataLoader\n",
    "\n",
    "# Define the model\n",
    "class ConvModel(nn.Module):\n",
    "    def __init__(self) -> None:\n",
    "        super().__init__()\n",
    "        self.conv = nn.Sequential(\n",
    "            nn.Conv2d(1, 32, kernel_size=3, stride=1, padding=1),  # bs, 8, 17, 17 -> bs, 64, 16, 16\n",
    "            nn.ReLU(),\n",
    "            nn.BatchNorm2d(64),\n",
    "            nn.MaxPool2d(2),  # bs, 64, 16, 16 -> bs, 64, 8, 8\n",
    "            nn.Conv2d(64, 64, kernel_size=1),  # bs, 64, 8, 8 -> bs, 64, 8, 8\n",
    "            nn.ReLU(),\n",
    "            nn.BatchNorm2d(64),\n",
    "            nn.MaxPool2d(2),  # bs, 64, 8, 8 -> bs, 64, 4, 4\n",
    "        )\n",
    "        self.flatten = nn.Flatten()\n",
    "        self.fc = nn.Sequential(\n",
    "            nn.Linear(64 * 4 * 4, 128),\n",
    "            nn.ReLU(),\n",
    "            nn.Linear(128, 4),  # One output neuron for binary classification\n",
    "            nn.ReLU(),  # Binary classification --> Sigmoid activation\n",
    "        )\n",
    "\n",
    "    def forward(self, x):\n",
    "        x = self.conv(x)\n",
    "        x = self.flatten(x)\n",
    "        x = self.fc(x)\n",
    "        return x\n",
    "\n",
    "\n",
    "# Initialize the model and move it to device (GPU or CPU)\n",
    "device = torch.device('cuda' if torch.cuda.is_available() else 'cpu')\n",
    "model = ConvModel().to(device)\n",
    "\n",
    "# Assuming you have a DataLoader `train_loader` and a suitable loss function\n",
    "criterion = nn.BCELoss()  # BCELoss with Sigmoid in model\n",
    "optimizer = torch.optim.Adam(model.parameters(), lr=0.001)\n",
    "\n",
    "# Example loop (assuming `train_loader` provides the correct data)\n",
    "epochs = 20\n",
    "training_loss = []\n",
    "\n",
    "for epoch in range(epochs):\n",
    "    epoch_loss = 0.0\n",
    "    for i, data in enumerate(train_loader):\n",
    "        images, labels = data\n",
    "        images = images.to(device)\n",
    "        labels = labels.to(device).to(torch.float32)  # Make sure labels are float32 for BCE\n",
    "\n",
    "        optimizer.zero_grad()\n",
    "        outputs = model(images)  # Pass images through the model\n",
    "        loss = criterion(outputs.squeeze(-1), labels)  # Compute loss\n",
    "        loss.backward()\n",
    "        optimizer.step()\n",
    "\n",
    "        epoch_loss += loss.item()\n",
    "\n",
    "    training_loss.append(epoch_loss)\n",
    "    print(f\"Epoch {epoch + 1}/{epochs}, Loss: {epoch_loss/len(train_loader):.4f}\")\n"
   ]
  },
  {
   "cell_type": "code",
   "execution_count": 76,
   "metadata": {},
   "outputs": [
    {
     "name": "stdout",
     "output_type": "stream",
     "text": [
      "Using device: cpu\n"
     ]
    }
   ],
   "source": [
    "# from torch import optim\n",
    "# model = ConvModel()\n",
    "\n",
    "# criterion = nn.BCELoss()\n",
    "# optimizer = optim.Adam(model.parameters(), lr=1e-3, weight_decay = 0.01)\n",
    "\n",
    "# device = torch.device(\"cuda\" if torch.cuda.is_available() else \"cpu\")\n",
    "# print(f\"Using device: {device}\")"
   ]
  },
  {
   "cell_type": "code",
   "execution_count": null,
   "metadata": {},
   "outputs": [
    {
     "ename": "NotImplementedError",
     "evalue": "",
     "output_type": "error",
     "traceback": [
      "\u001b[1;31m---------------------------------------------------------------------------\u001b[0m",
      "\u001b[1;31mNotImplementedError\u001b[0m                       Traceback (most recent call last)",
      "Cell \u001b[1;32mIn[77], line 18\u001b[0m\n\u001b[0;32m     14\u001b[0m labels \u001b[38;5;241m=\u001b[39m labels\u001b[38;5;241m.\u001b[39mto(device)\u001b[38;5;241m.\u001b[39mto(torch\u001b[38;5;241m.\u001b[39mfloat32)\n\u001b[0;32m     16\u001b[0m optimizer\u001b[38;5;241m.\u001b[39mzero_grad()\n\u001b[1;32m---> 18\u001b[0m outputs \u001b[38;5;241m=\u001b[39m \u001b[43mmodel\u001b[49m\u001b[43m(\u001b[49m\u001b[43mimages\u001b[49m\u001b[43m)\u001b[49m\n\u001b[0;32m     20\u001b[0m outputs\u001b[38;5;241m.\u001b[39msqueeze(\u001b[38;5;241m-\u001b[39m\u001b[38;5;241m1\u001b[39m)\n\u001b[0;32m     22\u001b[0m loss \u001b[38;5;241m=\u001b[39m criterion(outputs\u001b[38;5;241m.\u001b[39msqueeze(\u001b[38;5;241m-\u001b[39m\u001b[38;5;241m1\u001b[39m), labels)\n",
      "File \u001b[1;32mc:\\Users\\Daniel\\anaconda3\\envs\\tf_env\\lib\\site-packages\\torch\\nn\\modules\\module.py:727\u001b[0m, in \u001b[0;36m_call_impl\u001b[1;34m(self, *input, **kwargs)\u001b[0m\n\u001b[0;32m    699\u001b[0m \u001b[38;5;28;01mdef\u001b[39;00m\u001b[38;5;250m \u001b[39m\u001b[38;5;21mregister_full_backward_hook\u001b[39m(\n\u001b[0;32m    700\u001b[0m     \u001b[38;5;28mself\u001b[39m, hook: Callable[[\u001b[38;5;124m'\u001b[39m\u001b[38;5;124mModule\u001b[39m\u001b[38;5;124m'\u001b[39m, _grad_t, _grad_t], Union[\u001b[38;5;28;01mNone\u001b[39;00m, Tensor]]\n\u001b[0;32m    701\u001b[0m ) \u001b[38;5;241m-\u001b[39m\u001b[38;5;241m>\u001b[39m RemovableHandle:\n\u001b[0;32m    702\u001b[0m \u001b[38;5;250m    \u001b[39m\u001b[38;5;124mr\u001b[39m\u001b[38;5;124;03m\"\"\"Registers a backward hook on the module.\u001b[39;00m\n\u001b[0;32m    703\u001b[0m \n\u001b[0;32m    704\u001b[0m \u001b[38;5;124;03m    The hook will be called every time the gradients with respect to module\u001b[39;00m\n\u001b[0;32m    705\u001b[0m \u001b[38;5;124;03m    inputs are computed. The hook should have the following signature::\u001b[39;00m\n\u001b[0;32m    706\u001b[0m \n\u001b[0;32m    707\u001b[0m \u001b[38;5;124;03m        hook(module, grad_input, grad_output) -> tuple(Tensor) or None\u001b[39;00m\n\u001b[0;32m    708\u001b[0m \n\u001b[0;32m    709\u001b[0m \u001b[38;5;124;03m    The :attr:`grad_input` and :attr:`grad_output` are tuples that contain the gradients\u001b[39;00m\n\u001b[0;32m    710\u001b[0m \u001b[38;5;124;03m    with respect to the inputs and outputs respectively. The hook should\u001b[39;00m\n\u001b[0;32m    711\u001b[0m \u001b[38;5;124;03m    not modify its arguments, but it can optionally return a new gradient with\u001b[39;00m\n\u001b[0;32m    712\u001b[0m \u001b[38;5;124;03m    respect to the input that will be used in place of :attr:`grad_input` in\u001b[39;00m\n\u001b[0;32m    713\u001b[0m \u001b[38;5;124;03m    subsequent computations. :attr:`grad_input` will only correspond to the inputs given\u001b[39;00m\n\u001b[0;32m    714\u001b[0m \u001b[38;5;124;03m    as positional arguments and all kwarg arguments are ignored. Entries\u001b[39;00m\n\u001b[0;32m    715\u001b[0m \u001b[38;5;124;03m    in :attr:`grad_input` and :attr:`grad_output` will be ``None`` for all non-Tensor\u001b[39;00m\n\u001b[0;32m    716\u001b[0m \u001b[38;5;124;03m    arguments.\u001b[39;00m\n\u001b[0;32m    717\u001b[0m \n\u001b[0;32m    718\u001b[0m \u001b[38;5;124;03m    .. warning ::\u001b[39;00m\n\u001b[0;32m    719\u001b[0m \u001b[38;5;124;03m        Modifying inputs or outputs inplace is not allowed when using backward hooks and\u001b[39;00m\n\u001b[0;32m    720\u001b[0m \u001b[38;5;124;03m        will raise an error.\u001b[39;00m\n\u001b[0;32m    721\u001b[0m \n\u001b[0;32m    722\u001b[0m \u001b[38;5;124;03m    Returns:\u001b[39;00m\n\u001b[0;32m    723\u001b[0m \u001b[38;5;124;03m        :class:`torch.utils.hooks.RemovableHandle`:\u001b[39;00m\n\u001b[0;32m    724\u001b[0m \u001b[38;5;124;03m            a handle that can be used to remove the added hook by calling\u001b[39;00m\n\u001b[0;32m    725\u001b[0m \u001b[38;5;124;03m            ``handle.remove()``\u001b[39;00m\n\u001b[0;32m    726\u001b[0m \n\u001b[1;32m--> 727\u001b[0m \u001b[38;5;124;03m    \"\"\"\u001b[39;00m\n\u001b[0;32m    728\u001b[0m     \u001b[38;5;28;01mif\u001b[39;00m \u001b[38;5;28mself\u001b[39m\u001b[38;5;241m.\u001b[39m_is_full_backward_hook \u001b[38;5;129;01mis\u001b[39;00m \u001b[38;5;28;01mFalse\u001b[39;00m:\n\u001b[0;32m    729\u001b[0m         \u001b[38;5;28;01mraise\u001b[39;00m \u001b[38;5;167;01mRuntimeError\u001b[39;00m(\u001b[38;5;124m\"\u001b[39m\u001b[38;5;124mCannot use both regular backward hooks and full backward hooks on a \u001b[39m\u001b[38;5;124m\"\u001b[39m\n\u001b[0;32m    730\u001b[0m                            \u001b[38;5;124m\"\u001b[39m\u001b[38;5;124msingle Module. Please use only one of them.\u001b[39m\u001b[38;5;124m\"\u001b[39m)\n",
      "File \u001b[1;32mc:\\Users\\Daniel\\anaconda3\\envs\\tf_env\\lib\\site-packages\\torch\\nn\\modules\\module.py:175\u001b[0m, in \u001b[0;36m_forward_unimplemented\u001b[1;34m(self, *input)\u001b[0m\n\u001b[0;32m    138\u001b[0m \u001b[38;5;28;01mdef\u001b[39;00m\u001b[38;5;250m \u001b[39m\u001b[38;5;21mregister_module_full_backward_hook\u001b[39m(\n\u001b[0;32m    139\u001b[0m     hook: Callable[[\u001b[38;5;124m'\u001b[39m\u001b[38;5;124mModule\u001b[39m\u001b[38;5;124m'\u001b[39m, _grad_t, _grad_t], Union[\u001b[38;5;28;01mNone\u001b[39;00m, Tensor]]\n\u001b[0;32m    140\u001b[0m ) \u001b[38;5;241m-\u001b[39m\u001b[38;5;241m>\u001b[39m RemovableHandle:\n\u001b[0;32m    141\u001b[0m \u001b[38;5;250m    \u001b[39m\u001b[38;5;124mr\u001b[39m\u001b[38;5;124;03m\"\"\"Registers a backward hook common to all the modules.\u001b[39;00m\n\u001b[0;32m    142\u001b[0m \n\u001b[0;32m    143\u001b[0m \u001b[38;5;124;03m    .. warning ::\u001b[39;00m\n\u001b[1;32m   (...)\u001b[0m\n\u001b[0;32m    173\u001b[0m \n\u001b[0;32m    174\u001b[0m \u001b[38;5;124;03m    \"\"\"\u001b[39;00m\n\u001b[1;32m--> 175\u001b[0m     \u001b[38;5;28;01mglobal\u001b[39;00m _global_is_full_backward_hook\n\u001b[0;32m    176\u001b[0m     \u001b[38;5;28;01mif\u001b[39;00m _global_is_full_backward_hook \u001b[38;5;129;01mis\u001b[39;00m \u001b[38;5;28;01mFalse\u001b[39;00m:\n\u001b[0;32m    177\u001b[0m         \u001b[38;5;28;01mraise\u001b[39;00m \u001b[38;5;167;01mRuntimeError\u001b[39;00m(\u001b[38;5;124m\"\u001b[39m\u001b[38;5;124mCannot use both regular backward hooks and full backward hooks as a \u001b[39m\u001b[38;5;124m\"\u001b[39m\n\u001b[0;32m    178\u001b[0m                            \u001b[38;5;124m\"\u001b[39m\u001b[38;5;124mglobal Module hook. Please use only one of them.\u001b[39m\u001b[38;5;124m\"\u001b[39m)\n",
      "\u001b[1;31mNotImplementedError\u001b[0m: "
     ]
    }
   ],
   "source": [
    "# from time import time\n",
    "\n",
    "# epochs = 20\n",
    "\n",
    "# training_loss = []\n",
    "\n",
    "# for epoch in range(epochs):\n",
    "#     start = time()\n",
    "#     epoch_loss = 0.0\n",
    "#     for i, data in enumerate(train_loader):\n",
    "#         images, labels = data\n",
    "        \n",
    "#         images = images.to(device)\n",
    "#         labels = labels.to(device).to(torch.float32)\n",
    "        \n",
    "#         optimizer.zero_grad()\n",
    "        \n",
    "#         outputs = model(images)\n",
    "        \n",
    "#         outputs.squeeze(-1)\n",
    "        \n",
    "#         loss = criterion(outputs.squeeze(-1), labels)\n",
    "        \n",
    "#         optimizer.step()\n",
    "        \n",
    "#         epoch_loss += loss.item()\n",
    "#     stop = time()\n",
    "#     training_loss.append(epoch_loss)\n",
    "#     print(f\"Epoch {epoch + 1}/{epochs}, Loss: {epoch_loss/len(train_loader):.4f}, Time: {stop - start:.2f}s\")\n"
   ]
  },
  {
   "cell_type": "code",
   "execution_count": 71,
   "metadata": {},
   "outputs": [],
   "source": [
    "states = [27, 6728, 49122]\n",
    "accs = []"
   ]
  }
 ],
 "metadata": {
  "kernelspec": {
   "display_name": "tf_env",
   "language": "python",
   "name": "python3"
  },
  "language_info": {
   "codemirror_mode": {
    "name": "ipython",
    "version": 3
   },
   "file_extension": ".py",
   "mimetype": "text/x-python",
   "name": "python",
   "nbconvert_exporter": "python",
   "pygments_lexer": "ipython3",
   "version": "3.9.21"
  }
 },
 "nbformat": 4,
 "nbformat_minor": 2
}
