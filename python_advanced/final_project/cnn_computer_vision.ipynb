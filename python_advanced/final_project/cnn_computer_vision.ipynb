{
 "cells": [
  {
   "cell_type": "markdown",
   "metadata": {},
   "source": [
    "<h1> Classification with a Neural Network using Keras (Sequential API)</h1>"
   ]
  },
  {
   "cell_type": "markdown",
   "metadata": {},
   "source": [
    "<h2>1. Imports and load data</h2>"
   ]
  },
  {
   "cell_type": "code",
   "execution_count": 2,
   "metadata": {},
   "outputs": [],
   "source": [
    "import pandas as pd\n",
    "import numpy as np\n",
    "from sklearn.model_selection import train_test_split\n",
    "from sklearn.preprocessing import StandardScaler, LabelEncoder\n",
    "from sklearn.metrics import classification_report, accuracy_score\n",
    "from aeon.classification.deep_learning import TimeCNNClassifier\n",
    "from tensorflow.keras.callbacks import EarlyStopping\n",
    "import torch\n",
    "import torch.nn as nn\n",
    "import torch.optim as optim\n",
    "from torch.utils.data import DataLoader, TensorDataset\n",
    "from sklearn.model_selection import train_test_split\n",
    "import numpy as np"
   ]
  },
  {
   "cell_type": "code",
   "execution_count": 3,
   "metadata": {},
   "outputs": [
    {
     "name": "stdout",
     "output_type": "stream",
     "text": [
      "Reading files...\n",
      "Files read:\n",
      "ce: (2205, 60)\n",
      "cp: (2205, 60)\n",
      "eps1: (2205, 6000)\n",
      "se: (2205, 60)\n",
      "vs1: (2205, 60)\n",
      "fs1: (2205, 600)\n",
      "fs2: (2205, 600)\n",
      "ps1: (2205, 6000)\n",
      "ps2: (2205, 6000)\n",
      "ps3: (2205, 6000)\n",
      "ps4: (2205, 6000)\n",
      "ps5: (2205, 6000)\n",
      "ps6: (2205, 6000)\n",
      "ts1: (2205, 60)\n",
      "ts2: (2205, 60)\n",
      "ts3: (2205, 60)\n",
      "ts4: (2205, 60)\n",
      "target: (2205, 5)\n"
     ]
    }
   ],
   "source": [
    "class DataProcessor:\n",
    "    def __init__(self, input_path, file_names):\n",
    "        self.input_path = input_path\n",
    "        self.file_names = file_names\n",
    "        \n",
    "    def read_files(self):\n",
    "        self.data = {}\n",
    "        print(\"Reading files...\")\n",
    "        for file in self.file_names:\n",
    "            with open(self.input_path + file + '.txt', 'r') as f:\n",
    "                self.data[file] = pd.read_csv(f, header=None, sep='\\t')\n",
    "        return self.data\n",
    "    \n",
    "    def print_shape(self):\n",
    "        print(\"Files read:\")\n",
    "        for file in self.data:\n",
    "            print(f\"{file}: {self.data[file].shape}\")\n",
    "            \n",
    "    def create_target_df(self):\n",
    "        target_columns = ['Cooler_Condition', 'Valve_Condition', \n",
    "                        'Internal_Pump_Leakage', 'Hydraulic_Accumulator', \n",
    "                        'Stable_Flag']\n",
    "        self.data['target'].columns = target_columns\n",
    "        self.valve_condition = self.data['target']['Valve_Condition']\n",
    "        #del self.data['target']\n",
    "        return self.valve_condition\n",
    "\n",
    "def process_data():\n",
    "    input_path = \"input_data/\"\n",
    "    file_names = [\n",
    "        \"ce\", \"cp\", \"eps1\", \"se\", \"vs1\", \n",
    "        \"fs1\", \"fs2\", \n",
    "        \"ps1\", \"ps2\", \"ps3\", \"ps4\", \"ps5\", \"ps6\",\n",
    "        \"ts1\", \"ts2\", \"ts3\", \"ts4\", \"target\"\n",
    "    ]\n",
    "    \n",
    "    processor = DataProcessor(input_path, file_names)\n",
    "    data = processor.read_files()\n",
    "    processor.print_shape()\n",
    "    df_target = processor.create_target_df()\n",
    "    df_target = processor.valve_condition\n",
    "    return data, df_target\n",
    "\n",
    "data, df_target = process_data()"
   ]
  },
  {
   "cell_type": "markdown",
   "metadata": {},
   "source": [
    "<h2>2. Create input and target data </h2>"
   ]
  },
  {
   "cell_type": "markdown",
   "metadata": {},
   "source": [
    "We use the six sensors which we identified as relevant during data exploration: 'eps1', 'se', 'fs1', 'ps1', 'ps2', 'ps3' "
   ]
  },
  {
   "cell_type": "code",
   "execution_count": 4,
   "metadata": {},
   "outputs": [
    {
     "data": {
      "text/plain": [
       "array([[2.4116e+03, 2.4116e+03, 2.4116e+03, ..., 2.2500e+00, 2.2500e+00,\n",
       "        2.2110e+00],\n",
       "       [2.4096e+03, 2.4096e+03, 2.4096e+03, ..., 2.2110e+00, 2.1950e+00,\n",
       "        2.2190e+00],\n",
       "       [2.3978e+03, 2.3978e+03, 2.3978e+03, ..., 2.3050e+00, 2.3200e+00,\n",
       "        2.2660e+00],\n",
       "       ...,\n",
       "       [2.4136e+03, 2.4136e+03, 2.4136e+03, ..., 2.2190e+00, 2.2190e+00,\n",
       "        2.2500e+00],\n",
       "       [2.4136e+03, 2.4136e+03, 2.4136e+03, ..., 2.2500e+00, 2.2420e+00,\n",
       "        2.2810e+00],\n",
       "       [2.4158e+03, 2.4156e+03, 2.4156e+03, ..., 2.2730e+00, 2.2270e+00,\n",
       "        2.2500e+00]])"
      ]
     },
     "execution_count": 4,
     "metadata": {},
     "output_type": "execute_result"
    }
   ],
   "source": [
    "df_list = ['eps1', 'se', 'fs1', 'ps1', 'ps2', 'ps3']\n",
    "input_df = pd.concat([data[i] for i in df_list], axis = 1)\n",
    "features = input_df.to_numpy()\n",
    "features"
   ]
  },
  {
   "cell_type": "code",
   "execution_count": 5,
   "metadata": {},
   "outputs": [
    {
     "data": {
      "text/plain": [
       "(2205, 24660)"
      ]
     },
     "execution_count": 5,
     "metadata": {},
     "output_type": "execute_result"
    }
   ],
   "source": [
    "features.shape"
   ]
  },
  {
   "cell_type": "code",
   "execution_count": 6,
   "metadata": {},
   "outputs": [
    {
     "data": {
      "text/plain": [
       "array([3, 3, 3, ..., 3, 3, 3], dtype=int64)"
      ]
     },
     "execution_count": 6,
     "metadata": {},
     "output_type": "execute_result"
    }
   ],
   "source": [
    "# Standardise the target labels\n",
    "label_encoder = LabelEncoder()\n",
    "y_encoded = label_encoder.fit_transform(df_target)\n",
    "y_encoded\n"
   ]
  },
  {
   "cell_type": "markdown",
   "metadata": {},
   "source": [
    "<h2>3. Create the model, train it & make predictions </h2>"
   ]
  },
  {
   "cell_type": "code",
   "execution_count": 8,
   "metadata": {},
   "outputs": [],
   "source": []
  },
  {
   "cell_type": "code",
   "execution_count": 20,
   "metadata": {},
   "outputs": [],
   "source": [
    "import os\n",
    "from pathlib import Path\n",
    "import torch\n",
    "import numpy as np\n",
    "from torchaudio.transforms import Spectrogram\n",
    "from torchvision.utils import save_image\n",
    "from sklearn.model_selection import train_test_split\n",
    "\n",
    "# Annahme: features ist ein 2D-Array mit Form (1764, 24660)\n",
    "X_train, X_test, y_train, y_test = train_test_split(\n",
    "    features, \n",
    "    y_encoded, \n",
    "    test_size=0.2, \n",
    "    random_state=42, \n",
    "    stratify=y_encoded\n",
    ")\n",
    "\n",
    "base_dir = Path(\"data\")\n",
    "os.makedirs(base_dir / \"train\", exist_ok=True)\n",
    "\n",
    "transform = Spectrogram(n_fft=32)\n",
    "\n",
    "# Annahme: 8 Kanäle pro Sample\n",
    "num_channels = 1\n",
    "time_length = X_train.shape[1] // num_channels  # 24660 // 8 = 3082\n",
    "\n",
    "for idx, (sample, label) in enumerate(zip(X_train, y_train)):\n",
    "    sample_dir = base_dir / \"train\" / Path(f\"{label}\")\n",
    "    os.makedirs(sample_dir, exist_ok=True)\n",
    "\n",
    "    # Umformen des 1D-Samples in 2D (Zeit × Kanäle)\n",
    "    try:\n",
    "        sample_reshaped = sample.reshape(time_length, num_channels)  # Form: (3082, 8)\n",
    "    except ValueError:\n",
    "        print(f\"Sample {idx} kann nicht in {num_channels} Kanäle umgeformt werden. Überspringe...\")\n",
    "        continue\n",
    "\n",
    "    for channel in range(num_channels):\n",
    "        waveform = sample_reshaped[:, channel]  # Extrahiere Kanal\n",
    "        waveform = torch.Tensor(waveform)\n",
    "        spectrogram = transform(waveform)\n",
    "        save_image(spectrogram, sample_dir / f\"{idx}_channel_{channel}.png\")\n",
    "\n",
    "\n",
    "os.makedirs(base_dir / \"test\", exist_ok=True)\n",
    "num_channels = 1\n",
    "time_length = X_test.shape[1] // num_channels  # 24660 // 8 = 3082\n",
    "\n",
    "for idx, (sample, label) in enumerate(zip(X_test, y_test)):\n",
    "    sample_dir = base_dir / \"test\" / Path(f\"{label}\")\n",
    "    os.makedirs(sample_dir, exist_ok=True)\n",
    "\n",
    "    # Umformen des 1D-Samples in 2D (Zeit × Kanäle)\n",
    "    try:\n",
    "        sample_reshaped = sample.reshape(time_length, num_channels)  # Form: (3082, 8)\n",
    "    except ValueError:\n",
    "        print(f\"Sample {idx} kann nicht in {num_channels} Kanäle umgeformt werden. Überspringe...\")\n",
    "        continue\n",
    "\n",
    "    for channel in range(num_channels):\n",
    "        waveform = sample_reshaped[:, channel]  # Extrahiere Kanal\n",
    "        waveform = torch.Tensor(waveform)\n",
    "        spectrogram = transform(waveform)\n",
    "        save_image(spectrogram, sample_dir / f\"{idx}_channel_{channel}.png\")"
   ]
  },
  {
   "cell_type": "code",
   "execution_count": 23,
   "metadata": {},
   "outputs": [],
   "source": [
    "import os\n",
    "from pathlib import Path\n",
    "from torch.utils.data import Dataset\n",
    "from torchvision.io import decode_image\n",
    "from torchvision.transforms import Grayscale\n",
    "import torch\n",
    "from torchaudio.transforms import Spectrogram\n",
    "from torchvision.utils import save_image\n",
    "from sklearn.model_selection import train_test_split\n",
    "\n",
    "# Assuming features is a 2D array with shape (1764, 24660)\n",
    "X_train, X_test, y_train, y_test = train_test_split(\n",
    "    features, \n",
    "    y_encoded, \n",
    "    test_size=0.2, \n",
    "    random_state=42, \n",
    "    stratify=y_encoded\n",
    ")\n",
    "\n",
    "base_dir = Path(\"data\")\n",
    "os.makedirs(base_dir / \"train\", exist_ok=True)\n",
    "\n",
    "# Define the Spectrogram transform with appropriate parameters\n",
    "transform = Spectrogram(n_fft=32, hop_length=16)\n",
    "\n",
    "# Assuming 8 channels per sample\n",
    "num_channels = 1\n",
    "time_length = X_train.shape[1] // num_channels  # 24660 // 8 = 3082\n",
    "\n",
    "for idx, (sample, label) in enumerate(zip(X_train, y_train)):\n",
    "    sample_dir = base_dir / \"train\" / Path(f\"{label}\")\n",
    "    os.makedirs(sample_dir, exist_ok=True)\n",
    "\n",
    "    # Reshape the 1D sample into 2D (time × channels)\n",
    "    try:\n",
    "        sample_reshaped = sample.reshape(time_length, num_channels)  # Shape: (3082, 8)\n",
    "    except ValueError as e:\n",
    "        print(f\"Sample {idx} cannot be reshaped into {num_channels} channels. Error: {e}. Skipping...\")\n",
    "        continue\n",
    "\n",
    "    for channel in range(num_channels):\n",
    "        waveform = sample_reshaped[:, channel]  # Extract channel\n",
    "        waveform = torch.Tensor(waveform)\n",
    "        spectrogram = transform(waveform)\n",
    "        # Normalize spectrogram if necessary\n",
    "        spectrogram = (spectrogram - spectrogram.min()) / (spectrogram.max() - spectrogram.min())\n",
    "        save_image(spectrogram, sample_dir / f\"{idx}_channel_{channel}.png\")\n",
    "\n",
    "os.makedirs(base_dir / \"test\", exist_ok=True)\n",
    "\n",
    "for idx, (sample, label) in enumerate(zip(X_test, y_test)):\n",
    "    sample_dir = base_dir / \"test\" / Path(f\"{label}\")\n",
    "    os.makedirs(sample_dir, exist_ok=True)\n",
    "\n",
    "    # Reshape the 1D sample into 2D (time × channels)\n",
    "    try:\n",
    "        sample_reshaped = sample.reshape(time_length, num_channels)  # Shape: (3082, 8)\n",
    "    except ValueError as e:\n",
    "        print(f\"Sample {idx} cannot be reshaped into {num_channels} channels. Error: {e}. Skipping...\")\n",
    "        continue\n",
    "\n",
    "    for channel in range(num_channels):\n",
    "        waveform = sample_reshaped[:, channel]  # Extract channel\n",
    "        waveform = torch.Tensor(waveform)\n",
    "        spectrogram = transform(waveform)\n",
    "        # Normalize spectrogram if necessary\n",
    "        spectrogram = (spectrogram - spectrogram.min()) / (spectrogram.max() - spectrogram.min())\n",
    "        save_image(spectrogram, sample_dir / f\"{idx}_channel_{channel}.png\")\n",
    "\n",
    "class SpectrogramDataset(Dataset):\n",
    "    def __init__(\n",
    "        self,\n",
    "        directory: Path,\n",
    "        channels: int = 1,\n",
    "        transform=None,\n",
    "        target_transform=None,\n",
    "    ):\n",
    "        self.data_dir = directory\n",
    "        self.channels = channels\n",
    "        self.transform = transform\n",
    "        self.target_transform = target_transform\n",
    "\n",
    "        # Iterate over all files in the given directory and define labels\n",
    "        self.labels = []\n",
    "        self.samples = []\n",
    "        subdirs = [f.path for f in os.scandir(self.data_dir) if f.is_dir()]\n",
    "\n",
    "        for class_dir in subdirs:\n",
    "            # Extract the label from the directory name (e.g., \"data/train/0\" -> \"0\")\n",
    "            label = os.path.basename(class_dir)\n",
    "            samples = [f.path for f in os.scandir(class_dir) if f.is_file()]\n",
    "            measurement = []\n",
    "            for idx, sample in enumerate(samples):\n",
    "                measurement.append(sample)\n",
    "                if (idx + 1) % self.channels == 0:\n",
    "                    self.labels.append(int(label))  # Convert label to integer\n",
    "                    self.samples.append(measurement)\n",
    "                    measurement = []\n",
    "\n",
    "    def __len__(self):\n",
    "        return len(self.labels)\n",
    "\n",
    "    def __getitem__(self, index: int) -> torch.Tensor:\n",
    "        spectrograms = []\n",
    "        for image_path in self.samples[index]:\n",
    "            image = decode_image(image_path)\n",
    "            # Convert to Grayscale if necessary\n",
    "            if self.channels > 1:\n",
    "                image = Grayscale(num_output_channels=1)(image)\n",
    "            if self.transform:\n",
    "                image = self.transform(image)\n",
    "            spectrograms.append(image)\n",
    "        \n",
    "        label = self.labels[index]\n",
    "        if self.target_transform:\n",
    "            label = self.target_transform(label)\n",
    "        \n",
    "        spectrograms = torch.stack(spectrograms)\n",
    "        spectrograms = spectrograms.type(torch.float32)\n",
    "        spectrograms = spectrograms.squeeze(1)\n",
    "        \n",
    "        assert spectrograms.shape[0] == self.channels\n",
    "        return spectrograms, label"
   ]
  },
  {
   "cell_type": "code",
   "execution_count": 24,
   "metadata": {},
   "outputs": [],
   "source": [
    "train_data = SpectrogramDataset(directory=base_dir / \"train\", channels=1)\n",
    "test_data = SpectrogramDataset(directory=base_dir / \"test\", channels=1)"
   ]
  },
  {
   "cell_type": "code",
   "execution_count": 25,
   "metadata": {},
   "outputs": [],
   "source": [
    "train_loader = DataLoader(train_data, batch_size=32, shuffle=True)\n",
    "test_loader = DataLoader(test_data, batch_size=8, shuffle=False)"
   ]
  },
  {
   "cell_type": "code",
   "execution_count": 26,
   "metadata": {},
   "outputs": [],
   "source": [
    "import torch.nn as nn\n",
    "\n",
    "class ConvModel(nn.Module):\n",
    "    def __init__(self) -> None:\n",
    "        super().__init__()\n",
    "        self.conv = nn.Sequential(\n",
    "            nn.Conv2d(8, 64, kernel_size=2),  # bs, 8, 17, 17 -> bs, 64, 16, 16\n",
    "            nn.ReLU(),\n",
    "            nn.BatchNorm2d(64),\n",
    "            nn.MaxPool2d(2),  # bs, 64, 16, 16 -> bs, 64, 8, 8\n",
    "            nn.Conv2d(64, 64, kernel_size=1),  # bs, 64, 8, 8 -> bs, 64, 8, 8\n",
    "            nn.ReLU(),\n",
    "            nn.BatchNorm2d(64),\n",
    "            nn.MaxPool2d(2),  # bs, 64, 8, 8 -> bs, 64, 4, 4\n",
    "        )\n",
    "        self.flatten = nn.Flatten()\n",
    "        self.fc = nn.Sequential(\n",
    "            nn.Linear(64 * 4 * 4, 128),\n",
    "            nn.ReLU(),\n",
    "            nn.Linear(128, 1),  # One output neuron for binary classification\n",
    "            nn.Sigmoid(),  # Binary classification --> Sigmoid activation\n",
    "        )\n",
    "\n",
    "    def forward(self, x):\n",
    "        x = self.conv(x)\n",
    "        x = self.flatten(x)\n",
    "        x = self.fc(x)\n",
    "        return x"
   ]
  },
  {
   "cell_type": "code",
   "execution_count": 27,
   "metadata": {},
   "outputs": [],
   "source": [
    "model = ConvModel()\n",
    "criterion = nn.BCELoss()\n",
    "optimizer = torch.optim.Adam(model.parameters(), lr=0.001)\n",
    "device = torch.device(\"cuda\" if torch.cuda.is_available() else \"cpu\")\n",
    "model = model.to(device)"
   ]
  },
  {
   "cell_type": "code",
   "execution_count": 25,
   "metadata": {},
   "outputs": [],
   "source": [
    "# Daten in PyTorch Tensor konvertieren\n",
    "X_train, X_val, y_train, y_val = train_test_split(features, y_encoded, test_size=0.2, random_state=42)\n",
    "\n",
    "X_train_tensor = torch.tensor(X_train, dtype=torch.float32)\n",
    "y_train_tensor = torch.tensor(y_train, dtype=torch.long)\n",
    "\n",
    "X_val_tensor = torch.tensor(X_val, dtype=torch.float32)\n",
    "y_val_tensor = torch.tensor(y_val, dtype=torch.long)\n",
    "\n",
    "# Dataloader erstellen\n",
    "train_dataset = TensorDataset(X_train_tensor, y_train_tensor)\n",
    "val_dataset = TensorDataset(X_val_tensor, y_val_tensor)\n",
    "\n",
    "train_loader = DataLoader(train_dataset, batch_size=32, shuffle=True)\n",
    "val_loader = DataLoader(val_dataset, batch_size=32, shuffle=False)\n",
    "\n",
    "X_train_tensor = X_train_tensor.unsqueeze(1)  # Füge die 1D-Kanal-Dimension hinzu\n",
    "X_val_tensor = X_val_tensor.unsqueeze(1)\n"
   ]
  }
 ],
 "metadata": {
  "kernelspec": {
   "display_name": "tf_env",
   "language": "python",
   "name": "python3"
  },
  "language_info": {
   "codemirror_mode": {
    "name": "ipython",
    "version": 3
   },
   "file_extension": ".py",
   "mimetype": "text/x-python",
   "name": "python",
   "nbconvert_exporter": "python",
   "pygments_lexer": "ipython3",
   "version": "3.9.21"
  }
 },
 "nbformat": 4,
 "nbformat_minor": 2
}
