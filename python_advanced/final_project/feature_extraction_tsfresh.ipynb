{
 "cells": [
  {
   "cell_type": "markdown",
   "metadata": {},
   "source": [
    "<h1> Manual Feature Extraction with Tsfresh </h1>"
   ]
  },
  {
   "cell_type": "markdown",
   "metadata": {},
   "source": [
    "<h2> 1. Load data </h2>"
   ]
  },
  {
   "cell_type": "code",
   "execution_count": 11,
   "metadata": {},
   "outputs": [],
   "source": [
    "# imports\n",
    "import pandas as pd\n",
    "import numpy as np\n",
    "import matplotlib.pyplot as plt\n",
    "from sklearn.preprocessing import LabelEncoder\n",
    "from sklearn.preprocessing import StandardScaler\n",
    "from sklearn.feature_selection import VarianceThreshold\n",
    "from sklearn.model_selection import train_test_split\n",
    "from sklearn.metrics import accuracy_score, classification_report\n",
    "from sklearn.ensemble import AdaBoostClassifier\n",
    "from sklearn.tree import DecisionTreeClassifier\n",
    "from sklearn import svm\n",
    "from sklearn.neighbors import KNeighborsClassifier\n",
    "from scipy.signal import decimate\n",
    "from tsfresh import extract_features\n",
    "from tsfresh.feature_selection import select_features"
   ]
  },
  {
   "cell_type": "code",
   "execution_count": null,
   "metadata": {},
   "outputs": [],
   "source": [
    "class DataProcessor:\n",
    "    def __init__(self, input_path, file_names):\n",
    "        self.input_path = input_path\n",
    "        self.file_names = file_names\n",
    "        \n",
    "    def read_files(self):\n",
    "        self.data = {}\n",
    "        print(\"Reading files...\")\n",
    "        for file in self.file_names:\n",
    "            with open(self.input_path + file + '.txt', 'r') as f:\n",
    "                self.data[file] = pd.read_csv(f, header=None, sep='\\t')\n",
    "        return self.data\n",
    "    \n",
    "    def print_shape(self):\n",
    "        print(\"Files read:\")\n",
    "        for file in self.data:\n",
    "            print(f\"{file}: {self.data[file].shape}\")\n",
    "            \n",
    "    def create_target_df(self):\n",
    "        target_columns = ['Cooler_Condition', 'Valve_Condition', \n",
    "                        'Internal_Pump_Leakage', 'Hydraulic_Accumulator', \n",
    "                        'Stable_Flag']\n",
    "        self.data['target'].columns = target_columns\n",
    "        self.valve_condition = self.data['target']['Valve_Condition']\n",
    "        #del self.data['target']\n",
    "        return self.valve_condition\n",
    "\n",
    "def process_data():\n",
    "    input_path = \"input_data/\"\n",
    "    file_names = [\n",
    "        \"ce\", \"cp\", \"eps1\", \"se\", \"vs1\", \n",
    "        \"fs1\", \"fs2\", \n",
    "        \"ps1\", \"ps2\", \"ps3\", \"ps4\", \"ps5\", \"ps6\",\n",
    "        \"ts1\", \"ts2\", \"ts3\", \"ts4\", \"target\"\n",
    "    ]\n",
    "    \n",
    "    processor = DataProcessor(input_path, file_names)\n",
    "    data = processor.read_files()\n",
    "    processor.print_shape()\n",
    "    df_target = processor.create_target_df()\n",
    "    df_target = processor.valve_condition\n",
    "    return data, df_target\n",
    "\n",
    "data, df_target = process_data()"
   ]
  },
  {
   "cell_type": "markdown",
   "metadata": {},
   "source": [
    "<h2> 2. Signal Preprocessing </h2>\n",
    "\n",
    "<h3> Input data </h3>\n",
    "\n",
    "Steps:\n",
    "\n",
    "<ul>\n",
    "    <li>If the signal frequency is > 1 Hz, the signal gets downsampled to 1 Hz </li>\n",
    "    <li>Downsampled signals are stored in a new dictionary</li>\n",
    "    <li>An ID column gets added to the downsampled signals</li>\n",
    "    <li>The downsampled signals are concatenated in one dataframe</li>\n",
    "</ul>"
   ]
  },
  {
   "cell_type": "code",
   "execution_count": null,
   "metadata": {},
   "outputs": [],
   "source": [
    "df_list = ['se', 'fs1', 'ps3']\n",
    "\n",
    "df_downsampled = {}\n",
    "\n",
    "for df in df_list:\n",
    "    filtered_signals = []  # Reset for each DataFrame\n",
    "    if data[df].shape[1] == 6000:\n",
    "        downsample_factor = 100\n",
    "        for i in range(data[df].shape[0]):\n",
    "            row = data[df].iloc[i].values  # Extract row as a 1D array\n",
    "            filtered_signal = decimate(row, downsample_factor, ftype='fir')  # Downsample\n",
    "            filtered_signals.append(filtered_signal)  # Store the result\n",
    "        # Create a new DataFrame with the filtered signals and add the 'id' column\n",
    "        df_downsampled[df] = pd.DataFrame(filtered_signals)\n",
    "        df_downsampled[df][\"id\"] = df_downsampled[df].index\n",
    "\n",
    "    elif data[df].shape[1] == 600:\n",
    "        downsample_factor = 10\n",
    "        for i in range(data[df].shape[0]):\n",
    "            row = data[df].iloc[i].values  # Extract row as a 1D array\n",
    "            filtered_signal = decimate(row, downsample_factor, ftype='fir')  # Downsample\n",
    "            filtered_signals.append(filtered_signal)  # Store the result\n",
    "        # Create a new DataFrame with the filtered signals and add the 'id' column\n",
    "        df_downsampled[df] = pd.DataFrame(filtered_signals)\n",
    "        df_downsampled[df][\"id\"] = df_downsampled[df].index\n",
    "\n",
    "    else:\n",
    "        df_downsampled[df] = data[df]\n",
    "        df_downsampled[df][\"id\"] = df_downsampled[df].index\n",
    "\n",
    "# Combine all DataFrames\n",
    "df_combined = pd.concat([df_downsampled[df] for df in df_list], ignore_index=True)\n",
    "\n",
    "df_combined\n"
   ]
  },
  {
   "cell_type": "markdown",
   "metadata": {},
   "source": [
    "<h3> Transform Input Data into long format </h3>\n",
    "\n",
    "Since Tsfresh needs the input data in the long format, we transform our input DataFrame"
   ]
  },
  {
   "cell_type": "code",
   "execution_count": 25,
   "metadata": {},
   "outputs": [],
   "source": [
    "df_combined_long = pd.melt(df_combined, id_vars=['id'], var_name='time', value_name='value')"
   ]
  },
  {
   "cell_type": "markdown",
   "metadata": {},
   "source": [
    "<h3>Target Data</h3>\n",
    "\n",
    "Steps:\n",
    "\n",
    "<li>Encode Target labels</li>"
   ]
  },
  {
   "cell_type": "code",
   "execution_count": 26,
   "metadata": {},
   "outputs": [],
   "source": [
    "encoder = LabelEncoder()\n",
    "y_encoded = encoder.fit_transform(df_target)"
   ]
  },
  {
   "cell_type": "markdown",
   "metadata": {},
   "source": [
    "<h2>3. Extract Features </h2>"
   ]
  },
  {
   "cell_type": "code",
   "execution_count": null,
   "metadata": {},
   "outputs": [],
   "source": [
    "features = extract_features(df_combined_long, column_id=\"id\", column_sort=\"time\")   "
   ]
  },
  {
   "cell_type": "code",
   "execution_count": 28,
   "metadata": {},
   "outputs": [],
   "source": [
    "# clean the features\n",
    "features = features.dropna(axis=1)\n",
    "\n",
    "features.replace([np.inf, -np.inf], np.nan, inplace=True)\n",
    "features = features.dropna(how = \"all\", axis= \"columns\")\n",
    "\n",
    "# Feature-Selektion basierend auf Zielwerten\n",
    "features = select_features(features, y=y_encoded)\n",
    "\n",
    "selector = VarianceThreshold()\n",
    "features = selector.fit_transform(features)"
   ]
  },
  {
   "cell_type": "code",
   "execution_count": null,
   "metadata": {},
   "outputs": [],
   "source": [
    "# check shape of feature and target\n",
    "if features.shape[0] == y_encoded.shape[0]:\n",
    "    print(\"Data is ready for Modelling!\")\n",
    "    print(f\"Shape features: {features.shape}\")\n",
    "    print(f\"Shape target: {y_encoded.shape}\")\n",
    "else:\n",
    "    print(\"Shape of the Inputs and target don't match. Please check preprocesing steps\")"
   ]
  },
  {
   "cell_type": "markdown",
   "metadata": {},
   "source": [
    "<h2>4. Making predictions </h2>"
   ]
  },
  {
   "cell_type": "code",
   "execution_count": 30,
   "metadata": {},
   "outputs": [],
   "source": [
    "states = [27, 6728, 49122]\n",
    "accs = []\n",
    "features = features\n",
    "target = y_encoded"
   ]
  },
  {
   "cell_type": "markdown",
   "metadata": {},
   "source": [
    "<h3>4.1. AdaBoost Classifier </h3>"
   ]
  },
  {
   "cell_type": "code",
   "execution_count": null,
   "metadata": {},
   "outputs": [],
   "source": [
    "for RANDOM_STATE in states:\n",
    "    X_train, X_test, y_train, y_test = train_test_split(\n",
    "        features, target, test_size = 0.2, random_state = RANDOM_STATE, stratify = target\n",
    "    )\n",
    "    \n",
    "    model = AdaBoostClassifier(\n",
    "    estimator=DecisionTreeClassifier(max_depth=2),\n",
    "    n_estimators=30\n",
    "    )\n",
    "    \n",
    "    model.fit(X_train, y_train)\n",
    "    preds = model.predict(X_test)\n",
    "    accs.append(accuracy_score(y_test, preds))\n",
    "    print(f\"Random State: {RANDOM_STATE}\")\n",
    "    print(classification_report(y_test, preds, zero_division=0.0))\n",
    "\n",
    "accs_mean = round(np.mean(accs), 4)\n",
    "accs_std = round(np.std(accs), 4)\n",
    "\n",
    "print(f\"Mean Accuracy: {accs_mean}\")\n",
    "print(f\"Std Accuracy: {accs_std}\")"
   ]
  },
  {
   "cell_type": "markdown",
   "metadata": {},
   "source": [
    "<h3> 4.2. Support Vector Machines </h3>"
   ]
  },
  {
   "cell_type": "code",
   "execution_count": null,
   "metadata": {},
   "outputs": [],
   "source": [
    "for RANDOM_STATE in states:\n",
    "    X_train, X_test, y_train, y_test = train_test_split(\n",
    "        features, target, test_size = 0.2, random_state = RANDOM_STATE, stratify = target\n",
    "    )\n",
    "    \n",
    "    clf = svm.SVC(kernel='linear')\n",
    "    \n",
    "    clf.fit(X_train, y_train)\n",
    "    preds = model.predict(X_test)\n",
    "    accs.append(accuracy_score(y_test, preds))\n",
    "    print(f\"Random State: {RANDOM_STATE}\")\n",
    "    print(classification_report(y_test, preds, zero_division=0.0))\n",
    "\n",
    "accs_mean = round(np.mean(accs), 4)\n",
    "accs_std = round(np.std(accs), 4)\n",
    "\n",
    "print(f\"Mean Accuracy: {accs_mean}\")\n",
    "print(f\"Std Accuracy: {accs_std}\")"
   ]
  },
  {
   "cell_type": "markdown",
   "metadata": {},
   "source": [
    "<h3>4.3. K-Nearest Neighbours</h3>"
   ]
  },
  {
   "cell_type": "code",
   "execution_count": null,
   "metadata": {},
   "outputs": [],
   "source": [
    "for RANDOM_STATE in states:\n",
    " \n",
    "    X_train, X_test, y_train, y_test = train_test_split(\n",
    "        features, target, test_size=0.2, random_state=RANDOM_STATE, stratify=target\n",
    "    )\n",
    "    \n",
    "    # Standardise features\n",
    "    scaler = StandardScaler()\n",
    "    X_train = scaler.fit_transform(X_train)\n",
    "    X_test = scaler.transform(X_test)\n",
    "    \n",
    "    knn = KNeighborsClassifier(n_neighbors=3)\n",
    "    knn.fit(X_train, y_train)\n",
    "    \n",
    "    preds = knn.predict(X_test)  # Korrigiert von `model.predict` zu `knn.predict`\n",
    "    accs.append(accuracy_score(y_test, preds))\n",
    "    \n",
    "    # Ergebnisse ausgeben\n",
    "    print(f\"Random State: {RANDOM_STATE}\")\n",
    "    print(classification_report(y_test, preds, zero_division=0.0))\n",
    "\n",
    "\n",
    "accs_mean = round(np.mean(accs), 4)\n",
    "accs_std = round(np.std(accs), 4)\n",
    "\n",
    "print(f\"Mean Accuracy: {accs_mean}\")\n",
    "print(f\"Std Accuracy: {accs_std}\")"
   ]
  },
  {
   "cell_type": "code",
   "execution_count": 34,
   "metadata": {},
   "outputs": [
    {
     "data": {
      "image/png": "[encoded data removed]",
      "text/plain": [
       "<Figure size 1000x500 with 1 Axes>"
      ]
     },
     "metadata": {},
     "output_type": "display_data"
    }
   ],
   "source": [
    "from scipy.interpolate import interp1d\n",
    "import numpy as np\n",
    "import matplotlib.pyplot as plt\n",
    "\n",
    "# Nicht-periodisches Signal erstellen\n",
    "x = np.linspace(0, 10, 100)  # Ursprüngliche Zeitpunkte\n",
    "y = np.exp(-x) + np.random.rand(100) * 0.1\n",
    "\n",
    "# Ziel-Zeitpunkte\n",
    "x_new = np.linspace(0, 10, 300)\n",
    "\n",
    "# Interpolation\n",
    "interpolator = interp1d(x, y, kind='cubic')  # Kubische Interpolation\n",
    "y_resampled = interpolator(x_new)\n",
    "\n",
    "# Visualisierung\n",
    "plt.figure(figsize=(10, 5))\n",
    "plt.plot(x, y, 'o-', label='Original Signal (100 Punkte)')\n",
    "plt.plot(x_new, y_resampled, 'x-', label='Resampled Signal (300 Punkte)')\n",
    "plt.legend()\n",
    "plt.title('Resampling mit Interpolation (cubic)')\n",
    "plt.show()\n"
   ]
  }
 ],
 "metadata": {
  "kernelspec": {
   "display_name": "py_adv",
   "language": "python",
   "name": "python3"
  },
  "language_info": {
   "codemirror_mode": {
    "name": "ipython",
    "version": 3
   },
   "file_extension": ".py",
   "mimetype": "text/x-python",
   "name": "python",
   "nbconvert_exporter": "python",
   "pygments_lexer": "ipython3",
   "version": "3.12.7"
  }
 },
 "nbformat": 4,
 "nbformat_minor": 2
}
