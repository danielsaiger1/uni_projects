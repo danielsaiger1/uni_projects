{
 "cells": [
  {
   "cell_type": "code",
   "execution_count": null,
   "metadata": {},
   "outputs": [],
   "source": [
    "import pandas as pd\n",
    "import numpy as np\n",
    "from numpy import loadtxt\n",
    "import matplotlib.pyplot as plt\n",
    "from sklearn.ensemble import AdaBoostClassifier\n",
    "from sklearn.tree import DecisionTreeClassifier\n",
    "from sklearn.model_selection import train_test_split\n",
    "from sklearn.metrics import accuracy_score, classification_report\n",
    "\n",
    "#PS: Pressure, bar, 100 Hz --> 100 Messungen pro Sekunde\n",
    "#EPS: Motor power, W, 100 Hz \n",
    "#FS: Volume flow, l/min, 10 Hz --> 10 Messungen pro Sekunde\n",
    "#TS: Temperature, Celsius, 1 Hz --> 1 Messung pro Sekunde\n",
    "#VS: Vibration, mm/s, 1Hz\n",
    "#CE: Cooling efficiency (virtual), %, 1 Hz\n",
    "#CP: Cooling power (virtual), kW, 1 Hz\n",
    "#SE: Efficency factor, %, 1 Hz\n",
    "\n",
    "class DataProcessor:\n",
    "    def __init__(self, input_path, file_names):\n",
    "        self.input_path = input_path\n",
    "        self.file_names = file_names\n",
    "        \n",
    "    def read_files(self):\n",
    "        self.data = {}\n",
    "        print(\"Reading files...\")\n",
    "        for file in self.file_names:\n",
    "            with open(self.input_path + file + '.txt', 'r') as f:\n",
    "                self.data[file] = loadtxt(f)\n",
    "        return self.data\n",
    "    \n",
    "    def print_shape(self):\n",
    "        print(\"Files read:\")\n",
    "        for file in self.data:\n",
    "            print(f\"{file}: {self.data[file].shape}\")\n",
    "            \n",
    "    def create_target_df(self):\n",
    "        target_columns = ['Cooler_Condition', 'Valve_Condition', \n",
    "                        'Internal_Pump_Leakage', 'Hydraulic_Accumulator', \n",
    "                        'Stable_Flag']\n",
    "        self.df_target = pd.DataFrame(self.data['target'], columns=target_columns)\n",
    "        self.valve_condition = self.df_target['Valve_Condition']\n",
    "        del self.data['target']\n",
    "        return self.valve_condition\n",
    "\n",
    "def process_data():\n",
    "    input_path = \"input_data/\"\n",
    "    file_names = [\n",
    "        \"ce\", \"cp\", \"eps1\", \"se\", \"vs1\", \n",
    "        \"fs1\", \"fs2\", \n",
    "        \"ps1\", \"ps2\", \"ps3\", \"ps4\", \"ps5\", \"ps6\",\n",
    "        \"ts1\", \"ts2\", \"ts3\", \"ts4\", \"target\"\n",
    "    ]\n",
    "    \n",
    "    processor = DataProcessor(input_path, file_names)\n",
    "    data = processor.read_files()\n",
    "    processor.print_shape()\n",
    "    processor.create_target_df()\n",
    "    df_target = processor.valve_condition\n",
    "    return data, df_target\n",
    "\n",
    "data, df_target = process_data()"
   ]
  },
  {
   "cell_type": "code",
   "execution_count": 2,
   "metadata": {},
   "outputs": [],
   "source": [
    "dfs = {}\n",
    "\n",
    "\n",
    "input_path = \"input_data/\"\n",
    "file_names = [\n",
    "    \"ce\", \"cp\", \"eps1\", \"se\", \"vs1\", \n",
    "    \"fs1\", \"fs2\", \n",
    "    \"ps1\", \"ps2\", \"ps3\", \"ps4\", \"ps5\", \"ps6\",\n",
    "    \"ts1\", \"ts2\", \"ts3\", \"ts4\", \"target\"\n",
    "]\n",
    "\n",
    "for file in file_names:\n",
    "    with open(input_path + file + '.txt', 'r') as f:\n",
    "        data = pd.read_csv(f, sep=\"\\t\", header=None)\n",
    "        dfs[file] = data"
   ]
  },
  {
   "cell_type": "code",
   "execution_count": 3,
   "metadata": {},
   "outputs": [],
   "source": [
    "dfs['target'] = dfs['target'][1]"
   ]
  },
  {
   "cell_type": "code",
   "execution_count": 4,
   "metadata": {},
   "outputs": [],
   "source": [
    "target = dfs['target']"
   ]
  },
  {
   "cell_type": "code",
   "execution_count": 5,
   "metadata": {},
   "outputs": [
    {
     "data": {
      "text/plain": [
       "0       100\n",
       "1       100\n",
       "2       100\n",
       "3       100\n",
       "4       100\n",
       "       ... \n",
       "2200    100\n",
       "2201    100\n",
       "2202    100\n",
       "2203    100\n",
       "2204    100\n",
       "Name: 1, Length: 2205, dtype: int64"
      ]
     },
     "execution_count": 5,
     "metadata": {},
     "output_type": "execute_result"
    }
   ],
   "source": [
    "dfs.pop(\"target\")"
   ]
  },
  {
   "cell_type": "code",
   "execution_count": null,
   "metadata": {},
   "outputs": [],
   "source": [
    "import numpy as np\n",
    "import pandas as pd\n",
    "import matplotlib.pyplot as plt\n",
    "from scipy.fft import fft, fftfreq\n",
    "\n",
    "# Beispiel: Laden von simulierten Daten (Daten sollten entsprechend ersetzt werden)\n",
    "data = {\n",
    "    \"PS1\": np.sin(2 * np.pi * np.linspace(0, 1, 6000) * 10) + 0.5 * np.random.randn(6000),\n",
    "    \"PS2\": np.sin(2 * np.pi * np.linspace(0, 1, 6000) * 20) + 0.5 * np.random.randn(6000),\n",
    "    \"EPS1\": np.cos(2 * np.pi * np.linspace(0, 1, 6000) * 5) + 0.3 * np.random.randn(6000),\n",
    "}\n",
    "\n",
    "df = pd.DataFrame(data)\n",
    "\n",
    "# Samplingrate und Dauer\n",
    "fs = 100  # 100 Hz (Sampling-Rate)\n",
    "n = df.shape[0]  # Anzahl der Abtastungen\n",
    "t = np.linspace(0, n / fs, n, endpoint=False)  # Zeitvektor\n",
    "\n",
    "# FFT für jede Spalte berechnen\n",
    "fft_features = {}\n",
    "for sensor, values in df.items():\n",
    "    # FFT anwenden\n",
    "    fft_result = fft(values)\n",
    "    freq = fftfreq(n, d=1/fs)  # Frequenzen berechnen\n",
    "    \n",
    "    # Nur positive Frequenzen verwenden\n",
    "    pos_freq_idx = freq > 0\n",
    "    fft_result = np.abs(fft_result[pos_freq_idx])  # Amplitude\n",
    "    freq = freq[pos_freq_idx]\n",
    "    \n",
    "    # Frequenzmerkmale extrahieren (z. B. Peaks, Gesamtenergie)\n",
    "    fft_features[f\"{sensor}_max_amp_freq\"] = freq[np.argmax(fft_result)]\n",
    "    fft_features[f\"{sensor}_energy\"] = np.sum(fft_result ** 2)\n",
    "    fft_features[f\"{sensor}_mean_amp\"] = np.mean(fft_result)\n",
    "    \n",
    "    # Optional: Frequenzspektrum plotten\n",
    "    plt.plot(freq, fft_result, label=sensor)\n",
    "    \n",
    "# Ergebnisse plotten\n",
    "plt.title(\"Frequenzspektren der Sensoren\")\n",
    "plt.xlabel(\"Frequenz (Hz)\")\n",
    "plt.ylabel(\"Amplitude\")\n",
    "plt.legend()\n",
    "plt.show()\n",
    "\n",
    "# FFT-Merkmale als DataFrame speichern\n",
    "fft_features_df = pd.DataFrame([fft_features])\n",
    "print(fft_features_df)\n"
   ]
  }
 ],
 "metadata": {
  "kernelspec": {
   "display_name": "py_adv",
   "language": "python",
   "name": "python3"
  },
  "language_info": {
   "codemirror_mode": {
    "name": "ipython",
    "version": 3
   },
   "file_extension": ".py",
   "mimetype": "text/x-python",
   "name": "python",
   "nbconvert_exporter": "python",
   "pygments_lexer": "ipython3",
   "version": "3.12.7"
  }
 },
 "nbformat": 4,
 "nbformat_minor": 2
}
