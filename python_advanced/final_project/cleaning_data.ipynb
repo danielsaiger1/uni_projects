{
 "cells": [
  {
   "cell_type": "code",
   "execution_count": 52,
   "metadata": {},
   "outputs": [
    {
     "name": "stdout",
     "output_type": "stream",
     "text": [
      "Reading files...\n",
      "Files read:\n",
      "ce: (2205, 60)\n",
      "cp: (2205, 60)\n",
      "eps1: (2205, 6000)\n",
      "se: (2205, 60)\n",
      "vs1: (2205, 60)\n",
      "fs1: (2205, 600)\n",
      "fs2: (2205, 600)\n",
      "ps1: (2205, 6000)\n",
      "ps2: (2205, 6000)\n",
      "ps3: (2205, 6000)\n",
      "ps4: (2205, 6000)\n",
      "ps5: (2205, 6000)\n",
      "ps6: (2205, 6000)\n",
      "ts1: (2205, 60)\n",
      "ts2: (2205, 60)\n",
      "ts3: (2205, 60)\n",
      "ts4: (2205, 60)\n",
      "target: (2205, 5)\n"
     ]
    }
   ],
   "source": [
    "import pandas as pd\n",
    "import numpy as np\n",
    "from numpy import loadtxt\n",
    "import matplotlib.pyplot as plt\n",
    "from sklearn.ensemble import AdaBoostClassifier\n",
    "from sklearn.tree import DecisionTreeClassifier\n",
    "from sklearn.model_selection import train_test_split\n",
    "from sklearn.metrics import accuracy_score, classification_report\n",
    "\n",
    "#PS: Pressure, bar, 100 Hz --> 100 Messungen pro Sekunde\n",
    "#EPS: Motor power, W, 100 Hz \n",
    "#FS: Volume flow, l/min, 10 Hz --> 10 Messungen pro Sekunde\n",
    "#TS: Temperature, Celsius, 1 Hz --> 1 Messung pro Sekunde\n",
    "#VS: Vibration, mm/s, 1Hz\n",
    "#CE: Cooling efficiency (virtual), %, 1 Hz\n",
    "#CP: Cooling power (virtual), kW, 1 Hz\n",
    "#SE: Efficency factor, %, 1 Hz\n",
    "\n",
    "\n",
    "class DataProcessor:\n",
    "    def __init__(self, input_path, file_names):\n",
    "        self.input_path = input_path\n",
    "        self.file_names = file_names\n",
    "        \n",
    "    def read_files(self):\n",
    "        self.data = {}\n",
    "        print(\"Reading files...\")\n",
    "        for file in self.file_names:\n",
    "            with open(self.input_path + file + '.txt', 'r') as f:\n",
    "                self.data[file] = loadtxt(f)\n",
    "        return self.data\n",
    "    \n",
    "    def print_shape(self):\n",
    "        print(\"Files read:\")\n",
    "        for file in self.data:\n",
    "            print(f\"{file}: {self.data[file].shape}\")\n",
    "            \n",
    "    def create_target_df(self):\n",
    "        target_columns = ['Cooler_Condition', 'Valve_Condition', \n",
    "                        'Internal_Pump_Leakage', 'Hydraulic_Accumulator', \n",
    "                        'Stable_Flag']\n",
    "        self.df_target = pd.DataFrame(self.data['target'], columns=target_columns)\n",
    "        self.valve_condition = self.df_target['Valve_Condition']\n",
    "        del self.data['target']\n",
    "        return self.valve_condition\n",
    "\n",
    "def process_data():\n",
    "    input_path = \"input_data/\"\n",
    "    file_names = [\n",
    "        \"ce\", \"cp\", \"eps1\", \"se\", \"vs1\", \n",
    "        \"fs1\", \"fs2\", \n",
    "        \"ps1\", \"ps2\", \"ps3\", \"ps4\", \"ps5\", \"ps6\",\n",
    "        \"ts1\", \"ts2\", \"ts3\", \"ts4\", \"target\"\n",
    "    ]\n",
    "    \n",
    "    processor = DataProcessor(input_path, file_names)\n",
    "    data = processor.read_files()\n",
    "    processor.print_shape()\n",
    "    processor.create_target_df()\n",
    "    df_target = processor.valve_condition\n",
    "    return data, df_target\n",
    "\n",
    "data, df_target = process_data()"
   ]
  },
  {
   "cell_type": "code",
   "execution_count": 53,
   "metadata": {},
   "outputs": [],
   "source": [
    "#einzelne Signale in Means abspeichern\n",
    "data_means = {}\n",
    "for key in data:\n",
    "    data_means[key] = np.mean(data[key], axis=1)"
   ]
  },
  {
   "cell_type": "code",
   "execution_count": 55,
   "metadata": {},
   "outputs": [
    {
     "data": {
      "text/plain": [
       "(2205,)"
      ]
     },
     "execution_count": 55,
     "metadata": {},
     "output_type": "execute_result"
    }
   ],
   "source": [
    "data_means['eps1'].shape"
   ]
  },
  {
   "cell_type": "code",
   "execution_count": 45,
   "metadata": {},
   "outputs": [],
   "source": [
    "# 1. Funktion: Ausreißer entfernen\n",
    "def remove_outliers(data, threshold=3):\n",
    "    \"\"\"\n",
    "    Entfernt Ausreißer anhand des Z-Scores.\n",
    "    data: 2D-Array (Zeilen: Kanäle, Spalten: Zeitpunkte)\n",
    "    threshold: Schwellenwert für Z-Score\n",
    "    \"\"\"\n",
    "    z_scores = (data - np.mean(data, axis=0, keepdims=True)) / np.std(data, axis=0, keepdims=True)\n",
    "    data_cleaned = np.where(np.abs(z_scores) > threshold, np.median(data, axis=0, keepdims=True), data)\n",
    "    return data_cleaned\n",
    "\n",
    "def smooth_signal(data, window_size=11):\n",
    "    \"\"\"\n",
    "    Glättet das Signal mit einem gleitenden Durchschnitt.\n",
    "    data: 2D-Array (Zeilen: Kanäle, Spalten: Zeitpunkte)\n",
    "    window_size: Fenstergröße für den gleitenden Durchschnitt\n",
    "    \"\"\"\n",
    "    return pd.DataFrame(data).rolling(window=window_size, axis=1, min_periods=1).mean()\n",
    "\n",
    "\n",
    "\n",
    "# Pipeline zur Signalbereinigung\n",
    "def clean_signal(signal):\n",
    "    print(\"1. Entferne Ausreißer...\")\n",
    "    signal_cleaned = remove_outliers(signal)\n",
    "\n",
    "    print(\"2. Glätte das Signal mit Moving Average...\")\n",
    "    signal_smoothed = smooth_signal(signal_cleaned, window_size=10)\n",
    "\n",
    "    return signal_smoothed\n",
    "\n",
    "# # # Visualisierung des Original- und bereinigten Signals\n",
    "# # plt.figure(figsize=(20, 8))\n",
    "# # plt.subplot(2, 1, 1)\n",
    "# # plt.title(\"Originales Signal\")\n",
    "# # plt.plot(signal, alpha=0.3)  # Transponieren für bessere Visualisierung'\n",
    "\n",
    "# plt.subplot(2, 1, 2)\n",
    "# plt.title(\"Bereinigtes Signal\")\n",
    "# plt.plot(cleaned_signal, alpha=0.3)  # Transponieren für bessere Visualisierung\n",
    "# plt.tight_layout()\n",
    "# plt.show()\n"
   ]
  },
  {
   "cell_type": "code",
   "execution_count": 68,
   "metadata": {},
   "outputs": [
    {
     "name": "stdout",
     "output_type": "stream",
     "text": [
      "[35.65786422 36.62459006 37.58073698 ... 35.32106524 35.31922496\n",
      " 35.3176763 ]\n"
     ]
    },
    {
     "data": {
      "image/png": "[encoded data removed]",
      "text/plain": [
       "<Figure size 1000x600 with 2 Axes>"
      ]
     },
     "metadata": {},
     "output_type": "display_data"
    }
   ],
   "source": [
    "from scipy import signal\n",
    "\n",
    "def butter_lowpass(cutoff, fs, order = 5):\n",
    "    return scipy.signal.butter(order, cutoff, fs = fs, btype = 'low', analog = False)\n",
    "\n",
    "def butter_lowpass_filter(data, cutoff, fs, order = 5):\n",
    "    b, a = butter_lowpass(cutoff, fs, order = order)\n",
    "    y = scipy.signal.filtfilt(b, a, data)\n",
    "    return y\n",
    "\n",
    "order = 6\n",
    "fs = 100.0\n",
    "cutoff = 3.667\n",
    "\n",
    "y = butter_lowpass_filter(data_means['ts1'], cutoff, fs, order)\n",
    "\n",
    "print(y)\n",
    "# Plots erzeugen\n",
    "fig, ax = plt.subplots(2, 1, figsize=(10, 6))\n",
    "\n",
    "# Rohdaten plotten\n",
    "ax[0].plot(data_means['ts1'], 'b-', label='Originaldaten')\n",
    "ax[0].set_title('Originaldaten')\n",
    "\n",
    "# Gefilterte Daten plotten\n",
    "ax[1].plot(y, 'g-', linewidth=2, label='Gefilterte Daten')\n",
    "ax[1].set_title('Gefilterte Daten')\n",
    "\n",
    "plt.tight_layout()\n",
    "plt.show()"
   ]
  },
  {
   "cell_type": "code",
   "execution_count": 69,
   "metadata": {},
   "outputs": [],
   "source": [
    "def butter_lowpass(cutoff, fs, order = 5):\n",
    "    return scipy.signal.butter(order, cutoff, fs = fs, btype = 'low', analog = False)\n",
    "\n",
    "def butter_lowpass_filter(data, cutoff, fs, order = 5):\n",
    "    b, a = butter_lowpass(cutoff, fs, order = order)\n",
    "    y = scipy.signal.filtfilt(b, a, data)\n",
    "    return y\n",
    "\n",
    "order = 6\n",
    "fs = 100.0\n",
    "cutoff = 3.667\n",
    "\n",
    "for key in data_means:\n",
    "    data_means[key] = butter_lowpass_filter(data_means[key], cutoff, fs, order)"
   ]
  },
  {
   "cell_type": "code",
   "execution_count": null,
   "metadata": {},
   "outputs": [
    {
     "ename": "ValueError",
     "evalue": "If using all scalar values, you must pass an index",
     "output_type": "error",
     "traceback": [
      "\u001b[1;31m---------------------------------------------------------------------------\u001b[0m",
      "\u001b[1;31mValueError\u001b[0m                                Traceback (most recent call last)",
      "Cell \u001b[1;32mIn[88], line 18\u001b[0m\n\u001b[0;32m     15\u001b[0m         \u001b[38;5;28;01mreturn\u001b[39;00m \u001b[38;5;28mself\u001b[39m\u001b[38;5;241m.\u001b[39mdf_features\n\u001b[0;32m     17\u001b[0m extractor \u001b[38;5;241m=\u001b[39m ManualFeatureExtractor(data_means)\n\u001b[1;32m---> 18\u001b[0m df_features \u001b[38;5;241m=\u001b[39m extractor\u001b[38;5;241m.\u001b[39mextract_features()\n\u001b[0;32m     19\u001b[0m \u001b[38;5;28mprint\u001b[39m(df_features\u001b[38;5;241m.\u001b[39mshape, df_target\u001b[38;5;241m.\u001b[39mshape)\n",
      "Cell \u001b[1;32mIn[88], line 14\u001b[0m, in \u001b[0;36mManualFeatureExtractor.extract_features\u001b[1;34m(self)\u001b[0m\n\u001b[0;32m     10\u001b[0m     features[\u001b[38;5;124mf\u001b[39m\u001b[38;5;124m\"\u001b[39m\u001b[38;5;132;01m{\u001b[39;00mkey\u001b[38;5;132;01m}\u001b[39;00m\u001b[38;5;124m_\u001b[39m\u001b[38;5;132;01m{\u001b[39;00mi\u001b[38;5;132;01m}\u001b[39;00m\u001b[38;5;124m_std\u001b[39m\u001b[38;5;124m\"\u001b[39m] \u001b[38;5;241m=\u001b[39m np\u001b[38;5;241m.\u001b[39mstd(\u001b[38;5;28mself\u001b[39m\u001b[38;5;241m.\u001b[39mdataset[key])\n\u001b[0;32m     11\u001b[0m     \u001b[38;5;66;03m#features[f\"{key}_{i}_min\"] = self.dataset[key].min(axis=1)\u001b[39;00m\n\u001b[0;32m     12\u001b[0m     \u001b[38;5;66;03m#features[f\"{key}_{i}_max\"] = self.dataset[key].max(axis=1)\u001b[39;00m\n\u001b[0;32m     13\u001b[0m     \u001b[38;5;66;03m#features[f\"{key}_{i}_range\"] = self.dataset[key].max(axis=1) - self.dataset[key].min(axis=1)\u001b[39;00m\n\u001b[1;32m---> 14\u001b[0m \u001b[38;5;28mself\u001b[39m\u001b[38;5;241m.\u001b[39mdf_features \u001b[38;5;241m=\u001b[39m pd\u001b[38;5;241m.\u001b[39mDataFrame(features)\n\u001b[0;32m     15\u001b[0m \u001b[38;5;28;01mreturn\u001b[39;00m \u001b[38;5;28mself\u001b[39m\u001b[38;5;241m.\u001b[39mdf_features\n",
      "File \u001b[1;32mc:\\Users\\Daniel\\anaconda3\\envs\\py_adv\\Lib\\site-packages\\pandas\\core\\frame.py:778\u001b[0m, in \u001b[0;36mDataFrame.__init__\u001b[1;34m(self, data, index, columns, dtype, copy)\u001b[0m\n\u001b[0;32m    772\u001b[0m     mgr \u001b[38;5;241m=\u001b[39m \u001b[38;5;28mself\u001b[39m\u001b[38;5;241m.\u001b[39m_init_mgr(\n\u001b[0;32m    773\u001b[0m         data, axes\u001b[38;5;241m=\u001b[39m{\u001b[38;5;124m\"\u001b[39m\u001b[38;5;124mindex\u001b[39m\u001b[38;5;124m\"\u001b[39m: index, \u001b[38;5;124m\"\u001b[39m\u001b[38;5;124mcolumns\u001b[39m\u001b[38;5;124m\"\u001b[39m: columns}, dtype\u001b[38;5;241m=\u001b[39mdtype, copy\u001b[38;5;241m=\u001b[39mcopy\n\u001b[0;32m    774\u001b[0m     )\n\u001b[0;32m    776\u001b[0m \u001b[38;5;28;01melif\u001b[39;00m \u001b[38;5;28misinstance\u001b[39m(data, \u001b[38;5;28mdict\u001b[39m):\n\u001b[0;32m    777\u001b[0m     \u001b[38;5;66;03m# GH#38939 de facto copy defaults to False only in non-dict cases\u001b[39;00m\n\u001b[1;32m--> 778\u001b[0m     mgr \u001b[38;5;241m=\u001b[39m dict_to_mgr(data, index, columns, dtype\u001b[38;5;241m=\u001b[39mdtype, copy\u001b[38;5;241m=\u001b[39mcopy, typ\u001b[38;5;241m=\u001b[39mmanager)\n\u001b[0;32m    779\u001b[0m \u001b[38;5;28;01melif\u001b[39;00m \u001b[38;5;28misinstance\u001b[39m(data, ma\u001b[38;5;241m.\u001b[39mMaskedArray):\n\u001b[0;32m    780\u001b[0m     \u001b[38;5;28;01mfrom\u001b[39;00m \u001b[38;5;21;01mnumpy\u001b[39;00m\u001b[38;5;21;01m.\u001b[39;00m\u001b[38;5;21;01mma\u001b[39;00m \u001b[38;5;28;01mimport\u001b[39;00m mrecords\n",
      "File \u001b[1;32mc:\\Users\\Daniel\\anaconda3\\envs\\py_adv\\Lib\\site-packages\\pandas\\core\\internals\\construction.py:503\u001b[0m, in \u001b[0;36mdict_to_mgr\u001b[1;34m(data, index, columns, dtype, typ, copy)\u001b[0m\n\u001b[0;32m    499\u001b[0m     \u001b[38;5;28;01melse\u001b[39;00m:\n\u001b[0;32m    500\u001b[0m         \u001b[38;5;66;03m# dtype check to exclude e.g. range objects, scalars\u001b[39;00m\n\u001b[0;32m    501\u001b[0m         arrays \u001b[38;5;241m=\u001b[39m [x\u001b[38;5;241m.\u001b[39mcopy() \u001b[38;5;28;01mif\u001b[39;00m \u001b[38;5;28mhasattr\u001b[39m(x, \u001b[38;5;124m\"\u001b[39m\u001b[38;5;124mdtype\u001b[39m\u001b[38;5;124m\"\u001b[39m) \u001b[38;5;28;01melse\u001b[39;00m x \u001b[38;5;28;01mfor\u001b[39;00m x \u001b[38;5;129;01min\u001b[39;00m arrays]\n\u001b[1;32m--> 503\u001b[0m \u001b[38;5;28;01mreturn\u001b[39;00m arrays_to_mgr(arrays, columns, index, dtype\u001b[38;5;241m=\u001b[39mdtype, typ\u001b[38;5;241m=\u001b[39mtyp, consolidate\u001b[38;5;241m=\u001b[39mcopy)\n",
      "File \u001b[1;32mc:\\Users\\Daniel\\anaconda3\\envs\\py_adv\\Lib\\site-packages\\pandas\\core\\internals\\construction.py:114\u001b[0m, in \u001b[0;36marrays_to_mgr\u001b[1;34m(arrays, columns, index, dtype, verify_integrity, typ, consolidate)\u001b[0m\n\u001b[0;32m    111\u001b[0m \u001b[38;5;28;01mif\u001b[39;00m verify_integrity:\n\u001b[0;32m    112\u001b[0m     \u001b[38;5;66;03m# figure out the index, if necessary\u001b[39;00m\n\u001b[0;32m    113\u001b[0m     \u001b[38;5;28;01mif\u001b[39;00m index \u001b[38;5;129;01mis\u001b[39;00m \u001b[38;5;28;01mNone\u001b[39;00m:\n\u001b[1;32m--> 114\u001b[0m         index \u001b[38;5;241m=\u001b[39m _extract_index(arrays)\n\u001b[0;32m    115\u001b[0m     \u001b[38;5;28;01melse\u001b[39;00m:\n\u001b[0;32m    116\u001b[0m         index \u001b[38;5;241m=\u001b[39m ensure_index(index)\n",
      "File \u001b[1;32mc:\\Users\\Daniel\\anaconda3\\envs\\py_adv\\Lib\\site-packages\\pandas\\core\\internals\\construction.py:667\u001b[0m, in \u001b[0;36m_extract_index\u001b[1;34m(data)\u001b[0m\n\u001b[0;32m    664\u001b[0m         \u001b[38;5;28;01mraise\u001b[39;00m \u001b[38;5;167;01mValueError\u001b[39;00m(\u001b[38;5;124m\"\u001b[39m\u001b[38;5;124mPer-column arrays must each be 1-dimensional\u001b[39m\u001b[38;5;124m\"\u001b[39m)\n\u001b[0;32m    666\u001b[0m \u001b[38;5;28;01mif\u001b[39;00m \u001b[38;5;129;01mnot\u001b[39;00m indexes \u001b[38;5;129;01mand\u001b[39;00m \u001b[38;5;129;01mnot\u001b[39;00m raw_lengths:\n\u001b[1;32m--> 667\u001b[0m     \u001b[38;5;28;01mraise\u001b[39;00m \u001b[38;5;167;01mValueError\u001b[39;00m(\u001b[38;5;124m\"\u001b[39m\u001b[38;5;124mIf using all scalar values, you must pass an index\u001b[39m\u001b[38;5;124m\"\u001b[39m)\n\u001b[0;32m    669\u001b[0m \u001b[38;5;28;01mif\u001b[39;00m have_series:\n\u001b[0;32m    670\u001b[0m     index \u001b[38;5;241m=\u001b[39m union_indexes(indexes)\n",
      "\u001b[1;31mValueError\u001b[0m: If using all scalar values, you must pass an index"
     ]
    }
   ],
   "source": [
    "class ManualFeatureExtractor:\n",
    "    def __init__(self, dataset):\n",
    "        self.dataset = dataset\n",
    "        \n",
    "    def extract_features(self):\n",
    "        features = {}\n",
    "        for i, key in enumerate(self.dataset, start=1):\n",
    "            #features[f\"{key}_{i}_mean\"] = self.dataset[key].mean(axis=1)\n",
    "            #features[f\"{key}_{i}_median\"] = np.median(self.dataset[key], axis=1)\n",
    "            features[f\"{key}_{i}_std\"] = self.dataset[key].std(axis=1)\n",
    "            #features[f\"{key}_{i}_min\"] = self.dataset[key].min(axis=1)\n",
    "            #features[f\"{key}_{i}_max\"] = self.dataset[key].max(axis=1)\n",
    "            #features[f\"{key}_{i}_range\"] = self.dataset[key].max(axis=1) - self.dataset[key].min(axis=1)\n",
    "        self.df_features = pd.DataFrame(features)\n",
    "        return self.df_features\n",
    "\n",
    "extractor = ManualFeatureExtractor(data_means)\n",
    "df_features = extractor.extract_features()\n",
    "print(df_features.shape, df_target.shape)"
   ]
  },
  {
   "cell_type": "code",
   "execution_count": 83,
   "metadata": {},
   "outputs": [
    {
     "name": "stderr",
     "output_type": "stream",
     "text": [
      "c:\\Users\\Daniel\\anaconda3\\envs\\py_adv\\Lib\\site-packages\\sklearn\\ensemble\\_weight_boosting.py:527: FutureWarning: The SAMME.R algorithm (the default) is deprecated and will be removed in 1.6. Use the SAMME algorithm to circumvent this warning.\n",
      "  warnings.warn(\n",
      "c:\\Users\\Daniel\\anaconda3\\envs\\py_adv\\Lib\\site-packages\\sklearn\\ensemble\\_weight_boosting.py:527: FutureWarning: The SAMME.R algorithm (the default) is deprecated and will be removed in 1.6. Use the SAMME algorithm to circumvent this warning.\n",
      "  warnings.warn(\n"
     ]
    },
    {
     "name": "stdout",
     "output_type": "stream",
     "text": [
      "Random State: 27\n",
      "              precision    recall  f1-score   support\n",
      "\n",
      "        73.0       0.20      0.15      0.17        72\n",
      "        80.0       0.26      0.17      0.20        72\n",
      "        90.0       0.33      0.19      0.25        72\n",
      "       100.0       0.62      0.82      0.70       225\n",
      "\n",
      "    accuracy                           0.50       441\n",
      "   macro avg       0.35      0.33      0.33       441\n",
      "weighted avg       0.44      0.50      0.46       441\n",
      "\n",
      "Random State: 6728\n",
      "              precision    recall  f1-score   support\n",
      "\n",
      "        73.0       0.45      0.25      0.32        72\n",
      "        80.0       0.28      0.21      0.24        72\n",
      "        90.0       0.35      0.08      0.13        72\n",
      "       100.0       0.61      0.89      0.72       225\n",
      "\n",
      "    accuracy                           0.54       441\n",
      "   macro avg       0.42      0.36      0.35       441\n",
      "weighted avg       0.49      0.54      0.48       441\n",
      "\n",
      "Random State: 49122\n",
      "              precision    recall  f1-score   support\n",
      "\n",
      "        73.0       0.43      0.25      0.32        72\n",
      "        80.0       0.33      0.36      0.35        72\n",
      "        90.0       0.45      0.18      0.26        72\n",
      "       100.0       0.63      0.82      0.71       225\n",
      "\n",
      "    accuracy                           0.55       441\n",
      "   macro avg       0.46      0.40      0.41       441\n",
      "weighted avg       0.52      0.55      0.51       441\n",
      "\n",
      "Mean Accuracy: 0.5306\n",
      "Std Accuracy: 0.0209\n"
     ]
    },
    {
     "name": "stderr",
     "output_type": "stream",
     "text": [
      "c:\\Users\\Daniel\\anaconda3\\envs\\py_adv\\Lib\\site-packages\\sklearn\\ensemble\\_weight_boosting.py:527: FutureWarning: The SAMME.R algorithm (the default) is deprecated and will be removed in 1.6. Use the SAMME algorithm to circumvent this warning.\n",
      "  warnings.warn(\n"
     ]
    }
   ],
   "source": [
    "from sklearn.model_selection import train_test_split\n",
    "from sklearn.ensemble import AdaBoostClassifier\n",
    "from sklearn.tree import DecisionTreeClassifier\n",
    "from sklearn.metrics import accuracy_score, classification_report\n",
    "\n",
    "  \n",
    "states = [27, 6728, 49122]\n",
    "accs = []\n",
    "features = df_features\n",
    "target = df_target\n",
    "\n",
    "for RANDOM_STATE in states:\n",
    "    X_train, X_test, y_train, y_test = train_test_split(\n",
    "        features, target, test_size = 0.2, random_state = RANDOM_STATE, stratify = target\n",
    "    )\n",
    "    \n",
    "    model = AdaBoostClassifier(\n",
    "    estimator=DecisionTreeClassifier(max_depth=1),\n",
    "    n_estimators=50\n",
    "    )\n",
    "    \n",
    "    model.fit(X_train, y_train)\n",
    "    preds = model.predict(X_test)\n",
    "    accs.append(accuracy_score(y_test, preds))\n",
    "    print(f\"Random State: {RANDOM_STATE}\")\n",
    "    print(classification_report(y_test, preds, zero_division=0.0))\n",
    "\n",
    "accs_mean = round(np.mean(accs), 4)\n",
    "accs_std = round(np.std(accs), 4)\n",
    "\n",
    "print(f\"Mean Accuracy: {accs_mean}\")\n",
    "print(f\"Std Accuracy: {accs_std}\")"
   ]
  }
 ],
 "metadata": {
  "kernelspec": {
   "display_name": "py_adv",
   "language": "python",
   "name": "python3"
  },
  "language_info": {
   "codemirror_mode": {
    "name": "ipython",
    "version": 3
   },
   "file_extension": ".py",
   "mimetype": "text/x-python",
   "name": "python",
   "nbconvert_exporter": "python",
   "pygments_lexer": "ipython3",
   "version": "3.12.7"
  }
 },
 "nbformat": 4,
 "nbformat_minor": 2
}
