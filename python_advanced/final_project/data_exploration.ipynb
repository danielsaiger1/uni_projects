{
 "cells": [
  {
   "cell_type": "markdown",
   "metadata": {},
   "source": [
    "<h1> Loading the Data </h1>"
   ]
  },
  {
   "cell_type": "code",
   "execution_count": null,
   "metadata": {},
   "outputs": [
    {
     "name": "stdout",
     "output_type": "stream",
     "text": [
      "Reading files...\n",
      "Files read:\n",
      "ce: (2205, 60)\n",
      "cp: (2205, 60)\n",
      "eps1: (2205, 6000)\n",
      "se: (2205, 60)\n",
      "vs1: (2205, 60)\n",
      "fs1: (2205, 600)\n",
      "fs2: (2205, 600)\n",
      "ps1: (2205, 6000)\n",
      "ps2: (2205, 6000)\n",
      "ps3: (2205, 6000)\n",
      "ps4: (2205, 6000)\n",
      "ps5: (2205, 6000)\n",
      "ps6: (2205, 6000)\n",
      "ts1: (2205, 60)\n",
      "ts2: (2205, 60)\n",
      "ts3: (2205, 60)\n",
      "ts4: (2205, 60)\n",
      "target: (2205, 5)\n"
     ]
    }
   ],
   "source": [
    "import pandas as pd\n",
    "import numpy as np\n",
    "import matplotlib.pyplot as plt\n",
    "from sklearn.ensemble import AdaBoostClassifier\n",
    "from sklearn.tree import DecisionTreeClassifier\n",
    "from sklearn.model_selection import train_test_split\n",
    "from sklearn.metrics import accuracy_score, classification_report\n",
    "\n",
    "#PS: Pressure, bar, 100 Hz --> 100 Messungen pro Sekunde\n",
    "#EPS: Motor power, W, 100 Hz \n",
    "#FS: Volume flow, l/min, 10 Hz --> 10 Messungen pro Sekunde\n",
    "#TS: Temperature, Celsius, 1 Hz --> 1 Messung pro Sekunde\n",
    "#VS: Vibration, mm/s, 1Hz\n",
    "#CE: Cooling efficiency (virtual), %, 1 Hz\n",
    "#CP: Cooling power (virtual), kW, 1 Hz\n",
    "#SE: Efficency factor, %, 1 Hz\n",
    "\n",
    "\n",
    "class DataProcessor:\n",
    "    def __init__(self, input_path, file_names):\n",
    "        self.input_path = input_path\n",
    "        self.file_names = file_names\n",
    "        \n",
    "    def read_files(self):\n",
    "        self.data = {}\n",
    "        print(\"Reading files...\")\n",
    "        for file in self.file_names:\n",
    "            with open(self.input_path + file + '.txt', 'r') as f:\n",
    "                self.data[file] = pd.read_csv(f, header=None, sep='\\t')\n",
    "        return self.data\n",
    "    \n",
    "    def print_shape(self):\n",
    "        print(\"Files read:\")\n",
    "        for file in self.data:\n",
    "            print(f\"{file}: {self.data[file].shape}\")\n",
    "            \n",
    "    def create_target_df(self):\n",
    "        target_columns = ['Cooler_Condition', 'Valve_Condition', \n",
    "                        'Internal_Pump_Leakage', 'Hydraulic_Accumulator', \n",
    "                        'Stable_Flag']\n",
    "        self.data['target'].columns = target_columns\n",
    "        self.valve_condition = self.data['target']['Valve_Condition']\n",
    "        #del self.data['target']\n",
    "        return self.valve_condition\n",
    "\n",
    "def process_data():\n",
    "    input_path = \"input_data/\"\n",
    "    file_names = [\n",
    "        \"ce\", \"cp\", \"eps1\", \"se\", \"vs1\", \n",
    "        \"fs1\", \"fs2\", \n",
    "        \"ps1\", \"ps2\", \"ps3\", \"ps4\", \"ps5\", \"ps6\",\n",
    "        \"ts1\", \"ts2\", \"ts3\", \"ts4\", \"target\"\n",
    "    ]\n",
    "    \n",
    "    processor = DataProcessor(input_path, file_names)\n",
    "    data = processor.read_files()\n",
    "    processor.print_shape()\n",
    "    df_target = processor.create_target_df()\n",
    "    df_target = processor.valve_condition\n",
    "    return data, df_target\n",
    "\n",
    "data, df_target = process_data()"
   ]
  },
  {
   "cell_type": "markdown",
   "metadata": {},
   "source": [
    "<h1> 1. Data Exploration </h1>"
   ]
  },
  {
   "cell_type": "markdown",
   "metadata": {},
   "source": [
    "<h2>CE sensor (1 Hz) </h2>"
   ]
  },
  {
   "cell_type": "code",
   "execution_count": null,
   "metadata": {},
   "outputs": [],
   "source": [
    "fig, ax = plt.subplots(figsize=(5, 3), dpi=100)\n",
    "\n",
    "for i in range(data['ce'].shape[0] - 1):\n",
    "    ax.plot(data['ce'].iloc[i], color='blue', linewidth=0.5)\n",
    "\n",
    "ax.plot(data['ce'].iloc[-1], color='red', linewidth=1, label='Last Series')\n",
    "\n",
    "ax.set_title('Cooling Efficency Data', fontsize=10)\n",
    "plt.xlabel(\"Time [s]\")\n",
    "plt.ylabel(\"Cooling Efficency [%]\")\n",
    "\n",
    "plt.tight_layout()\n",
    "plt.show()"
   ]
  },
  {
   "cell_type": "markdown",
   "metadata": {},
   "source": [
    "<h2>CP Sensor (1 Hz)</h2>"
   ]
  },
  {
   "cell_type": "code",
   "execution_count": null,
   "metadata": {},
   "outputs": [],
   "source": [
    "fig, ax = plt.subplots(figsize=(10, 4), dpi=100)\n",
    "\n",
    "for i in range(data['cp'].shape[0] - 1):\n",
    "    ax.plot(data['cp'].iloc[i], color='blue', linewidth=0.5)\n",
    "\n",
    "ax.plot(data['cp'].iloc[-1], color='red', linewidth=1, label='Last Series')\n",
    "\n",
    "ax.set_title('Cooling power (virtual) Data', fontsize=10)\n",
    "plt.xlabel(\"Time [s]\")\n",
    "plt.ylabel(\"Cooling Power [kW]\")\n",
    "\n",
    "plt.tight_layout()\n",
    "plt.show()"
   ]
  },
  {
   "cell_type": "markdown",
   "metadata": {},
   "source": [
    "<h2>VS Sensor (1 Hz)</h2>"
   ]
  },
  {
   "cell_type": "code",
   "execution_count": null,
   "metadata": {},
   "outputs": [],
   "source": [
    "fig, ax = plt.subplots(figsize=(10, 4), dpi=100)\n",
    "\n",
    "for i in range(data['vs1'].shape[0] - 1):\n",
    "    ax.plot(data['vs1'].iloc[i], color='blue', linewidth=0.5)\n",
    "\n",
    "ax.plot(data['vs1'].iloc[-1], color='red', linewidth=1, label='Last Series')\n",
    "\n",
    "ax.set_title('Vibration Data', fontsize=10)\n",
    "plt.xlabel(\"Time [s]\")\n",
    "plt.ylabel(\"Vibration [mm/s]\")\n",
    "\n",
    "plt.tight_layout()\n",
    "plt.show()"
   ]
  },
  {
   "cell_type": "markdown",
   "metadata": {},
   "source": [
    "<h2>SE Sensor (1 Hz)</h2>"
   ]
  },
  {
   "cell_type": "code",
   "execution_count": null,
   "metadata": {},
   "outputs": [],
   "source": [
    "fig, ax = plt.subplots(figsize=(10, 4), dpi=100)\n",
    "\n",
    "for i in range(data['se'].shape[0] - 1):\n",
    "    ax.plot(data['se'].iloc[i], color='blue', linewidth=0.5)\n",
    "\n",
    "ax.plot(data['se'].iloc[-1], color='red', linewidth=1, label='Last Series')\n",
    "\n",
    "ax.set_title('Efficency Factor Data', fontsize=10)\n",
    "plt.xlabel(\"Time [s]\")\n",
    "plt.ylabel(\"Efficency Factor [%]\")\n",
    "\n",
    "plt.tight_layout()\n",
    "plt.show()"
   ]
  },
  {
   "cell_type": "markdown",
   "metadata": {},
   "source": [
    "<h2>TS Sensors (1 Hz)</h2>"
   ]
  },
  {
   "cell_type": "code",
   "execution_count": null,
   "metadata": {},
   "outputs": [],
   "source": [
    "temp_sensors = ['ts1', 'ts2', 'ts3', 'ts4']\n",
    "\n",
    "fig, axes = plt.subplots(2, 2, figsize=(15, 8), dpi=100)\n",
    "axes = axes.flatten()\n",
    "\n",
    "for idx, s in enumerate(temp_sensors):\n",
    "    ax = axes[idx]\n",
    "    for i in range(data[s].shape[0] - 1):\n",
    "        ax.plot(data[s].iloc[i], color='blue', linewidth=0.5)\n",
    "    ax.plot(data[s].iloc[-1], color='red', linewidth=1)\n",
    "    \n",
    "    ax.set_title(f\"Temperature Data: {s}\")\n",
    "    ax.set_xlabel(\"Time [s]\")\n",
    "    ax.set_ylabel(\"Temperature [°C]\")\n",
    "\n",
    "plt.tight_layout()\n",
    "plt.show()"
   ]
  },
  {
   "cell_type": "markdown",
   "metadata": {},
   "source": [
    "<h2>FS Sensors (10 Hz)</h2>"
   ]
  },
  {
   "cell_type": "code",
   "execution_count": null,
   "metadata": {},
   "outputs": [],
   "source": [
    "vf_sensors = ['fs1', 'fs2']\n",
    "\n",
    "fig, axes = plt.subplots(1, 2, figsize=(15, 4), dpi=100)\n",
    "axes = axes.flatten()\n",
    "\n",
    "for idx, s in enumerate(vf_sensors):\n",
    "    ax = axes[idx]\n",
    "    for i in range(data[s].shape[0] - 1):\n",
    "        ax.plot(data[s].iloc[i], color='blue', linewidth=0.5)\n",
    "    ax.plot(data[s].iloc[-1], color='red', linewidth=1)\n",
    "    \n",
    "    ax.set_title(f\"Volume Flow Data: {s}\")\n",
    "    ax.set_xlabel(\"Time [x 100 ms]\")\n",
    "    ax.set_ylabel(\"Volume Flow [l/min]\")\n",
    "\n",
    "plt.tight_layout()\n",
    "plt.show()"
   ]
  },
  {
   "cell_type": "markdown",
   "metadata": {},
   "source": [
    "<h2>EPS Sensor (100 Hz)</h2>"
   ]
  },
  {
   "cell_type": "code",
   "execution_count": null,
   "metadata": {},
   "outputs": [],
   "source": [
    "fig, ax = plt.subplots(figsize=(10, 4), dpi=100)\n",
    "\n",
    "for i in range(data['eps1'].shape[0] - 1):\n",
    "    ax.plot(data['eps1'].iloc[i], color='blue', linewidth=0.5)\n",
    "\n",
    "ax.plot(data['eps1'].iloc[-1], color='red', linewidth=1, label='Last Series')\n",
    "\n",
    "ax.set_title('Motor power Data', fontsize=10)\n",
    "plt.xlabel(\"Time [x 10 ms]\")\n",
    "plt.ylabel(\"Motor power [W]\")\n",
    "\n",
    "plt.tight_layout()\n",
    "plt.show()"
   ]
  },
  {
   "cell_type": "markdown",
   "metadata": {},
   "source": [
    "<h2>PS Sensors (100 Hz)</h2>"
   ]
  },
  {
   "cell_type": "code",
   "execution_count": null,
   "metadata": {},
   "outputs": [],
   "source": [
    "ps_sensors = ['ps1', 'ps2', 'ps3', 'ps4', 'ps5', 'ps6']\n",
    "\n",
    "fig, axes = plt.subplots(3, 2, figsize=(15, 10), dpi=100)\n",
    "axes = axes.flatten()\n",
    "\n",
    "for idx, s in enumerate(ps_sensors):\n",
    "    ax = axes[idx]\n",
    "    for i in range(data[s].shape[0] - 1):\n",
    "        ax.plot(data[s].iloc[i], color='blue', linewidth=0.5)\n",
    "    ax.plot(data[s].iloc[-1], color='red', linewidth=1)\n",
    "    \n",
    "    ax.set_title(f\"Pressure Data: {s}\")\n",
    "    ax.set_xlabel(\"Time [x 10 ms]\")\n",
    "    ax.set_ylabel(\"Pressure [Bar]\")\n",
    "\n",
    "plt.tight_layout()\n",
    "plt.show()"
   ]
  }
 ],
 "metadata": {
  "kernelspec": {
   "display_name": "py_adv",
   "language": "python",
   "name": "python3"
  },
  "language_info": {
   "codemirror_mode": {
    "name": "ipython",
    "version": 3
   },
   "file_extension": ".py",
   "mimetype": "text/x-python",
   "name": "python",
   "nbconvert_exporter": "python",
   "pygments_lexer": "ipython3",
   "version": "3.12.7"
  }
 },
 "nbformat": 4,
 "nbformat_minor": 2
}
